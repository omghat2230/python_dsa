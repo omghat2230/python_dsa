{
  "cells": [
    {
      "cell_type": "markdown",
      "metadata": {
        "id": "view-in-github",
        "colab_type": "text"
      },
      "source": [
        "<a href=\"https://colab.research.google.com/github/omghat2230/python_dsa/blob/main/python_dsa.ipynb\" target=\"_parent\"><img src=\"https://colab.research.google.com/assets/colab-badge.svg\" alt=\"Open In Colab\"/></a>"
      ]
    },
    {
      "cell_type": "markdown",
      "metadata": {
        "id": "MCY3n4UrhS_k"
      },
      "source": [
        "#Features"
      ]
    },
    {
      "cell_type": "markdown",
      "source": [
        "# New Section"
      ],
      "metadata": {
        "id": "-axRMLCRYNfy"
      }
    },
    {
      "cell_type": "code",
      "execution_count": null,
      "metadata": {
        "colab": {
          "base_uri": "https://localhost:8080/",
          "height": 108
        },
        "collapsed": true,
        "id": "0zT2tA_xaOZk",
        "outputId": "ba2136e9-5234-417f-e755-5100d1440853"
      },
      "outputs": [
        {
          "ename": "IndentationError",
          "evalue": "unexpected indent (ipython-input-1-2751657742.py, line 2)",
          "output_type": "error",
          "traceback": [
            "\u001b[0;36m  File \u001b[0;32m\"/tmp/ipython-input-1-2751657742.py\"\u001b[0;36m, line \u001b[0;32m2\u001b[0m\n\u001b[0;31m    features:\u001b[0m\n\u001b[0m    ^\u001b[0m\n\u001b[0;31mIndentationError\u001b[0m\u001b[0;31m:\u001b[0m unexpected indent\n"
          ]
        }
      ],
      "source": [
        "# from pathlib import PurePosixPath\n",
        "# # what is python?\n",
        "# #    features:\n",
        "# #       high level programming lang.:human understanable\n",
        "#          easy to write,read\n",
        "#          a=10\n",
        "\n",
        "#         easy syntax,english like programming lang.\n",
        "\n",
        "#         dynamic type cast:\n",
        "\n",
        "#         object oriented program.\n",
        "#                     inheritance\n",
        "#                     poly\n",
        "#         platform independent\n",
        "#         interpreted\n",
        "\n",
        "#         portable\n"
      ]
    },
    {
      "cell_type": "code",
      "execution_count": null,
      "metadata": {
        "id": "r7INOvCqhre0"
      },
      "outputs": [],
      "source": [
        "java: 1994\n",
        "python :1991\n",
        "\n",
        "data :\n",
        "frontend dev\n",
        "back end\n",
        "\n",
        "data :  data scientist\n",
        "        data analytics\n",
        "\n"
      ]
    },
    {
      "cell_type": "code",
      "execution_count": null,
      "metadata": {
        "id": "U9b818l5mqDi"
      },
      "outputs": [],
      "source": []
    },
    {
      "cell_type": "code",
      "execution_count": null,
      "metadata": {
        "colab": {
          "base_uri": "https://localhost:8080/"
        },
        "id": "yX77AehCb4ov",
        "outputId": "bfcf6bec-b569-4c38-b55c-27a62b4ddd5a"
      },
      "outputs": [
        {
          "name": "stdout",
          "output_type": "stream",
          "text": [
            "hwl world\n"
          ]
        }
      ],
      "source": [
        "print(\"hwl world\")"
      ]
    },
    {
      "cell_type": "code",
      "execution_count": null,
      "metadata": {
        "id": "VkJ15nplbBex"
      },
      "outputs": [],
      "source": [
        "1010=10"
      ]
    },
    {
      "cell_type": "code",
      "execution_count": null,
      "metadata": {
        "colab": {
          "base_uri": "https://localhost:8080/"
        },
        "id": "tZB_MM5Ka4PM",
        "outputId": "762c1483-5ba9-4afc-baf7-0919888c542a"
      },
      "outputs": [
        {
          "name": "stdout",
          "output_type": "stream",
          "text": [
            "<class 'str'>\n"
          ]
        }
      ],
      "source": [
        "a=10\n",
        "a=\"rafik\"\n",
        "print(type(a));"
      ]
    },
    {
      "cell_type": "code",
      "execution_count": null,
      "metadata": {
        "id": "sBOSAmxQb-zn"
      },
      "outputs": [],
      "source": []
    },
    {
      "cell_type": "code",
      "execution_count": null,
      "metadata": {
        "id": "Q06mDYbVhPYU"
      },
      "outputs": [],
      "source": []
    },
    {
      "cell_type": "markdown",
      "metadata": {
        "id": "fL1SttIthQJD"
      },
      "source": [
        "#tokens in python"
      ]
    },
    {
      "cell_type": "code",
      "execution_count": null,
      "metadata": {
        "id": "OJZUDYu6mrPi"
      },
      "outputs": [],
      "source": [
        "# smallest unit in a program which has special meaning\n",
        "         1):identifier: named of varaible,function,class name\n",
        "               variable\n",
        "\n",
        "          rules:  a-z,A-Z\n",
        "\n",
        "          2):keywords in python : reserved words,predefined words which has special meaning,\n",
        "          cannot be use as variable namee\n",
        "\n",
        "          3)comments :\n",
        "               single line ; #\n",
        "               multi line : \"\"\" msg\"\"\",''' msg'''\n",
        "\n",
        "          4)constant/literals:\n",
        "                a= 10  #integer literals\n",
        "                name=\"rafik\" #string literals\n",
        "                per=99.20    #float literals\n",
        "                lst=[1,3]    #list literals\n",
        "          5)special symbols : _,%<&<@<!</\n",
        "          6)operators :\n",
        "                   operators are use to perform operations: mathematical,computational\n",
        "\n",
        "                   1)arithmetic : +,-,*,/,%,**,//\n",
        "                   2)assignment :  =, +=,-=,*=,/=,%=,**=,//=  #short hand operators\n",
        "                   3)relational/camparision: <,>,<=,>=,==,!=\n",
        "                   4)logical operator : and,or,not\n",
        "                   5)bitwise operator : &,|,^\n",
        "                   6)membership operator : in,not in\n",
        "                   7)identity operator : is ,is not\n"
      ]
    },
    {
      "cell_type": "code",
      "execution_count": null,
      "metadata": {
        "id": "tKeo6FmUYL05"
      },
      "outputs": [],
      "source": []
    },
    {
      "cell_type": "code",
      "execution_count": null,
      "metadata": {
        "colab": {
          "base_uri": "https://localhost:8080/"
        },
        "id": "KLQAzFCMYMZq",
        "outputId": "57c7c1ed-3c06-475b-88d0-ec5cd187799d"
      },
      "outputs": [
        {
          "name": "stdout",
          "output_type": "stream",
          "text": [
            "10758024\n",
            "10758024\n"
          ]
        },
        {
          "data": {
            "text/plain": [
              "False"
            ]
          },
          "execution_count": 4,
          "metadata": {},
          "output_type": "execute_result"
        }
      ],
      "source": [
        "a=10\n",
        "b=10\n",
        "print(id(a))\n",
        "print(id(b))\n",
        "a is not b"
      ]
    },
    {
      "cell_type": "code",
      "execution_count": null,
      "metadata": {
        "colab": {
          "base_uri": "https://localhost:8080/"
        },
        "id": "Sty_tPC5X6ux",
        "outputId": "a7ee2924-a6e8-4e1a-b7e9-27109a39cbfd"
      },
      "outputs": [
        {
          "data": {
            "text/plain": [
              "False"
            ]
          },
          "execution_count": 39,
          "metadata": {},
          "output_type": "execute_result"
        }
      ],
      "source": [
        "s=\"rafik\"\n",
        "\"r\" not in s"
      ]
    },
    {
      "cell_type": "code",
      "execution_count": null,
      "metadata": {
        "colab": {
          "base_uri": "https://localhost:8080/"
        },
        "id": "eqRaf2jK1IMy",
        "outputId": "d838fc26-049c-4bf0-c145-faccc9021173"
      },
      "outputs": [
        {
          "data": {
            "text/plain": [
              "10"
            ]
          },
          "execution_count": 22,
          "metadata": {},
          "output_type": "execute_result"
        }
      ],
      "source": [
        "#bitwise and (&)\n",
        "a=10  #1010\n",
        "b=10  #1010\n",
        "     #------\n",
        "      # 1 0 1 0=10\n",
        "a&b"
      ]
    },
    {
      "cell_type": "code",
      "execution_count": null,
      "metadata": {
        "colab": {
          "base_uri": "https://localhost:8080/"
        },
        "id": "Rr4BRb4P0Yxf",
        "outputId": "1d309855-12cd-4ccf-e19e-a773eec8cfd0"
      },
      "outputs": [
        {
          "data": {
            "text/plain": [
              "11"
            ]
          },
          "execution_count": 23,
          "metadata": {},
          "output_type": "execute_result"
        }
      ],
      "source": [
        "#bitwise and (&)\n",
        "a=10  #1010\n",
        "b=11  #1011\n",
        "     #------\n",
        "      # 1 0 1 1=11\n",
        "a|b"
      ]
    },
    {
      "cell_type": "code",
      "execution_count": null,
      "metadata": {
        "id": "hRASchej1vaR"
      },
      "outputs": [],
      "source": []
    },
    {
      "cell_type": "code",
      "execution_count": null,
      "metadata": {
        "colab": {
          "base_uri": "https://localhost:8080/"
        },
        "id": "LH0T2d8j1-jE",
        "outputId": "0fe59f5f-604e-4fba-ec84-7c33c6c1aea1"
      },
      "outputs": [
        {
          "data": {
            "text/plain": [
              "1"
            ]
          },
          "execution_count": 25,
          "metadata": {},
          "output_type": "execute_result"
        }
      ],
      "source": [
        "#bitwise and (&)\n",
        "a=10  #1010\n",
        "b=11  #1011\n",
        "     #------\n",
        "      # 1 0 1 0=10\n",
        "a^b"
      ]
    },
    {
      "cell_type": "code",
      "execution_count": null,
      "metadata": {
        "colab": {
          "base_uri": "https://localhost:8080/"
        },
        "id": "RKdc2lSTz9sG",
        "outputId": "e82cb54d-e45e-4f99-f8b1-303b7463e9de"
      },
      "outputs": [
        {
          "data": {
            "text/plain": [
              "True"
            ]
          },
          "execution_count": 19,
          "metadata": {},
          "output_type": "execute_result"
        }
      ],
      "source": [
        "#camparision:True/false\n",
        "a=10\n",
        "b=10\n",
        "a<=b and a==b"
      ]
    },
    {
      "cell_type": "code",
      "execution_count": null,
      "metadata": {
        "id": "7vn6aY-c2kdd"
      },
      "outputs": [],
      "source": []
    },
    {
      "cell_type": "code",
      "execution_count": null,
      "metadata": {
        "colab": {
          "base_uri": "https://localhost:8080/"
        },
        "id": "7dWy6hhuzStK",
        "outputId": "da7a758a-f39a-44c0-fa72-99bce52e102f"
      },
      "outputs": [
        {
          "name": "stdout",
          "output_type": "stream",
          "text": [
            "3\n"
          ]
        }
      ],
      "source": [
        "a=10\n",
        "a-=7 #a=a+10\n",
        "print(a)"
      ]
    },
    {
      "cell_type": "code",
      "execution_count": null,
      "metadata": {
        "colab": {
          "base_uri": "https://localhost:8080/"
        },
        "id": "zGlA3WNhymU_",
        "outputId": "968a97c3-0b2e-4d1e-f685-2faae8023ec9"
      },
      "outputs": [
        {
          "data": {
            "text/plain": [
              "9"
            ]
          },
          "execution_count": 10,
          "metadata": {},
          "output_type": "execute_result"
        }
      ],
      "source": [
        "a=3\n",
        "a**2  #a^2  (power operator)"
      ]
    },
    {
      "cell_type": "code",
      "execution_count": null,
      "metadata": {
        "colab": {
          "base_uri": "https://localhost:8080/"
        },
        "id": "8DK4LUMQyzDT",
        "outputId": "2348407d-bc6f-4c52-cbce-98ca49227bb4"
      },
      "outputs": [
        {
          "data": {
            "text/plain": [
              "5"
            ]
          },
          "execution_count": 12,
          "metadata": {},
          "output_type": "execute_result"
        }
      ],
      "source": [
        "a=10\n",
        "b=2\n",
        "a//b   #floor division : absulute value"
      ]
    },
    {
      "cell_type": "code",
      "execution_count": null,
      "metadata": {
        "colab": {
          "base_uri": "https://localhost:8080/",
          "height": 178
        },
        "id": "VwZfKlLavX-b",
        "outputId": "db108ae0-fddd-4d12-d002-f799dd6fbe3a"
      },
      "outputs": [
        {
          "ename": "TypeError",
          "evalue": "'int' object is not callable",
          "output_type": "error",
          "traceback": [
            "\u001b[0;31m---------------------------------------------------------------------------\u001b[0m",
            "\u001b[0;31mTypeError\u001b[0m                                 Traceback (most recent call last)",
            "\u001b[0;32m/tmp/ipython-input-47-2249469247.py\u001b[0m in \u001b[0;36m<cell line: 0>\u001b[0;34m()\u001b[0m\n\u001b[1;32m      2\u001b[0m \u001b[0;34m\u001b[0m\u001b[0m\n\u001b[1;32m      3\u001b[0m \u001b[0mprin\u001b[0m\u001b[0;34m=\u001b[0m\u001b[0;36m10\u001b[0m\u001b[0;34m\u001b[0m\u001b[0;34m\u001b[0m\u001b[0m\n\u001b[0;32m----> 4\u001b[0;31m \u001b[0mprint\u001b[0m\u001b[0;34m(\u001b[0m\u001b[0;34m\"value of print\"\u001b[0m\u001b[0;34m,\u001b[0m\u001b[0mprin\u001b[0m\u001b[0;34m)\u001b[0m\u001b[0;34m\u001b[0m\u001b[0;34m\u001b[0m\u001b[0m\n\u001b[0m",
            "\u001b[0;31mTypeError\u001b[0m: 'int' object is not callable"
          ]
        }
      ],
      "source": [
        "#keyword:\n",
        "\n",
        "for=10\n",
        "print(\"value of print\",for)"
      ]
    },
    {
      "cell_type": "code",
      "execution_count": null,
      "metadata": {
        "colab": {
          "base_uri": "https://localhost:8080/"
        },
        "id": "ba0f86IuvxjJ",
        "outputId": "ddb79955-b0f5-48ee-9db3-5b27202702e8"
      },
      "outputs": [
        {
          "name": "stdout",
          "output_type": "stream",
          "text": [
            "['False', 'None', 'True', 'and', 'as', 'assert', 'async', 'await', 'break', 'class', 'continue', 'def', 'del', 'elif', 'else', 'except', 'finally', 'for', 'from', 'global', 'if', 'import', 'in', 'is', 'lambda', 'nonlocal', 'not', 'or', 'pass', 'raise', 'return', 'try', 'while', 'with', 'yield']\n",
            "len of the list 35\n"
          ]
        }
      ],
      "source": [
        "import keyword\n",
        "lst=keyword.kwlist\n",
        "print(lst)\n",
        "print(\"len of the list\",len(lst))"
      ]
    },
    {
      "cell_type": "code",
      "execution_count": null,
      "metadata": {
        "colab": {
          "base_uri": "https://localhost:8080/"
        },
        "id": "DK_U9n7Fv6g3",
        "outputId": "cc57eb0d-9ea3-4c94-c130-e1acd8ffa0c7"
      },
      "outputs": [
        {
          "name": "stdout",
          "output_type": "stream",
          "text": [
            "Python 3.11.13\n"
          ]
        }
      ],
      "source": [
        "!python --version\n"
      ]
    },
    {
      "cell_type": "code",
      "execution_count": null,
      "metadata": {
        "id": "96cSHMwWwRmz"
      },
      "outputs": [],
      "source": [
        "python 2: 32\n",
        "python 3: 33\n",
        "python 3.10 : 35\n",
        "python 3.13 : 36"
      ]
    },
    {
      "cell_type": "code",
      "execution_count": null,
      "metadata": {
        "colab": {
          "base_uri": "https://localhost:8080/"
        },
        "id": "bgx4n2m9w9ps",
        "outputId": "31414a70-a3af-4cd1-cdd5-c69b8f9ca376"
      },
      "outputs": [
        {
          "name": "stdout",
          "output_type": "stream",
          "text": [
            "True\n"
          ]
        }
      ],
      "source": [
        "a=True\n",
        "print(a)"
      ]
    },
    {
      "cell_type": "code",
      "execution_count": null,
      "metadata": {
        "colab": {
          "base_uri": "https://localhost:8080/",
          "height": 108
        },
        "id": "tyMrMOWSnuhP",
        "outputId": "f99aa050-628e-413e-9110-db8fe8d18846"
      },
      "outputs": [
        {
          "ename": "SyntaxError",
          "evalue": "invalid syntax (ipython-input-12-4268003097.py, line 1)",
          "output_type": "error",
          "traceback": [
            "\u001b[0;36m  File \u001b[0;32m\"/tmp/ipython-input-12-4268003097.py\"\u001b[0;36m, line \u001b[0;32m1\u001b[0m\n\u001b[0;31m    n!ame=\"rafik\"\u001b[0m\n\u001b[0m     ^\u001b[0m\n\u001b[0;31mSyntaxError\u001b[0m\u001b[0;31m:\u001b[0m invalid syntax\n"
          ]
        }
      ],
      "source": [
        "n!ame=\"rafik\"\n",
        "print(n!ame)"
      ]
    },
    {
      "cell_type": "code",
      "execution_count": null,
      "metadata": {
        "id": "QNxP-hA1n8DJ"
      },
      "outputs": [],
      "source": [
        "name=\"rafik\"\n",
        "print(n!ame)"
      ]
    },
    {
      "cell_type": "code",
      "execution_count": null,
      "metadata": {
        "id": "BI1dxc25n-xW"
      },
      "outputs": [],
      "source": [
        "first_name=\"rafik\""
      ]
    },
    {
      "cell_type": "code",
      "execution_count": null,
      "metadata": {
        "colab": {
          "base_uri": "https://localhost:8080/"
        },
        "id": "pPcFgPSpnUOn",
        "outputId": "cee69b32-1ffc-426c-ce5f-3e4b9ee028b1"
      },
      "outputs": [
        {
          "name": "stdout",
          "output_type": "stream",
          "text": [
            "10\n"
          ]
        }
      ],
      "source": [
        "Num=10\n",
        "num=20\n",
        "print(Num)\n"
      ]
    },
    {
      "cell_type": "code",
      "execution_count": null,
      "metadata": {
        "colab": {
          "base_uri": "https://localhost:8080/",
          "height": 108
        },
        "id": "iFuOHQGVoFze",
        "outputId": "496dc957-ea5c-4def-d863-635e35fffb7b"
      },
      "outputs": [
        {
          "ename": "SyntaxError",
          "evalue": "invalid decimal literal (ipython-input-15-609403058.py, line 1)",
          "output_type": "error",
          "traceback": [
            "\u001b[0;36m  File \u001b[0;32m\"/tmp/ipython-input-15-609403058.py\"\u001b[0;36m, line \u001b[0;32m1\u001b[0m\n\u001b[0;31m    1num=10\u001b[0m\n\u001b[0m    ^\u001b[0m\n\u001b[0;31mSyntaxError\u001b[0m\u001b[0;31m:\u001b[0m invalid decimal literal\n"
          ]
        }
      ],
      "source": [
        "1num=10\n",
        "print(1num)"
      ]
    },
    {
      "cell_type": "code",
      "execution_count": null,
      "metadata": {
        "colab": {
          "base_uri": "https://localhost:8080/"
        },
        "id": "51jl3PcyoPOn",
        "outputId": "186c9b78-2e50-463c-fea9-4fda3bbf2f02"
      },
      "outputs": [
        {
          "name": "stdout",
          "output_type": "stream",
          "text": [
            "20\n"
          ]
        }
      ],
      "source": [
        "n1=20\n",
        "print(n1)"
      ]
    },
    {
      "cell_type": "code",
      "execution_count": null,
      "metadata": {
        "id": "xoJMAwNDmwSf"
      },
      "outputs": [],
      "source": [
        "\n",
        "from ast import operator\n",
        "a=10\n",
        "a :    variable/identifier\n",
        "=  : assignment operator\n",
        "10  :  constant/literals/value"
      ]
    },
    {
      "cell_type": "code",
      "execution_count": null,
      "metadata": {
        "colab": {
          "base_uri": "https://localhost:8080/"
        },
        "id": "lnt-XwNim--o",
        "outputId": "90f9f6df-97c1-4ad6-cdb0-6808ed0ba2ba"
      },
      "outputs": [
        {
          "name": "stdout",
          "output_type": "stream",
          "text": [
            "10\n"
          ]
        }
      ],
      "source": [
        "a=10\n",
        "print(a)"
      ]
    },
    {
      "cell_type": "code",
      "execution_count": null,
      "metadata": {
        "id": "Z6VB0RlmnBL9"
      },
      "outputs": [],
      "source": [
        "#output function\n",
        "\n",
        "print():"
      ]
    },
    {
      "cell_type": "code",
      "execution_count": null,
      "metadata": {
        "colab": {
          "base_uri": "https://localhost:8080/"
        },
        "id": "yqw9gPEmosuZ",
        "outputId": "75068989-2268-47f4-a29b-76b07760d6b8"
      },
      "outputs": [
        {
          "name": "stdout",
          "output_type": "stream",
          "text": [
            "1 2\n"
          ]
        }
      ],
      "source": [
        "hello=1\n",
        "world=2\n",
        "print(hello,world)"
      ]
    },
    {
      "cell_type": "code",
      "execution_count": null,
      "metadata": {
        "colab": {
          "base_uri": "https://localhost:8080/",
          "height": 108
        },
        "id": "X7eFziUjovJA",
        "outputId": "5dcf1698-64ed-41cd-d01f-03ee46552cb5"
      },
      "outputs": [
        {
          "ename": "SyntaxError",
          "evalue": "unterminated string literal (detected at line 1) (ipython-input-23-1076583284.py, line 1)",
          "output_type": "error",
          "traceback": [
            "\u001b[0;36m  File \u001b[0;32m\"/tmp/ipython-input-23-1076583284.py\"\u001b[0;36m, line \u001b[0;32m1\u001b[0m\n\u001b[0;31m    print(\"rafik this\u001b[0m\n\u001b[0m          ^\u001b[0m\n\u001b[0;31mSyntaxError\u001b[0m\u001b[0;31m:\u001b[0m unterminated string literal (detected at line 1)\n"
          ]
        }
      ],
      "source": [
        "print(\"rafik this\n",
        " side\")"
      ]
    },
    {
      "cell_type": "code",
      "execution_count": null,
      "metadata": {
        "colab": {
          "base_uri": "https://localhost:8080/",
          "height": 108
        },
        "id": "zGz6SwxBpCu2",
        "outputId": "fdeef034-e1ee-494c-8e13-499c1e12ce72"
      },
      "outputs": [
        {
          "ename": "SyntaxError",
          "evalue": "unterminated string literal (detected at line 1) (ipython-input-24-777886363.py, line 1)",
          "output_type": "error",
          "traceback": [
            "\u001b[0;36m  File \u001b[0;32m\"/tmp/ipython-input-24-777886363.py\"\u001b[0;36m, line \u001b[0;32m1\u001b[0m\n\u001b[0;31m    print('from campus\u001b[0m\n\u001b[0m          ^\u001b[0m\n\u001b[0;31mSyntaxError\u001b[0m\u001b[0;31m:\u001b[0m unterminated string literal (detected at line 1)\n"
          ]
        }
      ],
      "source": [
        "print('from campus\n",
        " credentials')"
      ]
    },
    {
      "cell_type": "code",
      "execution_count": null,
      "metadata": {
        "colab": {
          "base_uri": "https://localhost:8080/"
        },
        "id": "SzbSZ7bupIPe",
        "outputId": "cc88b3db-9ece-409f-e84d-07220fb4a496"
      },
      "outputs": [
        {
          "name": "stdout",
          "output_type": "stream",
          "text": [
            " delhi is capital \n",
            "dsfklamkl\n",
            "asdklfjklas\n",
            "of india\n"
          ]
        }
      ],
      "source": [
        "print(''' delhi is capital\n",
        "dsfklamkl\n",
        "asdklfjklas\n",
        "of india''')"
      ]
    },
    {
      "cell_type": "code",
      "execution_count": null,
      "metadata": {
        "colab": {
          "base_uri": "https://localhost:8080/"
        },
        "id": "2fnYEZzjpOfT",
        "outputId": "36ac90f1-62b5-49d1-bc9c-5b845cf93b18"
      },
      "outputs": [
        {
          "name": "stdout",
          "output_type": "stream",
          "text": [
            " delhi is capital\n",
            "asdkfajk\n",
            "adskjfakd\n",
            "adskfka of india\n"
          ]
        }
      ],
      "source": [
        "print(\"\"\" delhi is capital\n",
        "asdkfajk\n",
        "adskjfakd\n",
        "adskfka of india\"\"\")"
      ]
    },
    {
      "cell_type": "code",
      "execution_count": null,
      "metadata": {
        "colab": {
          "base_uri": "https://localhost:8080/"
        },
        "id": "CRtzkfjypVjk",
        "outputId": "8b9801bc-ec81-42dd-e351-2e961e8f1464"
      },
      "outputs": [
        {
          "name": "stdout",
          "output_type": "stream",
          "text": [
            "30\n"
          ]
        }
      ],
      "source": [
        "#formating:\n",
        "print(10+20)"
      ]
    },
    {
      "cell_type": "code",
      "execution_count": null,
      "metadata": {
        "colab": {
          "base_uri": "https://localhost:8080/"
        },
        "id": "c_iNKQ-op5Wx",
        "outputId": "6e277b5f-ea98-4784-bba3-f613a0356070"
      },
      "outputs": [
        {
          "name": "stdout",
          "output_type": "stream",
          "text": [
            "value of a 10\n",
            "value of b 20\n",
            "sum= 30\n"
          ]
        }
      ],
      "source": [
        "# addition of two number  : single line comment\n",
        "a=10  #initialization\n",
        "b=20\n",
        "print(\"value of a\",a)\n",
        "print(\"value of b\",b)\n",
        "print(\"sum=\",a+b)\n"
      ]
    },
    {
      "cell_type": "code",
      "execution_count": null,
      "metadata": {
        "colab": {
          "base_uri": "https://localhost:8080/"
        },
        "id": "BL92ALHburFD",
        "outputId": "7af1846b-8521-4b62-c9c3-643f901fa2a7"
      },
      "outputs": [
        {
          "name": "stdout",
          "output_type": "stream",
          "text": [
            "hwll\n"
          ]
        }
      ],
      "source": [
        "\"\"\"jhkasd\n",
        "fajsdhfkljl\n",
        "adkfhalkdf\n",
        "asdlkflasjd\"\"\"\n",
        "print(\"hwll\")"
      ]
    },
    {
      "cell_type": "code",
      "execution_count": null,
      "metadata": {
        "colab": {
          "base_uri": "https://localhost:8080/",
          "height": 35
        },
        "id": "pRbnO0JnvBQ5",
        "outputId": "354d9b1d-be4e-4a0d-fa95-48938b8fd988"
      },
      "outputs": [
        {
          "data": {
            "application/vnd.google.colaboratory.intrinsic+json": {
              "type": "string"
            },
            "text/plain": [
              "\"asduifajsdf['asdhif\\\\\\nasdjhfoia\\nasdjklfhkla']\\nadsjkfjakdsf\""
            ]
          },
          "execution_count": 45,
          "metadata": {},
          "output_type": "execute_result"
        }
      ],
      "source": [
        "'''asduifajsdf['asdhif\\\\\n",
        "asdjhfoia\n",
        "asdjklfhkla']\n",
        "adsjkfjakdsf'''"
      ]
    },
    {
      "cell_type": "code",
      "execution_count": null,
      "metadata": {
        "colab": {
          "base_uri": "https://localhost:8080/"
        },
        "id": "X2d0Y7m9qEbY",
        "outputId": "94923a06-3bf2-449a-9db6-03fe698f2348"
      },
      "outputs": [
        {
          "name": "stdout",
          "output_type": "stream",
          "text": [
            "value of a 10 value of b 20 addition : 30\n"
          ]
        }
      ],
      "source": [
        "a=10\n",
        "b=20\n",
        "print(\"value of a\",a,\"value of b\",b,\"addition :\",a+b)\n"
      ]
    },
    {
      "cell_type": "code",
      "execution_count": null,
      "metadata": {
        "colab": {
          "base_uri": "https://localhost:8080/"
        },
        "id": "QXxBCcByq6fF",
        "outputId": "2ee2c4ea-4dc2-471a-a8a2-18d3f0d807a3"
      },
      "outputs": [
        {
          "name": "stdout",
          "output_type": "stream",
          "text": [
            "value of a :10 and b : 20 and sum=30 \n"
          ]
        }
      ],
      "source": [
        "print(f\"value of a :{a} and b : {b} and sum={a+b} \")"
      ]
    },
    {
      "cell_type": "code",
      "execution_count": null,
      "metadata": {
        "colab": {
          "base_uri": "https://localhost:8080/",
          "height": 108
        },
        "id": "SN9tv9N4rNrG",
        "outputId": "3b257f3f-ef21-4f4c-e8b7-bae0d7d6afb5"
      },
      "outputs": [
        {
          "ename": "SyntaxError",
          "evalue": "invalid syntax (ipython-input-41-496669320.py, line 3)",
          "output_type": "error",
          "traceback": [
            "\u001b[0;36m  File \u001b[0;32m\"/tmp/ipython-input-41-496669320.py\"\u001b[0;36m, line \u001b[0;32m3\u001b[0m\n\u001b[0;31m    *first(name, :, rafik, and, last)\u001b[0m\n\u001b[0m                 ^\u001b[0m\n\u001b[0;31mSyntaxError\u001b[0m\u001b[0;31m:\u001b[0m invalid syntax\n"
          ]
        }
      ],
      "source": [
        "f_name=\"rafik\"\n",
        "l_name=\"shah\"\n",
        "/*first name : rafik and last\n",
        " name=shah and\n",
        " full name :rafik shah*/"
      ]
    },
    {
      "cell_type": "code",
      "execution_count": null,
      "metadata": {
        "id": "wBdwSiLIso8t"
      },
      "outputs": [],
      "source": [
        "n1=10\n",
        "n2=20"
      ]
    },
    {
      "cell_type": "code",
      "execution_count": null,
      "metadata": {
        "colab": {
          "base_uri": "https://localhost:8080/"
        },
        "id": "Bq1dxaXMs1Cy",
        "outputId": "56f4b8e6-03bf-4898-8fbc-b6c234f53676"
      },
      "outputs": [
        {
          "name": "stdout",
          "output_type": "stream",
          "text": [
            "40\n"
          ]
        }
      ],
      "source": [
        "print(20+20)"
      ]
    },
    {
      "cell_type": "code",
      "execution_count": null,
      "metadata": {
        "colab": {
          "base_uri": "https://localhost:8080/"
        },
        "id": "61yVYJiXtI3X",
        "outputId": "c844c633-056f-464c-f81c-c4013cfa9fff"
      },
      "outputs": [
        {
          "name": "stdout",
          "output_type": "stream",
          "text": [
            "rafik shah\n"
          ]
        }
      ],
      "source": [
        "name=\"rafik shah\"\n",
        "print(name)"
      ]
    },
    {
      "cell_type": "code",
      "execution_count": null,
      "metadata": {
        "colab": {
          "base_uri": "https://localhost:8080/"
        },
        "id": "HsspdnHUs2KP",
        "outputId": "09c454d4-4d84-4fda-d42e-8a953cc6d424"
      },
      "outputs": [
        {
          "name": "stdout",
          "output_type": "stream",
          "text": [
            "delhi is capital of india\n"
          ]
        }
      ],
      "source": [
        "name='delhi is capital of india'\n",
        "print(name)"
      ]
    },
    {
      "cell_type": "code",
      "execution_count": null,
      "metadata": {
        "colab": {
          "base_uri": "https://localhost:8080/"
        },
        "id": "Lo9Ek1jxuB63",
        "outputId": "beb0fe61-4ffc-4047-b29f-c8c155fef46f"
      },
      "outputs": [
        {
          "name": "stdout",
          "output_type": "stream",
          "text": [
            "delhi is \n",
            "capital of india\n"
          ]
        }
      ],
      "source": [
        "name='''delhi is\n",
        "capital\n",
        "of india'''\n",
        "print(name)"
      ]
    },
    {
      "cell_type": "code",
      "execution_count": null,
      "metadata": {
        "colab": {
          "base_uri": "https://localhost:8080/"
        },
        "id": "gruHyqUOuHgT",
        "outputId": "49ffe6d6-ea18-4359-a285-77b0e3f248e5"
      },
      "outputs": [
        {
          "name": "stdout",
          "output_type": "stream",
          "text": [
            "delhi is \n",
            "capital \n",
            "of india\n"
          ]
        }
      ],
      "source": [
        "name=\"\"\"delhi is\n",
        "capital\n",
        "of india\"\"\"\n",
        "print(name)"
      ]
    },
    {
      "cell_type": "code",
      "execution_count": null,
      "metadata": {
        "id": "Nppst_BnuMNr"
      },
      "outputs": [],
      "source": []
    },
    {
      "cell_type": "code",
      "execution_count": null,
      "metadata": {
        "id": "QRntkTHZ2uW0"
      },
      "outputs": [],
      "source": []
    },
    {
      "cell_type": "markdown",
      "metadata": {
        "id": "i8chCtNm2r4v"
      },
      "source": [
        "#data types in python"
      ]
    },
    {
      "cell_type": "code",
      "execution_count": null,
      "metadata": {
        "colab": {
          "base_uri": "https://localhost:8080/"
        },
        "id": "0ycU4hrr2vy-",
        "outputId": "5040b778-6c91-4a0a-9173-9560228b0022"
      },
      "outputs": [
        {
          "data": {
            "text/plain": [
              "str"
            ]
          },
          "execution_count": 26,
          "metadata": {},
          "output_type": "execute_result"
        }
      ],
      "source": [
        "s='r'\n",
        "type(s)"
      ]
    },
    {
      "cell_type": "code",
      "execution_count": null,
      "metadata": {
        "colab": {
          "base_uri": "https://localhost:8080/"
        },
        "id": "t_C34t7B3LoW",
        "outputId": "f8523368-e569-4c86-fe6e-5b2b3a37ea7d"
      },
      "outputs": [
        {
          "data": {
            "text/plain": [
              "float"
            ]
          },
          "execution_count": 29,
          "metadata": {},
          "output_type": "execute_result"
        }
      ],
      "source": [
        "n1=12345678765432123456.5\n",
        "type(n1)"
      ]
    },
    {
      "cell_type": "code",
      "execution_count": null,
      "metadata": {
        "id": "FYodXnR-3S0n"
      },
      "outputs": [],
      "source": [
        "numeric data type : int: int32,int64,float,complex\n",
        "sequence data type: string,list,tuple\n",
        "set datatype : set ,frozenset\n",
        "mapping datatype: dictionary\n",
        "boolean data type: True ,False\n"
      ]
    },
    {
      "cell_type": "code",
      "execution_count": null,
      "metadata": {
        "id": "XSCwRIC65gCN"
      },
      "outputs": [],
      "source": []
    },
    {
      "cell_type": "code",
      "execution_count": null,
      "metadata": {
        "colab": {
          "base_uri": "https://localhost:8080/",
          "height": 35
        },
        "id": "9PZsHpo35CP0",
        "outputId": "6157399c-d19d-4880-8549-4787bd2cc982"
      },
      "outputs": [
        {
          "data": {
            "application/vnd.google.colaboratory.intrinsic+json": {
              "type": "string"
            },
            "text/plain": [
              "'rafik'"
            ]
          },
          "execution_count": 43,
          "metadata": {},
          "output_type": "execute_result"
        }
      ],
      "source": [
        "dict={\"name\":\"rafik\"}\n",
        "dict[\"name\"]"
      ]
    },
    {
      "cell_type": "code",
      "execution_count": null,
      "metadata": {
        "colab": {
          "base_uri": "https://localhost:8080/",
          "height": 35
        },
        "id": "wIuH_Uro4bSf",
        "outputId": "3bc4abe6-c1f9-463b-d39c-7d3d171de9a4"
      },
      "outputs": [
        {
          "data": {
            "application/vnd.google.colaboratory.intrinsic+json": {
              "type": "string"
            },
            "text/plain": [
              "'r'"
            ]
          },
          "execution_count": 37,
          "metadata": {},
          "output_type": "execute_result"
        }
      ],
      "source": [
        "s=\"rafik\"\n",
        "s[0]"
      ]
    },
    {
      "cell_type": "code",
      "execution_count": null,
      "metadata": {
        "colab": {
          "base_uri": "https://localhost:8080/"
        },
        "id": "3MY1aNqG35f4",
        "outputId": "9e06e8d2-3c5c-4d51-d57d-8d11e8571c2e"
      },
      "outputs": [
        {
          "name": "stdout",
          "output_type": "stream",
          "text": [
            "(1+4j)\n",
            "<class 'complex'>\n"
          ]
        }
      ],
      "source": [
        "c=4j+1\n",
        "print(c)\n",
        "print(type(c))"
      ]
    },
    {
      "cell_type": "code",
      "execution_count": null,
      "metadata": {
        "colab": {
          "base_uri": "https://localhost:8080/"
        },
        "id": "A9VyoTe84irK",
        "outputId": "b79e967c-78a2-4c9c-e68d-1f2855bce366"
      },
      "outputs": [
        {
          "data": {
            "text/plain": [
              "list"
            ]
          },
          "execution_count": 44,
          "metadata": {},
          "output_type": "execute_result"
        }
      ],
      "source": [
        "lst=[1,23,4]\n",
        "lst[-1]\n",
        "type(lst)"
      ]
    },
    {
      "cell_type": "code",
      "execution_count": null,
      "metadata": {
        "colab": {
          "base_uri": "https://localhost:8080/"
        },
        "id": "yViJSEaM4AKc",
        "outputId": "99397962-ed29-471d-92c1-f03723c4c2ba"
      },
      "outputs": [
        {
          "data": {
            "text/plain": [
              "12"
            ]
          },
          "execution_count": 40,
          "metadata": {},
          "output_type": "execute_result"
        }
      ],
      "source": [
        "t=(12,24,45)\n",
        "t[0]"
      ]
    },
    {
      "cell_type": "code",
      "execution_count": null,
      "metadata": {
        "colab": {
          "base_uri": "https://localhost:8080/"
        },
        "id": "_Lu3ru3c4wck",
        "outputId": "06634d72-591e-41ce-aa5f-de4579fe2747"
      },
      "outputs": [
        {
          "name": "stdout",
          "output_type": "stream",
          "text": [
            "{1, 434, 2, 4}\n"
          ]
        }
      ],
      "source": [
        "s={1,2,434,4}\n",
        "print(s)"
      ]
    },
    {
      "cell_type": "markdown",
      "metadata": {
        "id": "KHU4OkxZJrac"
      },
      "source": [
        "Input function"
      ]
    },
    {
      "cell_type": "code",
      "execution_count": null,
      "metadata": {
        "colab": {
          "base_uri": "https://localhost:8080/"
        },
        "id": "XFpLBZt94zmX",
        "outputId": "57391713-5344-41ef-84b5-0e98428564cb"
      },
      "outputs": [
        {
          "name": "stdout",
          "output_type": "stream",
          "text": [
            "enter the value of n112\n",
            "enter the value of n224\n",
            "<class 'str'> <class 'str'>\n",
            "sum: 1224\n"
          ]
        }
      ],
      "source": [
        "n1=input(\"enter the value of n1\")\n",
        "n2=input(\"enter the value of n2\")\n",
        "print(type(n1) ,type(n2))\n",
        "print(\"sum:\",n1+n2)"
      ]
    },
    {
      "cell_type": "code",
      "execution_count": null,
      "metadata": {
        "colab": {
          "base_uri": "https://localhost:8080/"
        },
        "id": "q2FUW21EK1lA",
        "outputId": "30804416-0321-488e-b20d-925254f066d7"
      },
      "outputs": [
        {
          "name": "stdout",
          "output_type": "stream",
          "text": [
            "enter the value of n112\n",
            "enter the value of n213\n",
            "25\n"
          ]
        }
      ],
      "source": [
        "n1=int(input(\"enter the value of n1\"))\n",
        "n2=int(input(\"enter the value of n2\"))\n",
        "print(n1+n2)"
      ]
    },
    {
      "cell_type": "code",
      "execution_count": null,
      "metadata": {
        "colab": {
          "base_uri": "https://localhost:8080/"
        },
        "id": "bVK4zDLPK9NV",
        "outputId": "8c0579bd-ef24-46b3-d8e3-104b95c253cf"
      },
      "outputs": [
        {
          "name": "stdout",
          "output_type": "stream",
          "text": [
            "enter the value of n1rafik\n",
            "enter the value of n2shah\n",
            "concat: rafikshah\n"
          ]
        }
      ],
      "source": [
        "f_name=input(\"enter the value of n1\")\n",
        "l_name=input(\"enter the value of n2\")\n",
        "print(\"concat:\",f_name+l_name)"
      ]
    },
    {
      "cell_type": "code",
      "execution_count": null,
      "metadata": {
        "colab": {
          "base_uri": "https://localhost:8080/",
          "height": 35
        },
        "id": "gQGy8W4TMQcc",
        "outputId": "c792a885-d0c5-43b8-cbc1-17ed51490cb1"
      },
      "outputs": [
        {
          "data": {
            "application/vnd.google.colaboratory.intrinsic+json": {
              "type": "string"
            },
            "text/plain": [
              "'4321'"
            ]
          },
          "execution_count": 14,
          "metadata": {},
          "output_type": "execute_result"
        }
      ],
      "source": [
        "num=1234\n",
        "s=str(num)\n",
        "s[::-1]"
      ]
    },
    {
      "cell_type": "code",
      "execution_count": null,
      "metadata": {
        "colab": {
          "base_uri": "https://localhost:8080/"
        },
        "id": "N7R04vWeM8Wb",
        "outputId": "e4425d27-136d-4898-f65b-3bb4982d9e43"
      },
      "outputs": [
        {
          "name": "stdout",
          "output_type": "stream",
          "text": [
            "enter the radius2.2\n",
            "area of circle 15.197600000000003\n"
          ]
        }
      ],
      "source": [
        "# find the area of circle:\n",
        "r=float(input(\"enter the radius\"))\n",
        "\n",
        "print(\"area of circle\",3.14*r**2)\n"
      ]
    },
    {
      "cell_type": "code",
      "execution_count": null,
      "metadata": {
        "colab": {
          "base_uri": "https://localhost:8080/"
        },
        "id": "qMF0MvDgN6v0",
        "outputId": "6d86558f-18e0-4230-e2a3-cf3fdf211803"
      },
      "outputs": [
        {
          "name": "stdout",
          "output_type": "stream",
          "text": [
            "enter the radius2.2\n",
            "area of circle 15.197600000000003\n"
          ]
        }
      ],
      "source": [
        "\n",
        "print(\"area of circle\",3.14*float(input(\"enter the radius\"))**2)"
      ]
    },
    {
      "cell_type": "code",
      "execution_count": null,
      "metadata": {
        "colab": {
          "base_uri": "https://localhost:8080/"
        },
        "id": "fiXmoNfjNZr1",
        "outputId": "a1227569-ddc5-4314-832d-c2065dc89d24"
      },
      "outputs": [
        {
          "data": {
            "text/plain": [
              "4.0"
            ]
          },
          "execution_count": 16,
          "metadata": {},
          "output_type": "execute_result"
        }
      ],
      "source": [
        "2*2.0"
      ]
    },
    {
      "cell_type": "code",
      "execution_count": null,
      "metadata": {
        "colab": {
          "base_uri": "https://localhost:8080/"
        },
        "id": "64BsA9woOT7L",
        "outputId": "3f19b87d-2793-4dfb-f511-73bf6b8a3a58"
      },
      "outputs": [
        {
          "name": "stdout",
          "output_type": "stream",
          "text": [
            "enter the namerafik sha\n",
            "enter the id123454321\n",
            "enter the per45.9\n",
            "enter True/FalseTrue\n",
            "rafik sha 123454321 45.9 True\n"
          ]
        }
      ],
      "source": [
        "name=input(\"enter the name\")\n",
        "id=int(input(\"enter the id\"))\n",
        "per=float(input(\"enter the per\"))\n",
        "male=bool(input(\"enter True/False\"))\n",
        "\n",
        "print(name,id,per,male)"
      ]
    },
    {
      "cell_type": "markdown",
      "metadata": {
        "id": "EWMiVx8cKz8k"
      },
      "source": [
        "Type casting"
      ]
    },
    {
      "cell_type": "markdown",
      "metadata": {
        "id": "Rpucgr0eJe9U"
      },
      "source": [
        "#conditional statement/decision making statement"
      ]
    },
    {
      "cell_type": "code",
      "execution_count": null,
      "metadata": {
        "colab": {
          "base_uri": "https://localhost:8080/"
        },
        "id": "O1H04lNcJmMU",
        "outputId": "6a935b1c-a5fc-4bc3-ca5d-3c8df71d7c88"
      },
      "outputs": [
        {
          "name": "stdout",
          "output_type": "stream",
          "text": [
            "enter the value of n112\n",
            "enter the value of n223\n",
            "23\n"
          ]
        }
      ],
      "source": [
        "n1=int(input(\"enter the value of n1\"))\n",
        "n2=int(input(\"enter the value of n2\"))\n",
        "print(max(n1,n2))"
      ]
    },
    {
      "cell_type": "code",
      "execution_count": null,
      "metadata": {
        "colab": {
          "base_uri": "https://localhost:8080/"
        },
        "id": "ZWr1RrDDPyBN",
        "outputId": "80ef35ff-fb82-4d43-ff73-508f99ed40fa"
      },
      "outputs": [
        {
          "name": "stdout",
          "output_type": "stream",
          "text": [
            "enter the value of n112\n",
            "enter the value of n213\n",
            "13 is greater\n"
          ]
        }
      ],
      "source": [
        "n1=int(input(\"enter the value of n1\"))\n",
        "n2=int(input(\"enter the value of n2\"))\n",
        "if n1>n2:\n",
        "  print(f\"{n1} is greater\")\n",
        "else:\n",
        "  print(f\"{n2} is greater\")"
      ]
    },
    {
      "cell_type": "code",
      "execution_count": null,
      "metadata": {
        "colab": {
          "base_uri": "https://localhost:8080/"
        },
        "id": "SKvq_DpmPtik",
        "outputId": "499da70d-aeef-48d2-91e6-d27f30c17706"
      },
      "outputs": [
        {
          "name": "stdout",
          "output_type": "stream",
          "text": [
            "enter the number0\n",
            "number is zero\n"
          ]
        }
      ],
      "source": [
        "n1=int(input(\"enter the number\"))\n",
        "if n1>0:\n",
        "  print(\"number is positive\")\n",
        "elif n1==0:\n",
        "  print(\"number is zero\")\n",
        "else:\n",
        "  print(\"number is negative\")"
      ]
    },
    {
      "cell_type": "code",
      "execution_count": null,
      "metadata": {
        "id": "8YnN06S4Qz32"
      },
      "outputs": [],
      "source": [
        "per>=90 :-> grade A\n",
        "per>=75 :-> grade B\n",
        "per>=60 :-> grade C\n",
        "per>=40:-->grade D\n",
        "per<40: tumse na ho paya"
      ]
    },
    {
      "cell_type": "code",
      "execution_count": null,
      "metadata": {
        "colab": {
          "base_uri": "https://localhost:8080/"
        },
        "id": "aMI0WEstSb-h",
        "outputId": "208eadb0-5763-4400-e459-3f1a84874fa2"
      },
      "outputs": [
        {
          "name": "stdout",
          "output_type": "stream",
          "text": [
            "n3 is greatest\n"
          ]
        }
      ],
      "source": [
        "n1 =100\n",
        "n2 =34\n",
        "n3 =777\n",
        "\n",
        "if n1>n2 and n1>n3:\n",
        "  print(\"n1 is greater\")\n",
        "elif n2>n1 and n2>n3:\n",
        "  print(\"n2 is greatest\")\n",
        "else:\n",
        "  print(\"n3 is greatest\")"
      ]
    },
    {
      "cell_type": "code",
      "execution_count": null,
      "metadata": {
        "colab": {
          "base_uri": "https://localhost:8080/"
        },
        "id": "snQ2HOxlTZMr",
        "outputId": "431fdb36-9250-4a92-8031-72c042dde520"
      },
      "outputs": [
        {
          "name": "stdout",
          "output_type": "stream",
          "text": [
            "n3 is greater\n"
          ]
        }
      ],
      "source": [
        "n1 =100\n",
        "n2 =34\n",
        "n3 =777\n",
        "\n",
        "if n1>n2:\n",
        "  if n1>n3:\n",
        "    print(\"n1 is greater\")\n",
        "  else:\n",
        "    print(\"n3 is greater\")\n",
        "else:\n",
        "  if n2>n3:\n",
        "    print(\"n2 is greater\")\n",
        "  else:\n",
        "    print(\"n3 is greater\")"
      ]
    },
    {
      "cell_type": "code",
      "execution_count": null,
      "metadata": {
        "id": "eD00Y1IqT0r2"
      },
      "outputs": [],
      "source": []
    },
    {
      "cell_type": "markdown",
      "metadata": {
        "id": "ZBtTKLb1ZHgp"
      },
      "source": [
        "#conditional looping statement"
      ]
    },
    {
      "cell_type": "code",
      "execution_count": null,
      "metadata": {
        "colab": {
          "base_uri": "https://localhost:8080/"
        },
        "id": "wpum2kPZZLVN",
        "outputId": "11065e0c-344b-49e0-e8dd-38ec405895a2"
      },
      "outputs": [
        {
          "name": "stdout",
          "output_type": "stream",
          "text": [
            "0\n",
            "1\n",
            "2\n",
            "3\n",
            "4\n",
            "5\n",
            "6\n",
            "7\n",
            "8\n",
            "9\n"
          ]
        }
      ],
      "source": [
        "for i in range(10): #end-1\n",
        "  print(i)"
      ]
    },
    {
      "cell_type": "code",
      "execution_count": null,
      "metadata": {
        "colab": {
          "base_uri": "https://localhost:8080/"
        },
        "id": "DKCUt8mgZrvW",
        "outputId": "f27b0328-d427-4978-ae7a-b85b33931278"
      },
      "outputs": [
        {
          "name": "stdout",
          "output_type": "stream",
          "text": [
            "1\n",
            "3\n",
            "5\n",
            "7\n",
            "9\n"
          ]
        }
      ],
      "source": [
        "for i in range(1,11,2): #start end-1\n",
        "  print(i)"
      ]
    },
    {
      "cell_type": "code",
      "execution_count": null,
      "metadata": {
        "colab": {
          "base_uri": "https://localhost:8080/"
        },
        "id": "eDgnfPSdaO1p",
        "outputId": "91289bb8-d70e-463c-8a66-cd4c13355c37"
      },
      "outputs": [
        {
          "name": "stdout",
          "output_type": "stream",
          "text": [
            "2\n",
            "4\n",
            "6\n",
            "8\n",
            "10\n",
            "12\n",
            "14\n",
            "16\n",
            "18\n",
            "20\n"
          ]
        }
      ],
      "source": [
        "for i in range(2,21,2): #start end-1\n",
        "  print(i)"
      ]
    },
    {
      "cell_type": "code",
      "execution_count": null,
      "metadata": {
        "colab": {
          "base_uri": "https://localhost:8080/"
        },
        "id": "DUvttYeLZZGP",
        "outputId": "3afb817b-9978-4c23-92b7-2098051c5377"
      },
      "outputs": [
        {
          "data": {
            "text/plain": [
              "range(0, 10)"
            ]
          },
          "execution_count": 5,
          "metadata": {},
          "output_type": "execute_result"
        }
      ],
      "source": [
        "range(10)"
      ]
    },
    {
      "cell_type": "code",
      "execution_count": null,
      "metadata": {
        "colab": {
          "base_uri": "https://localhost:8080/"
        },
        "id": "0YgJqlhnZaAp",
        "outputId": "8536d65e-d5d2-437d-bf47-e9b4b6a456a7"
      },
      "outputs": [
        {
          "name": "stdout",
          "output_type": "stream",
          "text": [
            "1 is odd number\n",
            "2 is a even number\n",
            "3 is odd number\n",
            "4 is a even number\n",
            "5 is odd number\n",
            "6 is a even number\n",
            "7 is odd number\n",
            "8 is a even number\n",
            "9 is odd number\n",
            "10 is a even number\n",
            "11 is odd number\n",
            "12 is a even number\n",
            "13 is odd number\n",
            "14 is a even number\n",
            "15 is odd number\n",
            "16 is a even number\n",
            "17 is odd number\n",
            "18 is a even number\n",
            "19 is odd number\n",
            "20 is a even number\n"
          ]
        }
      ],
      "source": [
        "for i in range(1,21):\n",
        "  if i %2==0:\n",
        "    print(f\"{i} is a even number\")\n",
        "  else:\n",
        "    print(f\"{i} is odd number\")\n"
      ]
    },
    {
      "cell_type": "code",
      "execution_count": null,
      "metadata": {
        "colab": {
          "base_uri": "https://localhost:8080/"
        },
        "id": "amp-_fkccBdm",
        "outputId": "685f2326-0e56-43e4-8d5e-5eeaea259410"
      },
      "outputs": [
        {
          "name": "stdout",
          "output_type": "stream",
          "text": [
            "5,10,15,20,25,30,35,40,45,50,"
          ]
        }
      ],
      "source": [
        "# 5 10 15 20 ..........50\n",
        "\n",
        "for i in range(5,51,5):\n",
        "  print(i,end=\",\")"
      ]
    },
    {
      "cell_type": "code",
      "execution_count": null,
      "metadata": {
        "colab": {
          "base_uri": "https://localhost:8080/"
        },
        "id": "B6diLJxac-UI",
        "outputId": "bee13ca5-2f3d-4d30-8b5a-fa4b79ad64d9"
      },
      "outputs": [
        {
          "name": "stdout",
          "output_type": "stream",
          "text": [
            "5 10 15 20 25 30 35 40 45 50 "
          ]
        }
      ],
      "source": [
        "for i in range(1,11):\n",
        "  print(5*i,end=\" \")"
      ]
    },
    {
      "cell_type": "code",
      "execution_count": null,
      "metadata": {
        "id": "_0_q5gr-dNlL"
      },
      "outputs": [],
      "source": [
        "1-21:\n",
        "\n",
        "1--> 1\n",
        "2--> 4\n",
        "3-->27\n",
        "4-->16\n",
        "5-->125"
      ]
    },
    {
      "cell_type": "code",
      "execution_count": null,
      "metadata": {
        "colab": {
          "base_uri": "https://localhost:8080/"
        },
        "id": "dQviTeeld7gU",
        "outputId": "43fb118b-2fa9-4d9e-d356-d8b72637cd0b"
      },
      "outputs": [
        {
          "name": "stdout",
          "output_type": "stream",
          "text": [
            "1 : 1\n",
            "2 : 4\n",
            "3 : 9\n",
            "4 : 16\n",
            "5 : 25\n",
            "6 : 36\n",
            "7 : 49\n",
            "8 : 64\n",
            "9 : 81\n",
            "10 : 100\n"
          ]
        }
      ],
      "source": [
        "for i in range(1,11):\n",
        "  print(i,\":\",i**2)"
      ]
    },
    {
      "cell_type": "code",
      "execution_count": null,
      "metadata": {
        "colab": {
          "base_uri": "https://localhost:8080/"
        },
        "id": "dKG-NItWeCiM",
        "outputId": "6b7f01a0-f225-4a68-a04c-0950508d1075"
      },
      "outputs": [
        {
          "name": "stdout",
          "output_type": "stream",
          "text": [
            "1: 1\n",
            "2 : 4\n",
            "3: 27\n",
            "4 : 16\n",
            "5: 125\n",
            "6 : 36\n",
            "7: 343\n",
            "8 : 64\n",
            "9: 729\n",
            "10 : 100\n",
            "11: 1331\n",
            "12 : 144\n",
            "13: 2197\n",
            "14 : 196\n",
            "15: 3375\n",
            "16 : 256\n",
            "17: 4913\n",
            "18 : 324\n",
            "19: 6859\n",
            "20 : 400\n"
          ]
        }
      ],
      "source": [
        "for i in range(1,21):\n",
        "  if i%2==0:\n",
        "    print(f\"{i} : {i**2}\")\n",
        "  else:\n",
        "    print(f\"{i}: {i**3}\")"
      ]
    },
    {
      "cell_type": "code",
      "execution_count": null,
      "metadata": {
        "colab": {
          "base_uri": "https://localhost:8080/"
        },
        "id": "RYoTL2O9e8bP",
        "outputId": "b962b244-e5eb-4e14-dd38-b2e20c02b6fa"
      },
      "outputs": [
        {
          "name": "stdout",
          "output_type": "stream",
          "text": [
            "10 9 8 7 6 5 4 3 2 1 "
          ]
        }
      ],
      "source": [
        "# 10 9 8 7 6 5 4 3 2 1\n",
        "for i in range(10,0,-1):\n",
        "  print(i,end=\" \")"
      ]
    },
    {
      "cell_type": "code",
      "execution_count": null,
      "metadata": {
        "colab": {
          "base_uri": "https://localhost:8080/"
        },
        "id": "hkJdSzapfZRc",
        "outputId": "abb5a035-cd0f-49e8-cc0c-8c16b9f3040b"
      },
      "outputs": [
        {
          "name": "stdout",
          "output_type": "stream",
          "text": [
            "201 195 189 183 177 "
          ]
        }
      ],
      "source": [
        "# 201 ,195,189,183,177\n",
        "for i in range(201,176,-6):\n",
        "  print(i,end=\" \")"
      ]
    },
    {
      "cell_type": "code",
      "execution_count": null,
      "metadata": {
        "id": "-25AFjoCgIN_"
      },
      "outputs": [],
      "source": [
        "start=10\n",
        "end= 1\n",
        "---> 1,2,3,4,5,6,7,8,9,10\n",
        "     10,9,8,7,6,5,4,3,2,1"
      ]
    },
    {
      "cell_type": "code",
      "execution_count": null,
      "metadata": {
        "colab": {
          "base_uri": "https://localhost:8080/"
        },
        "id": "sRnMdKi0grSr",
        "outputId": "107a8f2c-93e8-412f-d8cd-036ca63944bd"
      },
      "outputs": [
        {
          "name": "stdout",
          "output_type": "stream",
          "text": [
            "enter the start10\n",
            "enter the end1\n",
            "10\n",
            "9\n",
            "8\n",
            "7\n",
            "6\n",
            "5\n",
            "4\n",
            "3\n",
            "2\n",
            "1\n"
          ]
        }
      ],
      "source": [
        "start=int(input(\"enter the start\"))\n",
        "end=int(input(\"enter the end\"))\n",
        "if start<end:\n",
        "  for i in range(start,end+1):\n",
        "    print(i)\n",
        "else:\n",
        "  for i in range(start,end-1,-1):\n",
        "    print(i)\n"
      ]
    },
    {
      "cell_type": "code",
      "execution_count": null,
      "metadata": {
        "colab": {
          "base_uri": "https://localhost:8080/"
        },
        "id": "SuxW2ea_gyMK",
        "outputId": "bbb7b958-3387-4efb-c0ab-4245fc036e58"
      },
      "outputs": [
        {
          "name": "stdout",
          "output_type": "stream",
          "text": [
            "5\n",
            "10\n",
            "15\n",
            "20\n",
            "25\n",
            "30\n",
            "35\n",
            "40\n",
            "45\n",
            "50\n"
          ]
        }
      ],
      "source": [
        "i =1  #initialization\n",
        "while i<=10:\n",
        "  print(i*5)\n",
        "  i=i+1"
      ]
    },
    {
      "cell_type": "code",
      "execution_count": null,
      "metadata": {
        "colab": {
          "base_uri": "https://localhost:8080/"
        },
        "id": "oFcudYDyig-M",
        "outputId": "d7006064-d8ef-4020-a316-be11a34d366b"
      },
      "outputs": [
        {
          "name": "stdout",
          "output_type": "stream",
          "text": [
            "4321\n"
          ]
        }
      ],
      "source": [
        "# 1234 ---> 4321\n",
        "num=1234\n",
        "rev=0\n",
        "while num!=0:\n",
        "  rem=num%10\n",
        "  rev=rev*10+rem\n",
        "  num=num//10\n",
        "\n",
        "print(rev)\n"
      ]
    },
    {
      "cell_type": "code",
      "execution_count": null,
      "metadata": {
        "colab": {
          "base_uri": "https://localhost:8080/"
        },
        "id": "rrSyZQV3kwiD",
        "outputId": "4a4e4b0a-6864-44e8-e915-232d40ba9799"
      },
      "outputs": [
        {
          "name": "stdout",
          "output_type": "stream",
          "text": [
            "enter the any number1234\n",
            "10\n"
          ]
        }
      ],
      "source": [
        "num=int(input(\"enter the any number\"))\n",
        "sum=0\n",
        "while num!=0:\n",
        "  rem=num%10\n",
        "  sum+=rem\n",
        "  num=num//10\n",
        "print(sum)\n"
      ]
    },
    {
      "cell_type": "markdown",
      "metadata": {
        "id": "ESWF6GV9nLsa"
      },
      "source": [
        "#collection in python"
      ]
    },
    {
      "cell_type": "code",
      "execution_count": null,
      "metadata": {
        "colab": {
          "base_uri": "https://localhost:8080/",
          "height": 108
        },
        "id": "ri0a5pdlm2IP",
        "outputId": "449bd7f5-b60b-4c8a-a996-3896abdb9cb6"
      },
      "outputs": [
        {
          "ename": "SyntaxError",
          "evalue": "invalid syntax (ipython-input-2-3977271376.py, line 1)",
          "output_type": "error",
          "traceback": [
            "\u001b[0;36m  File \u001b[0;32m\"/tmp/ipython-input-2-3977271376.py\"\u001b[0;36m, line \u001b[0;32m1\u001b[0m\n\u001b[0;31m    list,tuple,set,dictionary:\u001b[0m\n\u001b[0m                             ^\u001b[0m\n\u001b[0;31mSyntaxError\u001b[0m\u001b[0;31m:\u001b[0m invalid syntax\n"
          ]
        }
      ],
      "source": [
        "list,tuple,set,dictionary:\n"
      ]
    },
    {
      "cell_type": "code",
      "execution_count": null,
      "metadata": {
        "id": "HqeGoaiKnj2k"
      },
      "outputs": [],
      "source": [
        "list:\n",
        "  ordered:\n",
        "     indexing\n",
        "     slicing\n",
        "\n",
        "  duplicate element allowed\n",
        "  changeable/mutable\n",
        "  heterogeneous: different type of data\n",
        "\n",
        "array: collection similar data type,fixed"
      ]
    },
    {
      "cell_type": "code",
      "execution_count": null,
      "metadata": {
        "colab": {
          "base_uri": "https://localhost:8080/"
        },
        "id": "qXl7tP9hpg_F",
        "outputId": "d85f6a81-39a0-4aee-9b7a-b5e2d697aadc"
      },
      "outputs": [
        {
          "name": "stdout",
          "output_type": "stream",
          "text": [
            "rafik: <class 'str'>\n",
            "12: <class 'int'>\n",
            "99.0: <class 'float'>\n",
            "True: <class 'bool'>\n",
            "(1+4j): <class 'complex'>\n"
          ]
        }
      ],
      "source": [
        "lst=[\"rafik\",12,99.0,True,4j+1]\n",
        "for i in lst:\n",
        "  print(f\"{i}:\",type(i))"
      ]
    },
    {
      "cell_type": "code",
      "execution_count": null,
      "metadata": {
        "colab": {
          "base_uri": "https://localhost:8080/"
        },
        "id": "oTGK_Wovn8Fn",
        "outputId": "c4621690-1cec-4253-98f5-195e2016e49d"
      },
      "outputs": [
        {
          "name": "stdout",
          "output_type": "stream",
          "text": [
            "<class 'list'>\n"
          ]
        }
      ],
      "source": [
        "#list\n",
        "\n",
        "lst=[]\n",
        "print(type(lst))"
      ]
    },
    {
      "cell_type": "code",
      "execution_count": null,
      "metadata": {
        "colab": {
          "base_uri": "https://localhost:8080/"
        },
        "id": "cbEiUg33oIWB",
        "outputId": "84bcb548-f273-4ad0-81f8-f4ea9a7a62e0"
      },
      "outputs": [
        {
          "name": "stdout",
          "output_type": "stream",
          "text": [
            "[12, 23, 12, 14, 15, 17]\n"
          ]
        }
      ],
      "source": [
        "lst=[12,23,12,14,15,17]\n",
        "print(lst)"
      ]
    },
    {
      "cell_type": "code",
      "execution_count": null,
      "metadata": {
        "colab": {
          "base_uri": "https://localhost:8080/"
        },
        "id": "ClyWDO30oTjU",
        "outputId": "8711d8b1-5e94-41d4-8304-786f53c7cd27"
      },
      "outputs": [
        {
          "name": "stdout",
          "output_type": "stream",
          "text": [
            "17\n"
          ]
        }
      ],
      "source": [
        "lst=[12,23,12,14,15,17]\n",
        "i=len(lst)-1\n",
        "print(lst[i])"
      ]
    },
    {
      "cell_type": "code",
      "execution_count": null,
      "metadata": {
        "colab": {
          "base_uri": "https://localhost:8080/"
        },
        "id": "b_BLRKA6ol8h",
        "outputId": "d2777223-8389-4e5c-f9ef-673e62f107a6"
      },
      "outputs": [
        {
          "data": {
            "text/plain": [
              "17"
            ]
          },
          "execution_count": 9,
          "metadata": {},
          "output_type": "execute_result"
        }
      ],
      "source": [
        "lst=[12,23,12,14,15,17]\n",
        "lst[-1]"
      ]
    },
    {
      "cell_type": "code",
      "execution_count": null,
      "metadata": {
        "colab": {
          "base_uri": "https://localhost:8080/"
        },
        "id": "Gw4jVvIMp1tN",
        "outputId": "d6f5b7b9-628c-4150-d3fe-c5c041f75bce"
      },
      "outputs": [
        {
          "name": "stdout",
          "output_type": "stream",
          "text": [
            "[12, 14, 15]\n",
            "[12, 14, 15]\n",
            "[12, 14, 15]\n",
            "[12, 14, 15]\n"
          ]
        }
      ],
      "source": [
        "lst=[12,23,12,14,15,17]\n",
        "print(lst[2:5])\n",
        "print(lst[2:-1])\n",
        "print(lst[-4:-1])\n",
        "print(lst[-4:5])"
      ]
    },
    {
      "cell_type": "code",
      "execution_count": null,
      "metadata": {
        "colab": {
          "base_uri": "https://localhost:8080/"
        },
        "id": "AINrJwWMp5mX",
        "outputId": "e27ce840-4768-4d04-989c-c9d0ad834978"
      },
      "outputs": [
        {
          "name": "stdout",
          "output_type": "stream",
          "text": [
            "[23, 14, 17]\n"
          ]
        }
      ],
      "source": [
        "lst=[12,23,12,14,15,17,18,19]\n",
        "print(lst[1:6:2])\n",
        "# op: [12,12,15]"
      ]
    },
    {
      "cell_type": "code",
      "execution_count": null,
      "metadata": {
        "colab": {
          "base_uri": "https://localhost:8080/"
        },
        "id": "n2YWMGc-s9py",
        "outputId": "0b5ab6b2-3715-4578-b744-c47d8593bf26"
      },
      "outputs": [
        {
          "name": "stdout",
          "output_type": "stream",
          "text": [
            "0 : 12\n",
            "1 : 23\n",
            "2 : 12\n",
            "3 : 14\n",
            "4 : 15\n",
            "5 : 17\n",
            "6 : 18\n",
            "7 : 19\n"
          ]
        }
      ],
      "source": [
        "lst=[12,23,12,14,15,17,18,19]\n",
        "for i in range(len(lst)):\n",
        "  print(f\"{i} : {lst[i]}\")"
      ]
    },
    {
      "cell_type": "code",
      "execution_count": null,
      "metadata": {
        "colab": {
          "base_uri": "https://localhost:8080/"
        },
        "id": "K_yb4gq9tnKP",
        "outputId": "71f9f84a-6d18-4e56-bd34-23aa3e21055c"
      },
      "outputs": [
        {
          "name": "stdout",
          "output_type": "stream",
          "text": [
            "51\n"
          ]
        }
      ],
      "source": [
        "lst=[2,3,1,4,2,4,5,6,7,8,9]\n",
        "sum=0\n",
        "for i in range(len(lst)):\n",
        "  sum=sum+lst[i]\n",
        "print(sum)"
      ]
    },
    {
      "cell_type": "code",
      "execution_count": null,
      "metadata": {
        "colab": {
          "base_uri": "https://localhost:8080/"
        },
        "id": "AvxNyZw9vKuX",
        "outputId": "2c1a53df-096a-4b94-c2ec-f83706182f5d"
      },
      "outputs": [
        {
          "name": "stdout",
          "output_type": "stream",
          "text": [
            "1\n"
          ]
        }
      ],
      "source": [
        "lst=[12,88,5,66,3,99,2,101,1]\n",
        "min=lst[0]\n",
        "for i in range(len(lst)):\n",
        "  if lst[i]<min:\n",
        "    min=lst[i]\n",
        "print(min)"
      ]
    },
    {
      "cell_type": "code",
      "execution_count": null,
      "metadata": {
        "colab": {
          "base_uri": "https://localhost:8080/"
        },
        "id": "1QGSCgU-wHJN",
        "outputId": "820a2c6e-966b-47e6-fc16-b15395891d3a"
      },
      "outputs": [
        {
          "data": {
            "text/plain": [
              "[1, 2, 3, 5, 12, 66, 88, 99, 101]"
            ]
          },
          "execution_count": 26,
          "metadata": {},
          "output_type": "execute_result"
        }
      ],
      "source": [
        "lst.sort()\n",
        "lst"
      ]
    },
    {
      "cell_type": "code",
      "execution_count": null,
      "metadata": {
        "colab": {
          "base_uri": "https://localhost:8080/"
        },
        "id": "Bts2iAZBqE4e",
        "outputId": "62572970-0d3a-420c-8bb4-6becf59ddc95"
      },
      "outputs": [
        {
          "data": {
            "text/plain": [
              "1"
            ]
          },
          "execution_count": 23,
          "metadata": {},
          "output_type": "execute_result"
        }
      ],
      "source": [
        "lst=[12,23,13,14,23]\n",
        "lst.index(23)"
      ]
    },
    {
      "cell_type": "code",
      "execution_count": null,
      "metadata": {
        "colab": {
          "base_uri": "https://localhost:8080/"
        },
        "id": "i9oUueI9qkQW",
        "outputId": "b9d032a6-4854-4fe3-c181-4cd4f38d26a0"
      },
      "outputs": [
        {
          "name": "stdout",
          "output_type": "stream",
          "text": [
            "16\n",
            "[12, 13, 14, 12, 15, 15]\n"
          ]
        }
      ],
      "source": [
        "lst=[12,13,14,12,15,15,16]\n",
        "p=lst.pop()\n",
        "print(p)\n",
        "print(lst)"
      ]
    },
    {
      "cell_type": "code",
      "execution_count": null,
      "metadata": {
        "colab": {
          "base_uri": "https://localhost:8080/"
        },
        "id": "aJmB0QpGq-Nc",
        "outputId": "01c6f17f-ebd8-412c-f8c7-a2e961557ace"
      },
      "outputs": [
        {
          "data": {
            "text/plain": [
              "12"
            ]
          },
          "execution_count": 28,
          "metadata": {},
          "output_type": "execute_result"
        }
      ],
      "source": [
        "lst=[12,13,14,12,15,15,16]\n",
        "lst.pop(0)"
      ]
    },
    {
      "cell_type": "code",
      "execution_count": null,
      "metadata": {
        "colab": {
          "base_uri": "https://localhost:8080/"
        },
        "id": "iIx2TQ5zqZc6",
        "outputId": "828e6eaf-9170-45ef-bb5d-31c0eeb6f8ed"
      },
      "outputs": [
        {
          "name": "stdout",
          "output_type": "stream",
          "text": [
            "[12, 13, 14, 23]\n"
          ]
        }
      ],
      "source": [
        "lst.remove(23)\n",
        "print(lst)"
      ]
    },
    {
      "cell_type": "code",
      "execution_count": null,
      "metadata": {
        "colab": {
          "base_uri": "https://localhost:8080/"
        },
        "id": "Jgvc8PNKr25j",
        "outputId": "3345a3a3-4753-4e07-d2c2-e2345a54aa92"
      },
      "outputs": [
        {
          "name": "stdout",
          "output_type": "stream",
          "text": [
            "None\n"
          ]
        }
      ],
      "source": [
        "lst=[1,2,3,4,5]\n",
        "a=lst.remove(1)\n",
        "print(a)\n",
        "\n",
        "# op: [2,3,4,5,1]"
      ]
    },
    {
      "cell_type": "code",
      "execution_count": null,
      "metadata": {
        "colab": {
          "base_uri": "https://localhost:8080/"
        },
        "id": "cYkXFLJ7sxfh",
        "outputId": "4f2a5fc5-9ed3-4f7f-af0d-6beff98084b4"
      },
      "outputs": [
        {
          "name": "stdout",
          "output_type": "stream",
          "text": [
            "1\n"
          ]
        }
      ],
      "source": [
        "lst=[1,2,3,4,5]\n",
        "a=lst.pop(0)\n",
        "print(a)"
      ]
    },
    {
      "cell_type": "code",
      "execution_count": null,
      "metadata": {
        "colab": {
          "base_uri": "https://localhost:8080/"
        },
        "id": "qp2HW0dQs1_L",
        "outputId": "c6c49175-182a-4f4e-b4ad-78ee7a5bc1e4"
      },
      "outputs": [
        {
          "name": "stdout",
          "output_type": "stream",
          "text": [
            "[2, 3, 4, 5, 1]\n"
          ]
        }
      ],
      "source": [
        "lst=[1,2,3,4,5]\n",
        "a=lst.pop(0)\n",
        "lst.append(a)\n",
        "print(lst)"
      ]
    },
    {
      "cell_type": "code",
      "execution_count": null,
      "metadata": {
        "colab": {
          "base_uri": "https://localhost:8080/"
        },
        "id": "qKwZZVcgtVAX",
        "outputId": "2158b6d5-0586-4654-c366-c83dd47cd9ef"
      },
      "outputs": [
        {
          "name": "stdout",
          "output_type": "stream",
          "text": [
            "[7, 8, 9, 5, 6]\n"
          ]
        }
      ],
      "source": [
        "lst=[5,6,7,8,9]\n",
        "k=2\n",
        "for i in range(k):\n",
        "  p=lst.pop(0)\n",
        "  lst.append(p)\n",
        "print(lst)\n",
        "\n",
        "# op:[3,4,5,1,2]"
      ]
    },
    {
      "cell_type": "code",
      "execution_count": null,
      "metadata": {
        "colab": {
          "base_uri": "https://localhost:8080/"
        },
        "id": "hahAmCkVxFTv",
        "outputId": "12ffa1d4-5e51-4edc-cbdf-23add8a8a32f"
      },
      "outputs": [
        {
          "data": {
            "text/plain": [
              "1"
            ]
          },
          "execution_count": 27,
          "metadata": {},
          "output_type": "execute_result"
        }
      ],
      "source": [
        "lst[1,2,3,4,5]\n",
        "\n",
        "op: [4,5,1,2,3]"
      ]
    },
    {
      "cell_type": "code",
      "execution_count": null,
      "metadata": {
        "colab": {
          "base_uri": "https://localhost:8080/"
        },
        "id": "y7IZZ2FIvFx1",
        "outputId": "dcd2182b-ac8b-46e2-cdff-1348244b6946"
      },
      "outputs": [
        {
          "name": "stdout",
          "output_type": "stream",
          "text": [
            "[6, 1, 2, 3, 4, 5]\n"
          ]
        }
      ],
      "source": [
        "lst=[1,2,3,4,5]\n",
        "lst.insert(0,6)\n",
        "print(lst)"
      ]
    },
    {
      "cell_type": "code",
      "execution_count": null,
      "metadata": {
        "colab": {
          "base_uri": "https://localhost:8080/"
        },
        "id": "TJZXY1gJqXzr",
        "outputId": "c3459c6c-b69f-451f-a202-c16f35c88c64"
      },
      "outputs": [
        {
          "name": "stdout",
          "output_type": "stream",
          "text": [
            "[5, 1, 2, 3, 4]\n",
            "[4, 5, 1, 2, 3]\n"
          ]
        }
      ],
      "source": [
        "lst=[1,2,3,4,5]\n",
        "k=2\n",
        "for i in range(k):\n",
        "  a=lst.pop()\n",
        "  lst.insert(0,a)\n",
        "  print(lst)"
      ]
    },
    {
      "cell_type": "code",
      "execution_count": null,
      "metadata": {
        "colab": {
          "base_uri": "https://localhost:8080/"
        },
        "id": "QMP2I-47xGqa",
        "outputId": "fa9d554a-20b7-450e-8ad0-8e17993ee663"
      },
      "outputs": [
        {
          "name": "stdout",
          "output_type": "stream",
          "text": [
            "number of element?5\n",
            "enter number12\n",
            "enter number13\n",
            "enter number55\n",
            "enter number88\n",
            "enter number90\n",
            "[12, 13, 55, 88, 90]\n"
          ]
        }
      ],
      "source": [
        "arr=[]\n",
        "n=int(input(\"number of element?\"))\n",
        "for i in range(n):\n",
        "  r=int(input(\"enter number\"))\n",
        "  arr.append(r)\n",
        "\n",
        "print(arr)"
      ]
    },
    {
      "cell_type": "code",
      "execution_count": null,
      "metadata": {
        "colab": {
          "base_uri": "https://localhost:8080/"
        },
        "id": "MP1OxkWjx0yl",
        "outputId": "b54511e4-5f79-41dd-8917-a9b158111f5d"
      },
      "outputs": [
        {
          "name": "stdout",
          "output_type": "stream",
          "text": [
            "[22, 33, 44, 55, 66, 77, 88]\n"
          ]
        }
      ],
      "source": [
        "arr=[88,77,66,55,44,33,22]\n",
        "    #  0   1  2  3  4  5  6\n",
        "rev_lst=[]\n",
        "\n",
        "for i in range(len(arr)-1,-1,-1):\n",
        "  rev_lst.append(arr[i])\n",
        "\n",
        "print(rev_lst)\n",
        "\n"
      ]
    },
    {
      "cell_type": "code",
      "execution_count": null,
      "metadata": {
        "colab": {
          "base_uri": "https://localhost:8080/"
        },
        "id": "VE9KQJjSwbdJ",
        "outputId": "f7ed2587-e9fb-4238-fdc9-48464b37db1e"
      },
      "outputs": [
        {
          "name": "stdout",
          "output_type": "stream",
          "text": [
            "[5, 4, 3, 2, 1]\n"
          ]
        }
      ],
      "source": [
        "lst=[1,2,3,4,5]\n",
        "lst.reverse()\n",
        "print(lst)"
      ]
    },
    {
      "cell_type": "code",
      "execution_count": null,
      "metadata": {
        "id": "DlbhyU2Zz3x0"
      },
      "outputs": [],
      "source": [
        "arr=[1,2,3,4,5,6,7,8,9,10]\n",
        "\n",
        "op:\n",
        "even_lst=[2,4,6,8,10]\n",
        "odd_lst=[1,3,5,7,9]"
      ]
    },
    {
      "cell_type": "code",
      "execution_count": null,
      "metadata": {
        "id": "Gy0j69j205JV"
      },
      "outputs": [],
      "source": [
        "arr1=[\"m\",\"na\",\"i\",\"kh\"]\n",
        "arr2=[\"y\",\"me\",\"s\",\"an\"]\n",
        "\n",
        "\n",
        "op:[\"my\",\"name\",\"is\",\"khan\"]"
      ]
    },
    {
      "cell_type": "code",
      "execution_count": null,
      "metadata": {
        "colab": {
          "base_uri": "https://localhost:8080/"
        },
        "id": "SNSt_sS120sM",
        "outputId": "bc5e9edd-94c7-4e76-dc36-06538907a26f"
      },
      "outputs": [
        {
          "name": "stdout",
          "output_type": "stream",
          "text": [
            "[12, 24, 36, 48, 60]\n"
          ]
        }
      ],
      "source": [
        "lst1=[1,2,3,4,5]\n",
        "lst2=[11,22,33,44,55]\n",
        "arr=[]\n",
        "for i in range(len(lst1)):\n",
        "  a=lst1[i]+lst2[i]\n",
        "  arr.append(a)\n",
        "print(arr)\n"
      ]
    },
    {
      "cell_type": "code",
      "execution_count": null,
      "metadata": {
        "colab": {
          "base_uri": "https://localhost:8080/"
        },
        "id": "IXywteasi_3-",
        "outputId": "fc315455-a6bc-4962-ca74-f4a9480684a0"
      },
      "outputs": [
        {
          "name": "stdout",
          "output_type": "stream",
          "text": [
            "enter numbers with space33 66 77 88 99\n",
            "['33', '66', '77', '88', '99']\n"
          ]
        }
      ],
      "source": [
        "user_input=input(\"enter numbers with space\")\n",
        "lst=user_input.split()\n",
        "print(lst)\n"
      ]
    },
    {
      "cell_type": "code",
      "execution_count": null,
      "metadata": {
        "colab": {
          "base_uri": "https://localhost:8080/"
        },
        "id": "OhwYPnh33fut",
        "outputId": "10510b80-b813-4a7d-c79d-30e475e09d9a"
      },
      "outputs": [
        {
          "name": "stdout",
          "output_type": "stream",
          "text": [
            "enter the key12\n",
            "key count: 2\n"
          ]
        }
      ],
      "source": [
        "lst=[11,10,12,13,14,111,12,13,14,1111,1111,10,10,10]\n",
        "key=int(input(\"enter the key\"))\n",
        "# lst.count(key)\n",
        "c=0\n",
        "for i in range(len(lst)):\n",
        "  if key==lst[i]:\n",
        "    c+=1\n",
        "\n",
        "print(\"key count:\",c)\n",
        "\n",
        "\n",
        "# op:  10\n",
        "#    count of key: 4\n"
      ]
    },
    {
      "cell_type": "markdown",
      "metadata": {
        "id": "zyq3Gfmh65w6"
      },
      "source": []
    },
    {
      "cell_type": "code",
      "execution_count": null,
      "metadata": {
        "colab": {
          "base_uri": "https://localhost:8080/"
        },
        "id": "TJnmLAaE6Q1Z",
        "outputId": "bdbce7f0-1ce9-4dc6-af39-f49c07307d8e"
      },
      "outputs": [
        {
          "name": "stdout",
          "output_type": "stream",
          "text": [
            "enter the key10\n",
            "final arr: [11, 100, 12, 13, 14, 111, 12, 13, 14, 1111, 1111, 100, 100, 100]\n"
          ]
        }
      ],
      "source": [
        "lst=[11,10,12,13,14,111,12,13,14,1111,1111,10,10,10]\n",
        "key=int(input(\"enter the key\"))\n",
        "for i in range(len(lst)):\n",
        "  if key==lst[i]:\n",
        "    lst[i]=100\n",
        "\n",
        "\n",
        "print(\"final arr:\",lst)"
      ]
    },
    {
      "cell_type": "code",
      "execution_count": null,
      "metadata": {
        "colab": {
          "base_uri": "https://localhost:8080/"
        },
        "id": "UYzs6clmnkP1",
        "outputId": "7691862f-f597-4014-aa93-717dbcd35cb7"
      },
      "outputs": [
        {
          "name": "stdout",
          "output_type": "stream",
          "text": [
            "[]\n"
          ]
        }
      ],
      "source": [
        "lst=[11,10,12,13,14,111,12,13,14,1111,1111,10,10,10]\n",
        "lst.clear()\n",
        "print(lst)"
      ]
    },
    {
      "cell_type": "code",
      "execution_count": null,
      "metadata": {
        "colab": {
          "base_uri": "https://localhost:8080/",
          "height": 180
        },
        "id": "GrjY1hEylFH2",
        "outputId": "7a5f4db8-f623-493f-a779-fef052cd5d0f"
      },
      "outputs": [
        {
          "name": "stdout",
          "output_type": "stream",
          "text": [
            "enter numbers with space1.2 4.5 6.6\n"
          ]
        },
        {
          "ename": "TypeError",
          "evalue": "'int' object is not callable",
          "output_type": "error",
          "traceback": [
            "\u001b[0;31m---------------------------------------------------------------------------\u001b[0m",
            "\u001b[0;31mTypeError\u001b[0m                                 Traceback (most recent call last)",
            "\u001b[0;32m/tmp/ipython-input-17-1796998260.py\u001b[0m in \u001b[0;36m<cell line: 0>\u001b[0;34m()\u001b[0m\n\u001b[1;32m      1\u001b[0m \u001b[0marr\u001b[0m\u001b[0;34m=\u001b[0m\u001b[0mlist\u001b[0m\u001b[0;34m(\u001b[0m\u001b[0mmap\u001b[0m\u001b[0;34m(\u001b[0m\u001b[0mfloat\u001b[0m\u001b[0;34m,\u001b[0m\u001b[0minput\u001b[0m\u001b[0;34m(\u001b[0m\u001b[0;34m\"enter numbers with space\"\u001b[0m\u001b[0;34m)\u001b[0m\u001b[0;34m.\u001b[0m\u001b[0msplit\u001b[0m\u001b[0;34m(\u001b[0m\u001b[0;34m)\u001b[0m\u001b[0;34m)\u001b[0m\u001b[0;34m)\u001b[0m\u001b[0;34m\u001b[0m\u001b[0;34m\u001b[0m\u001b[0m\n\u001b[0;32m----> 2\u001b[0;31m \u001b[0mprint\u001b[0m\u001b[0;34m(\u001b[0m\u001b[0mmax\u001b[0m\u001b[0;34m(\u001b[0m\u001b[0marr\u001b[0m\u001b[0;34m)\u001b[0m\u001b[0;34m)\u001b[0m\u001b[0;34m\u001b[0m\u001b[0;34m\u001b[0m\u001b[0m\n\u001b[0m",
            "\u001b[0;31mTypeError\u001b[0m: 'int' object is not callable"
          ]
        }
      ],
      "source": [
        "\n",
        "arr=list(map(float,input(\"enter numbers with space\").split()))\n",
        "print(max(arr))\n"
      ]
    },
    {
      "cell_type": "markdown",
      "metadata": {
        "id": "sDLWWjc67Fm3"
      },
      "source": [
        "#tuple"
      ]
    },
    {
      "cell_type": "code",
      "execution_count": null,
      "metadata": {
        "colab": {
          "base_uri": "https://localhost:8080/"
        },
        "id": "2Zh9iyFX7FQ9",
        "outputId": "d967de3e-9cc2-4d00-f640-aed8cfdffb0f"
      },
      "outputs": [
        {
          "data": {
            "text/plain": [
              "tuple"
            ]
          },
          "execution_count": 60,
          "metadata": {},
          "output_type": "execute_result"
        }
      ],
      "source": [
        "#heterogeneous,duplicate allow,ordered,immutable: non changeable\n",
        "t=()\n",
        "type(t)"
      ]
    },
    {
      "cell_type": "markdown",
      "metadata": {
        "id": "jCpMOKot895Y"
      },
      "source": [
        "#set"
      ]
    },
    {
      "cell_type": "code",
      "execution_count": null,
      "metadata": {
        "colab": {
          "base_uri": "https://localhost:8080/"
        },
        "id": "Kyv-mVf7882B",
        "outputId": "fd5d31fb-93bc-4b5c-e9ef-85ed9d8bc616"
      },
      "outputs": [
        {
          "name": "stdout",
          "output_type": "stream",
          "text": [
            "{1, 2, 3, 4, 5, 6}\n"
          ]
        }
      ],
      "source": [
        "s={1,2,3,4,5,6,1,2,3,4,5,6}\n",
        "# type(s)\n",
        "print(s)#dublicates not allow : remove"
      ]
    },
    {
      "cell_type": "code",
      "execution_count": null,
      "metadata": {
        "colab": {
          "base_uri": "https://localhost:8080/"
        },
        "id": "ELo6BKLr-Pbq",
        "outputId": "2324a128-2fab-47c2-cd20-3617f264fda9"
      },
      "outputs": [
        {
          "name": "stdout",
          "output_type": "stream",
          "text": [
            "{66, 99, 1000, 9, 12, 13}\n"
          ]
        }
      ],
      "source": [
        "s={13,12,9,1000,66,99}#unordered\n",
        "print(s)"
      ]
    },
    {
      "cell_type": "code",
      "execution_count": null,
      "metadata": {
        "colab": {
          "base_uri": "https://localhost:8080/"
        },
        "id": "GEGI-5AL9YVV",
        "outputId": "33b6467a-9939-4d85-8c4f-b1c281b54f89"
      },
      "outputs": [
        {
          "name": "stdout",
          "output_type": "stream",
          "text": [
            "[1, 2, 3, 4, 5]\n"
          ]
        }
      ],
      "source": [
        "lst=[1,2,3,4,5,1,1,1,4,5,3,2]\n",
        "print(list(set(lst)))\n",
        "# op:\n",
        "# [1,2,3,4,5]"
      ]
    },
    {
      "cell_type": "code",
      "execution_count": null,
      "metadata": {
        "colab": {
          "base_uri": "https://localhost:8080/"
        },
        "id": "2L1YlGz6_Y8P",
        "outputId": "0e266040-a114-4d88-e4e1-2c03ebe88efc"
      },
      "outputs": [
        {
          "name": "stdout",
          "output_type": "stream",
          "text": [
            "[12, 13, 14, 15, 16, 77]\n"
          ]
        }
      ],
      "source": [
        "arr=[12,13,14,13,14,15,16,77,16]\n",
        "lst=[]\n",
        "for i in arr:\n",
        "  if i not in lst:\n",
        "    lst.append(i)\n",
        "print(lst)"
      ]
    },
    {
      "cell_type": "code",
      "execution_count": null,
      "metadata": {
        "colab": {
          "base_uri": "https://localhost:8080/",
          "height": 162
        },
        "id": "P1otrDus7MkY",
        "outputId": "182f85fc-1256-4a1b-850b-dd47c0da6275"
      },
      "outputs": [
        {
          "ename": "TypeError",
          "evalue": "'<' not supported between instances of 'str' and 'int'",
          "output_type": "error",
          "traceback": [
            "\u001b[0;31m---------------------------------------------------------------------------\u001b[0m",
            "\u001b[0;31mTypeError\u001b[0m                                 Traceback (most recent call last)",
            "\u001b[0;32m/tmp/ipython-input-72-619522846.py\u001b[0m in \u001b[0;36m<cell line: 0>\u001b[0;34m()\u001b[0m\n\u001b[1;32m      1\u001b[0m \u001b[0mt\u001b[0m\u001b[0;34m=\u001b[0m\u001b[0;34m(\u001b[0m\u001b[0;36m12\u001b[0m\u001b[0;34m,\u001b[0m\u001b[0;36m1\u001b[0m\u001b[0;34m,\u001b[0m\u001b[0;36m2\u001b[0m\u001b[0;34m,\u001b[0m\u001b[0;36m1\u001b[0m\u001b[0;34m,\u001b[0m\u001b[0;36m1\u001b[0m\u001b[0;34m,\u001b[0m\u001b[0;36m134\u001b[0m\u001b[0;34m,\u001b[0m\u001b[0;36m14.5\u001b[0m\u001b[0;34m,\u001b[0m\u001b[0;32mTrue\u001b[0m\u001b[0;34m,\u001b[0m\u001b[0;34m\"sakshi\"\u001b[0m\u001b[0;34m,\u001b[0m\u001b[0;34m\"paras\"\u001b[0m\u001b[0;34m,\u001b[0m\u001b[0;34m\"rushi\"\u001b[0m\u001b[0;34m)\u001b[0m\u001b[0;34m\u001b[0m\u001b[0;34m\u001b[0m\u001b[0m\n\u001b[0;32m----> 2\u001b[0;31m \u001b[0mmin\u001b[0m\u001b[0;34m(\u001b[0m\u001b[0mt\u001b[0m\u001b[0;34m)\u001b[0m\u001b[0;34m\u001b[0m\u001b[0;34m\u001b[0m\u001b[0m\n\u001b[0m",
            "\u001b[0;31mTypeError\u001b[0m: '<' not supported between instances of 'str' and 'int'"
          ]
        }
      ],
      "source": [
        "t=(12,1,2,1,1,134,14.5,True,\"sakshi\",\"paras\",\"rushi\")\n",
        "min(t)"
      ]
    },
    {
      "cell_type": "code",
      "execution_count": null,
      "metadata": {
        "colab": {
          "base_uri": "https://localhost:8080/",
          "height": 180
        },
        "id": "Q6ncKeYWAPNQ",
        "outputId": "9966a8e6-7203-46cd-a083-be37a164a6d5"
      },
      "outputs": [
        {
          "ename": "TypeError",
          "evalue": "'set' object is not subscriptable",
          "output_type": "error",
          "traceback": [
            "\u001b[0;31m---------------------------------------------------------------------------\u001b[0m",
            "\u001b[0;31mTypeError\u001b[0m                                 Traceback (most recent call last)",
            "\u001b[0;32m/tmp/ipython-input-94-1970279774.py\u001b[0m in \u001b[0;36m<cell line: 0>\u001b[0;34m()\u001b[0m\n\u001b[1;32m      2\u001b[0m \u001b[0;31m# len(s)\u001b[0m\u001b[0;34m\u001b[0m\u001b[0;34m\u001b[0m\u001b[0m\n\u001b[1;32m      3\u001b[0m \u001b[0;32mfor\u001b[0m \u001b[0mi\u001b[0m \u001b[0;32min\u001b[0m \u001b[0mrange\u001b[0m\u001b[0;34m(\u001b[0m\u001b[0mlen\u001b[0m\u001b[0;34m(\u001b[0m\u001b[0ms\u001b[0m\u001b[0;34m)\u001b[0m\u001b[0;34m)\u001b[0m\u001b[0;34m:\u001b[0m\u001b[0;34m\u001b[0m\u001b[0;34m\u001b[0m\u001b[0m\n\u001b[0;32m----> 4\u001b[0;31m   \u001b[0mprint\u001b[0m\u001b[0;34m(\u001b[0m\u001b[0ms\u001b[0m\u001b[0;34m[\u001b[0m\u001b[0mi\u001b[0m\u001b[0;34m]\u001b[0m\u001b[0;34m)\u001b[0m\u001b[0;34m\u001b[0m\u001b[0;34m\u001b[0m\u001b[0m\n\u001b[0m",
            "\u001b[0;31mTypeError\u001b[0m: 'set' object is not subscriptable"
          ]
        }
      ],
      "source": [
        "s={1,2,3,4,6,78}\n",
        "# len(s)\n",
        "for i in range(len(s)):\n",
        "  print(s[i])"
      ]
    },
    {
      "cell_type": "code",
      "execution_count": null,
      "metadata": {
        "colab": {
          "base_uri": "https://localhost:8080/"
        },
        "id": "hLC0xkoeAgCm",
        "outputId": "84b6cb8f-158e-4a44-fd19-55dafeb87476"
      },
      "outputs": [
        {
          "name": "stdout",
          "output_type": "stream",
          "text": [
            "{2, 3, 4, 6, 10}\n"
          ]
        }
      ],
      "source": [
        "s={1,2,3,4,\"rafik\",6}\n",
        "s.add(10)\n",
        "s.remove(\"rafik\")\n",
        "s.pop()\n",
        "print(s)"
      ]
    },
    {
      "cell_type": "code",
      "execution_count": null,
      "metadata": {
        "colab": {
          "base_uri": "https://localhost:8080/"
        },
        "id": "PaAl9CUqBGXW",
        "outputId": "88cdc0a2-7561-49b1-fce3-c97adf7ae0f3"
      },
      "outputs": [
        {
          "name": "stdout",
          "output_type": "stream",
          "text": [
            "{1, 2, 3, 4, 6}\n"
          ]
        }
      ],
      "source": [
        "s={1,2,3,4,\"rafik\",6}\n",
        "key=\"rafik\"\n",
        "s.discard(key)\n",
        "print(s)\n"
      ]
    },
    {
      "cell_type": "code",
      "execution_count": null,
      "metadata": {
        "colab": {
          "base_uri": "https://localhost:8080/"
        },
        "id": "NYorDQ4Y8HhG",
        "outputId": "46d5d0dd-ca6e-4cf1-cc9c-42e366d2396d"
      },
      "outputs": [
        {
          "data": {
            "text/plain": [
              "2"
            ]
          },
          "execution_count": 82,
          "metadata": {},
          "output_type": "execute_result"
        }
      ],
      "source": [
        "t=(1,2,1,11,99,0)\n",
        "t.count(1)"
      ]
    },
    {
      "cell_type": "markdown",
      "metadata": {
        "id": "kD0cvqLaBhqD"
      },
      "source": [
        "#set operations"
      ]
    },
    {
      "cell_type": "code",
      "execution_count": null,
      "metadata": {
        "colab": {
          "base_uri": "https://localhost:8080/"
        },
        "id": "DVFLHAUiBgif",
        "outputId": "08163c29-8526-44f2-f90f-7a4a775a5474"
      },
      "outputs": [
        {
          "name": "stdout",
          "output_type": "stream",
          "text": [
            "{1, 2, 3, 4, 5, 6}\n",
            "{1, 2, 3, 4, 5, 6}\n",
            "{3, 4}\n",
            "{3, 4}\n",
            "{5, 6}\n",
            "{1, 2}\n",
            "{1, 2, 5, 6}\n"
          ]
        }
      ],
      "source": [
        "set1={1,2,3,4}\n",
        "set2={3,4,5,6}\n",
        "print(set1.union(set2))\n",
        "print(set1|set2)\n",
        "print(set1.intersection(set2))\n",
        "print(set1&set2)\n",
        "print(set2.difference(set1))\n",
        "print(set1-set2)\n",
        "print(set1^set2)"
      ]
    },
    {
      "cell_type": "code",
      "execution_count": null,
      "metadata": {
        "colab": {
          "base_uri": "https://localhost:8080/"
        },
        "id": "IRoadiaX7XQU",
        "outputId": "1d2df4b4-bc95-4d19-9088-30ac2b386c99"
      },
      "outputs": [
        {
          "name": "stdout",
          "output_type": "stream",
          "text": [
            "[1, 2, 5, 6]\n"
          ]
        }
      ],
      "source": [
        "lst=[1,2,3,4]\n",
        "lst1=[3,4,5,6]\n",
        "s=set(lst)\n",
        "s1=set(lst1)\n",
        "print(list(s^s1))\n",
        "# op:[1,2,5,6]"
      ]
    },
    {
      "cell_type": "code",
      "execution_count": null,
      "metadata": {
        "colab": {
          "base_uri": "https://localhost:8080/"
        },
        "id": "TnTrRBnll5W6",
        "outputId": "52b48a5b-d8dd-4744-b7ce-c7311098b0b5"
      },
      "outputs": [
        {
          "name": "stdout",
          "output_type": "stream",
          "text": [
            "108\n"
          ]
        }
      ],
      "source": [
        "arr=[12,33,1,0,99,108]\n",
        "max=arr[0]\n",
        "for i in arr:\n",
        "  if max<i:\n",
        "    max=i\n",
        "print(max)\n"
      ]
    },
    {
      "cell_type": "code",
      "execution_count": null,
      "metadata": {
        "id": "qBoZ_Ehy7WQx"
      },
      "outputs": [],
      "source": []
    },
    {
      "cell_type": "code",
      "execution_count": null,
      "metadata": {
        "id": "cUd1Njyp7LWj"
      },
      "outputs": [],
      "source": []
    },
    {
      "cell_type": "code",
      "execution_count": null,
      "metadata": {
        "colab": {
          "base_uri": "https://localhost:8080/"
        },
        "id": "sdm3uA0AmNxX",
        "outputId": "48e7337b-4651-4e42-cc9f-d8173a7cd90c"
      },
      "outputs": [
        {
          "name": "stdout",
          "output_type": "stream",
          "text": [
            "12\n",
            "33\n",
            "1\n",
            "0\n",
            "99\n",
            "108\n"
          ]
        }
      ],
      "source": [
        "arr=[12,33,1,0,99,108]\n",
        "for i in arr:\n",
        "  print(i)"
      ]
    },
    {
      "cell_type": "code",
      "execution_count": null,
      "metadata": {
        "id": "Y2VFRbOlYA3s"
      },
      "outputs": [],
      "source": []
    },
    {
      "cell_type": "markdown",
      "metadata": {
        "id": "XgQ0qks-X9jL"
      },
      "source": [
        "Dictionary:"
      ]
    },
    {
      "cell_type": "code",
      "execution_count": null,
      "metadata": {
        "colab": {
          "base_uri": "https://localhost:8080/"
        },
        "id": "akQVOlNyo6UV",
        "outputId": "c7a4fd27-8c29-4668-e5a8-e57b29d9e9a4"
      },
      "outputs": [
        {
          "data": {
            "text/plain": [
              "dict"
            ]
          },
          "execution_count": 1,
          "metadata": {},
          "output_type": "execute_result"
        }
      ],
      "source": [
        "st={}\n",
        "type(st)"
      ]
    },
    {
      "cell_type": "code",
      "execution_count": null,
      "metadata": {
        "colab": {
          "base_uri": "https://localhost:8080/"
        },
        "id": "Pv2TVXaLYHlE",
        "outputId": "6c3c911f-e270-419f-96b7-92d4bcd1e5ab"
      },
      "outputs": [
        {
          "data": {
            "text/plain": [
              "dict"
            ]
          },
          "execution_count": 3,
          "metadata": {},
          "output_type": "execute_result"
        }
      ],
      "source": [
        "st={\"name\": \"sakshi\",\"roll_no\":5,\"age\":21}\n",
        "type(st)"
      ]
    },
    {
      "cell_type": "code",
      "execution_count": null,
      "metadata": {
        "colab": {
          "base_uri": "https://localhost:8080/"
        },
        "id": "rRY_O40GYqFG",
        "outputId": "dc370110-c5b5-49be-dd92-f295212bfe9e"
      },
      "outputs": [
        {
          "name": "stdout",
          "output_type": "stream",
          "text": [
            "{'name': 'sakshi', 'roll_no': 5, 'age': 21}\n"
          ]
        }
      ],
      "source": [
        "st={\"name\": \"sakshi\",\"roll_no\":5,\"age\":21}\n",
        "print(st)"
      ]
    },
    {
      "cell_type": "code",
      "execution_count": null,
      "metadata": {
        "colab": {
          "base_uri": "https://localhost:8080/"
        },
        "id": "g5n-aivDYvIG",
        "outputId": "d1e08923-c600-47fb-83ee-b6c044cde615"
      },
      "outputs": [
        {
          "data": {
            "text/plain": [
              "dict_keys(['name', 'roll_no', 'age'])"
            ]
          },
          "execution_count": 5,
          "metadata": {},
          "output_type": "execute_result"
        }
      ],
      "source": [
        "st.keys()"
      ]
    },
    {
      "cell_type": "code",
      "execution_count": null,
      "metadata": {
        "colab": {
          "base_uri": "https://localhost:8080/"
        },
        "id": "TWugfynDY5wF",
        "outputId": "d439cf39-232d-4450-f917-684e3a14a99b"
      },
      "outputs": [
        {
          "data": {
            "text/plain": [
              "dict_values(['sakshi', 5, 21])"
            ]
          },
          "execution_count": 6,
          "metadata": {},
          "output_type": "execute_result"
        }
      ],
      "source": [
        "st.values()"
      ]
    },
    {
      "cell_type": "code",
      "execution_count": null,
      "metadata": {
        "colab": {
          "base_uri": "https://localhost:8080/"
        },
        "id": "R2Lim1E9Y_8V",
        "outputId": "dfe89a3d-be17-4ae7-b3b5-502c3987d5ff"
      },
      "outputs": [
        {
          "data": {
            "text/plain": [
              "dict_items([('name', 'sakshi'), ('roll_no', 5), ('age', 21)])"
            ]
          },
          "execution_count": 7,
          "metadata": {},
          "output_type": "execute_result"
        }
      ],
      "source": [
        "st.items()"
      ]
    },
    {
      "cell_type": "code",
      "execution_count": null,
      "metadata": {
        "colab": {
          "base_uri": "https://localhost:8080/"
        },
        "id": "m0p3UwkzZErH",
        "outputId": "319398be-ede3-4f3c-a5e8-69ca0e017143"
      },
      "outputs": [
        {
          "name": "stdout",
          "output_type": "stream",
          "text": [
            "sakshi\n",
            "21\n"
          ]
        }
      ],
      "source": [
        "st={\"name\": \"sakshi\",\"roll_no\":5,\"age\":21}\n",
        "print(st[\"name\"])\n",
        "print(st[\"age\"])"
      ]
    },
    {
      "cell_type": "code",
      "execution_count": null,
      "metadata": {
        "colab": {
          "base_uri": "https://localhost:8080/"
        },
        "id": "kQkGYdkYZU0Y",
        "outputId": "5e45b5c8-2d2c-46e7-cf51-6432824c62f7"
      },
      "outputs": [
        {
          "name": "stdout",
          "output_type": "stream",
          "text": [
            "{'name': 'rushi', 'roll_no': 5, 'age': 21}\n"
          ]
        }
      ],
      "source": [
        "st[\"name\"]=\"rushi\"\n",
        "print(st)"
      ]
    },
    {
      "cell_type": "code",
      "execution_count": null,
      "metadata": {
        "colab": {
          "base_uri": "https://localhost:8080/"
        },
        "id": "-mssD03PZchp",
        "outputId": "c6e3854e-e62a-4df7-f33a-befb022e9cc0"
      },
      "outputs": [
        {
          "name": "stdout",
          "output_type": "stream",
          "text": [
            "[1, 2, 3, 4, 8, 90, 0, 5]\n"
          ]
        }
      ],
      "source": [
        "lst=[1,2,3,4]\n",
        "lst2=[8,90,0,5]\n",
        "lst.extend(lst2)\n",
        "print(lst)"
      ]
    },
    {
      "cell_type": "code",
      "execution_count": null,
      "metadata": {
        "colab": {
          "base_uri": "https://localhost:8080/"
        },
        "id": "ARmOUNuhZs8N",
        "outputId": "54eb0855-1e6e-4961-a6b1-07e8a25c3171"
      },
      "outputs": [
        {
          "data": {
            "text/plain": [
              "[1, 2, 3, 4, 8, 90, 0, 5, 8, 90, 0, 5]"
            ]
          },
          "execution_count": 13,
          "metadata": {},
          "output_type": "execute_result"
        }
      ],
      "source": [
        "lst+lst2"
      ]
    },
    {
      "cell_type": "code",
      "execution_count": null,
      "metadata": {
        "colab": {
          "base_uri": "https://localhost:8080/"
        },
        "id": "x5v1EqbPZ3EL",
        "outputId": "2fb69a91-7fa1-4253-e281-0fe32cebebda"
      },
      "outputs": [
        {
          "name": "stdout",
          "output_type": "stream",
          "text": [
            "name\n",
            "roll_no\n",
            "age\n"
          ]
        }
      ],
      "source": [
        "st={\"name\": \"sakshi\",\"roll_no\":5,\"age\":21}\n",
        "for k in st.keys():\n",
        "  print(k)\n"
      ]
    },
    {
      "cell_type": "code",
      "execution_count": null,
      "metadata": {
        "colab": {
          "base_uri": "https://localhost:8080/"
        },
        "id": "iLTRiyKaZ-g3",
        "outputId": "1e79c0e0-a802-408b-c372-17e4281a5622"
      },
      "outputs": [
        {
          "name": "stdout",
          "output_type": "stream",
          "text": [
            "sakshi\n",
            "5\n",
            "21\n"
          ]
        }
      ],
      "source": [
        "for v in st.values():\n",
        "  print(v)"
      ]
    },
    {
      "cell_type": "code",
      "execution_count": null,
      "metadata": {
        "colab": {
          "base_uri": "https://localhost:8080/"
        },
        "id": "Oy18ow5gag_d",
        "outputId": "2b91c473-eaca-430f-f1ee-976d84b75cfa"
      },
      "outputs": [
        {
          "name": "stdout",
          "output_type": "stream",
          "text": [
            "bhai name sakshi hai\n",
            "bhai roll_no 5 hai\n",
            "bhai age 21 hai\n"
          ]
        }
      ],
      "source": [
        "# bhai name sakshi hai\n",
        "# bhai roll no 5 hai\n",
        "# bhai age 21 hai\n",
        "st={\"name\": \"sakshi\",\"roll_no\":5,\"age\":21}\n",
        "for k,v in st.items():\n",
        "  print(f\"bhai {k} {v} hai\")"
      ]
    },
    {
      "cell_type": "code",
      "execution_count": null,
      "metadata": {
        "colab": {
          "base_uri": "https://localhost:8080/"
        },
        "id": "20Ir18tMbHSc",
        "outputId": "8052dcb5-b83e-41a0-c6d5-f7f3ddbf4f5d"
      },
      "outputs": [
        {
          "name": "stdout",
          "output_type": "stream",
          "text": [
            "{'name': 'sakshi', 'roll_no': 5, 'age': 21, 'per': 93.4}\n"
          ]
        }
      ],
      "source": [
        "st[\"per\"]=93.40\n",
        "print(st)"
      ]
    },
    {
      "cell_type": "markdown",
      "metadata": {
        "id": "efVGQogGcc6c"
      },
      "source": [
        "#function"
      ]
    },
    {
      "cell_type": "code",
      "execution_count": null,
      "metadata": {
        "id": "lEtBxfpKbrZx"
      },
      "outputs": [],
      "source": [
        "def : defination\n"
      ]
    },
    {
      "cell_type": "code",
      "execution_count": null,
      "metadata": {
        "colab": {
          "base_uri": "https://localhost:8080/"
        },
        "id": "9TIaz79Vcv18",
        "outputId": "99fc3998-ef07-4b7f-8161-2a74e5d3c0ea"
      },
      "outputs": [
        {
          "name": "stdout",
          "output_type": "stream",
          "text": [
            "hello world\n",
            "hello world\n",
            "hello world\n",
            "hello world\n"
          ]
        }
      ],
      "source": [
        "def Show():  #function creation\n",
        "  print(\"hello world\")\n",
        "\n",
        "Show() #function calling\n",
        "Show()\n",
        "Show()\n",
        "Show()"
      ]
    },
    {
      "cell_type": "code",
      "execution_count": null,
      "metadata": {
        "colab": {
          "base_uri": "https://localhost:8080/",
          "height": 108
        },
        "id": "E812kZfudNkz",
        "outputId": "25ce2ac5-5680-4113-df35-09c3f9b42cc5"
      },
      "outputs": [
        {
          "ename": "SyntaxError",
          "evalue": "unmatched ')' (ipython-input-27-4126979387.py, line 2)",
          "output_type": "error",
          "traceback": [
            "\u001b[0;36m  File \u001b[0;32m\"/tmp/ipython-input-27-4126979387.py\"\u001b[0;36m, line \u001b[0;32m2\u001b[0m\n\u001b[0;31m    1)user defined function\u001b[0m\n\u001b[0m     ^\u001b[0m\n\u001b[0;31mSyntaxError\u001b[0m\u001b[0;31m:\u001b[0m unmatched ')'\n"
          ]
        }
      ],
      "source": [
        "type of function :\n",
        "    1)user defined function:\n",
        "           1)default function/without parameterized function\n",
        "           2)parameterized function\n",
        "           3)function with return\n",
        "          4)lamda function\n",
        "\n",
        "    2)predefined/built in function:\n",
        "      list:\n",
        "      set:\n",
        "      tuple:\n",
        "      output\n",
        "      input\n",
        "      write\n",
        "      read\n",
        "      ag: sum,count,len,max,min"
      ]
    },
    {
      "cell_type": "code",
      "execution_count": null,
      "metadata": {
        "id": "DOHfxgMDd8zk"
      },
      "outputs": [],
      "source": [
        "def sq_number():\n",
        "  n=int(input(\"enter the number\"))\n",
        "  print(\"square is:\",n**2)\n",
        "\n",
        "sq_number()\n",
        "sq_number()\n",
        "sq_number()"
      ]
    },
    {
      "cell_type": "markdown",
      "metadata": {
        "id": "UUZodsUNcP8T"
      },
      "source": [
        "<!-- function -->"
      ]
    },
    {
      "cell_type": "code",
      "execution_count": null,
      "metadata": {
        "colab": {
          "base_uri": "https://localhost:8080/"
        },
        "id": "ZsN_QDDvfL2k",
        "outputId": "3b138ffe-b6fe-4218-d8de-35f83e139486"
      },
      "outputs": [
        {
          "name": "stdout",
          "output_type": "stream",
          "text": [
            "enter any number1221\n",
            "1221\n",
            "palindrome\n"
          ]
        }
      ],
      "source": [
        "# check number is palindrome or not using defualt function\n",
        "\n",
        "def check_palindrome():\n",
        "  num=int(input(\"enter any number\"))\n",
        "  t=num\n",
        "  rev=0\n",
        "  while num!=0:\n",
        "    rem=num%10\n",
        "    rev=rev*10+rem\n",
        "    num=num//10\n",
        "  print(rev)\n",
        "  if t==rev:\n",
        "    print(\"palindrome\")\n",
        "  else:\n",
        "    print(\"non palindrome\")\n",
        "\n",
        "check_palindrome()"
      ]
    },
    {
      "cell_type": "code",
      "execution_count": null,
      "metadata": {
        "colab": {
          "base_uri": "https://localhost:8080/"
        },
        "id": "gQaRCCsDh1J5",
        "outputId": "43da944b-63b6-4f9b-90a5-094407fb1182"
      },
      "outputs": [
        {
          "name": "stdout",
          "output_type": "stream",
          "text": [
            "enter any number1234\n",
            "no\n"
          ]
        }
      ],
      "source": [
        "def check_palindrome():\n",
        "  num=int(input(\"enter any number\"))\n",
        "  s=str(num)\n",
        "  if num==int(s[::-1]):\n",
        "    print(\"yes\")\n",
        "  else:\n",
        "    print(\"no\")\n",
        "\n",
        "check_palindrome()"
      ]
    },
    {
      "cell_type": "code",
      "execution_count": null,
      "metadata": {
        "colab": {
          "base_uri": "https://localhost:8080/"
        },
        "id": "mhJCkm7ajADm",
        "outputId": "8c55c687-d63f-40bd-f672-5dc13ea3a129"
      },
      "outputs": [
        {
          "name": "stdout",
          "output_type": "stream",
          "text": [
            "enter the number with space1 2 2 2 1\n",
            "yes\n"
          ]
        }
      ],
      "source": [
        "\n",
        "arr=list(map(int,input(\"enter the number with space\").split()))\n",
        "if arr==arr[::-1]:\n",
        "  print(\"yes\")\n",
        "else:\n",
        "  print(\"no\")"
      ]
    },
    {
      "cell_type": "code",
      "execution_count": null,
      "metadata": {
        "colab": {
          "base_uri": "https://localhost:8080/"
        },
        "id": "A3YSQGdemgTi",
        "outputId": "4d8457c5-aef6-4052-9347-0497f23c9d64"
      },
      "outputs": [
        {
          "data": {
            "text/plain": [
              "True"
            ]
          },
          "execution_count": 40,
          "metadata": {},
          "output_type": "execute_result"
        }
      ],
      "source": [
        "l=[1,2,3,4]\n",
        "s=[1,2,3,4]\n",
        "l==s"
      ]
    },
    {
      "cell_type": "code",
      "execution_count": null,
      "metadata": {
        "colab": {
          "base_uri": "https://localhost:8080/"
        },
        "id": "kHS9ZiuymnbW",
        "outputId": "8fb20d65-e6fc-47e3-9537-13da47e40623"
      },
      "outputs": [
        {
          "name": "stdout",
          "output_type": "stream",
          "text": [
            "addition of 10 and 20 =30\n"
          ]
        }
      ],
      "source": [
        "def addition(a,b): #arguments\n",
        "  print(f\"addition of {a} and {b} ={a+b}\")\n",
        "\n",
        "addition(10,20) #parameter"
      ]
    },
    {
      "cell_type": "code",
      "execution_count": null,
      "metadata": {
        "colab": {
          "base_uri": "https://localhost:8080/"
        },
        "id": "h_QAc1RFm9mf",
        "outputId": "378ebc4a-a606-47dc-8b61-eb7da2a28c41"
      },
      "outputs": [
        {
          "name": "stdout",
          "output_type": "stream",
          "text": [
            "number110\n",
            "number220\n",
            "addition of 10 and 20 =30\n"
          ]
        }
      ],
      "source": [
        "def addition(a,b): #arguments\n",
        "  print(f\"addition of {a} and {b} ={a+b}\")\n",
        "\n",
        "addition(int(input(\"number1\")),int(input(\"number2\"))) #parameter"
      ]
    },
    {
      "cell_type": "code",
      "execution_count": null,
      "metadata": {
        "colab": {
          "base_uri": "https://localhost:8080/"
        },
        "id": "U8s9q4uPnLBK",
        "outputId": "23c13662-2871-430a-f032-8fa47c26d2bc"
      },
      "outputs": [
        {
          "name": "stdout",
          "output_type": "stream",
          "text": [
            "addition of 10 and 20 =30\n"
          ]
        }
      ],
      "source": [
        "def addition(a,b,c): #arguments\n",
        "  print(f\"addition of {a} and {b} ={a+b}\")\n",
        "\n",
        "addition(10,20,30) #paramete"
      ]
    },
    {
      "cell_type": "code",
      "execution_count": null,
      "metadata": {
        "colab": {
          "base_uri": "https://localhost:8080/"
        },
        "id": "Vn-DtgQ5nUSU",
        "outputId": "6a5edad2-976d-4e0b-a748-4d83a46b77cc"
      },
      "outputs": [
        {
          "name": "stdout",
          "output_type": "stream",
          "text": [
            "enter value10\n",
            "enter value20\n",
            "enter value0\n",
            "addition of 10 and 20 =30\n"
          ]
        }
      ],
      "source": [
        "def addition(a,b,c): #arguments\n",
        "  print(f\"addition of {a} and {b} ={a+b}\")\n",
        "\n",
        "\n",
        "\n",
        "n1=int(input(\"enter value\"))\n",
        "n2=int(input(\"enter value\"))\n",
        "n3=int(input(\"enter value\"))\n",
        "addition(n1,n2,n3) #paramete"
      ]
    },
    {
      "cell_type": "code",
      "execution_count": null,
      "metadata": {
        "colab": {
          "base_uri": "https://localhost:8080/"
        },
        "id": "SEJdxy9Vnp_x",
        "outputId": "449b1da2-844c-4995-96f9-e588cbed1818"
      },
      "outputs": [
        {
          "name": "stdout",
          "output_type": "stream",
          "text": [
            "addition of 10 and 20 =30\n"
          ]
        }
      ],
      "source": [
        "def addition(a,b,c=0): #arguments\n",
        "  print(f\"addition of {a} and {b} ={a+b+c}\")\n",
        "\n",
        "addition(10,20) #paramete"
      ]
    },
    {
      "cell_type": "code",
      "execution_count": null,
      "metadata": {
        "colab": {
          "base_uri": "https://localhost:8080/"
        },
        "id": "OIu6FQh6o06h",
        "outputId": "169f7676-545a-438a-ca52-e75b47043ce0"
      },
      "outputs": [
        {
          "name": "stdout",
          "output_type": "stream",
          "text": [
            "addition of 10 and 20 =30\n"
          ]
        }
      ],
      "source": [
        "def addition(a=10,b=20): # default arguments\n",
        "  print(f\"addition of {a} and {b} ={a+b}\")\n",
        "\n",
        "addition() #paramete"
      ]
    },
    {
      "cell_type": "code",
      "execution_count": null,
      "metadata": {
        "colab": {
          "base_uri": "https://localhost:8080/"
        },
        "id": "TgYDUhvUpgUL",
        "outputId": "0ddcf032-1edb-4ded-f52f-084b7fabdf5f"
      },
      "outputs": [
        {
          "name": "stdout",
          "output_type": "stream",
          "text": [
            "<class 'tuple'>\n",
            "60\n"
          ]
        }
      ],
      "source": [
        "def show(*nums):\n",
        "  print(type(nums))\n",
        "  sum=0\n",
        "  for i in range(3):\n",
        "    sum=sum+nums[i]\n",
        "  print(sum)\n",
        "\n",
        "show(10,20,30,40,50,60)"
      ]
    },
    {
      "cell_type": "code",
      "execution_count": null,
      "metadata": {
        "colab": {
          "base_uri": "https://localhost:8080/"
        },
        "id": "sLrv7WW4pR-1",
        "outputId": "ce52cb53-1737-4a07-ce9b-a32421faaf54"
      },
      "outputs": [
        {
          "name": "stdout",
          "output_type": "stream",
          "text": [
            "<class 'tuple'>\n",
            "90\n"
          ]
        }
      ],
      "source": [
        "def show(*nums):\n",
        "  print(type(nums))\n",
        "  sum=0\n",
        "  for i in range(0,len(nums),2):\n",
        "    sum=sum+nums[i]\n",
        "  print(sum)\n",
        "\n",
        "show(10,20,30,40,50,60)"
      ]
    },
    {
      "cell_type": "code",
      "execution_count": null,
      "metadata": {
        "colab": {
          "base_uri": "https://localhost:8080/"
        },
        "id": "VQV06rbJqnBe",
        "outputId": "ec517977-9a6d-42ab-cc06-0554a49bea87"
      },
      "outputs": [
        {
          "name": "stdout",
          "output_type": "stream",
          "text": [
            "{'n1': 10, 'n2': 20}\n"
          ]
        }
      ],
      "source": [
        "def addition(**nums): #arguments\n",
        "  print(nums)\n",
        "\n",
        "addition(n1=10,n2=20) #paramete"
      ]
    },
    {
      "cell_type": "code",
      "execution_count": null,
      "metadata": {
        "colab": {
          "base_uri": "https://localhost:8080/"
        },
        "id": "RsaXcCkVqtLC",
        "outputId": "992811f7-77f1-4d03-c11c-91c08b7b3a40"
      },
      "outputs": [
        {
          "data": {
            "text/plain": [
              "1"
            ]
          },
          "execution_count": 61,
          "metadata": {},
          "output_type": "execute_result"
        }
      ],
      "source": [
        "def even_odd(n):\n",
        "  if n%2==0:\n",
        "    return 1\n",
        "  else:\n",
        "    return 0\n",
        "\n",
        "even_odd(12)"
      ]
    },
    {
      "cell_type": "code",
      "execution_count": null,
      "metadata": {
        "colab": {
          "base_uri": "https://localhost:8080/"
        },
        "id": "5-jKLoeprv7m",
        "outputId": "9eb4e2f6-afda-456b-e992-0839c94ccaba"
      },
      "outputs": [
        {
          "name": "stdout",
          "output_type": "stream",
          "text": [
            "0\n",
            "1\n"
          ]
        }
      ],
      "source": [
        "def even_odd(n):\n",
        "  if n%2==0:\n",
        "    return 1\n",
        "  else:\n",
        "    return 0\n",
        "\n",
        "r=even_odd(12)\n",
        "print(even_odd(13))\n",
        "print(r)\n",
        "# if r==1:\n",
        "#   print(\"even\")\n",
        "# else:\n",
        "#   print(\"odd\")"
      ]
    },
    {
      "cell_type": "code",
      "execution_count": null,
      "metadata": {
        "colab": {
          "base_uri": "https://localhost:8080/",
          "height": 36
        },
        "id": "r9faAA2-sAIo",
        "outputId": "0d5fbb6f-ca1d-4395-bc32-f1b705e4724d"
      },
      "outputs": [
        {
          "data": {
            "application/vnd.google.colaboratory.intrinsic+json": {
              "type": "string"
            },
            "text/plain": [
              "'even'"
            ]
          },
          "execution_count": 63,
          "metadata": {},
          "output_type": "execute_result"
        }
      ],
      "source": [
        "def even_odd(n):\n",
        "  if n%2==0:\n",
        "    return \"even\"\n",
        "  else:\n",
        "    return \"odd\"\n",
        "\n",
        "even_odd(12)"
      ]
    },
    {
      "cell_type": "code",
      "execution_count": null,
      "metadata": {
        "colab": {
          "base_uri": "https://localhost:8080/"
        },
        "id": "Fh0N2p4HsLEC",
        "outputId": "65f5d188-4501-4ad1-f6ee-539b5f6910e2"
      },
      "outputs": [
        {
          "name": "stdout",
          "output_type": "stream",
          "text": [
            "False\n"
          ]
        }
      ],
      "source": [
        "leap=False\n",
        "if 5<3:\n",
        "  leap=True\n",
        "\n",
        "print(leap)"
      ]
    },
    {
      "cell_type": "code",
      "execution_count": null,
      "metadata": {
        "id": "fIbWMySSyuLx"
      },
      "outputs": [],
      "source": [
        "a=10\n",
        "A=20\n",
        "print(a )"
      ]
    },
    {
      "cell_type": "markdown",
      "metadata": {
        "id": "dHKuGbjHcaDp"
      },
      "source": [
        "#object Oriented Programming lang"
      ]
    },
    {
      "cell_type": "code",
      "execution_count": null,
      "metadata": {
        "id": "4mC7Caq48lr3"
      },
      "outputs": [],
      "source": [
        "oops:\n",
        "class :\n",
        "object\n",
        "self keyword:\n",
        "variable :\n",
        "      static varaible\n",
        "      instance varaible\n",
        "method/function\n",
        "constructor\n"
      ]
    },
    {
      "cell_type": "code",
      "execution_count": null,
      "metadata": {
        "colab": {
          "base_uri": "https://localhost:8080/"
        },
        "id": "kE7OBvS7-qyP",
        "outputId": "e5a9e291-2d0a-4b42-db10-7c4abc04e881"
      },
      "outputs": [
        {
          "name": "stdout",
          "output_type": "stream",
          "text": [
            "this is show function\n"
          ]
        }
      ],
      "source": [
        "class Demo: #class creation\n",
        "  def show(self):\n",
        "    print(\"this is show function\")\n",
        "\n",
        "d=Demo() #creating object\n",
        "d.show()"
      ]
    },
    {
      "cell_type": "code",
      "execution_count": null,
      "metadata": {
        "colab": {
          "base_uri": "https://localhost:8080/"
        },
        "id": "QOBtQ7Hs_BcS",
        "outputId": "7d4bdf47-500d-40c0-8b9d-965e645057f0"
      },
      "outputs": [
        {
          "name": "stdout",
          "output_type": "stream",
          "text": [
            "enter the number15\n",
            "enter the number16\n",
            "addition of 15 and 16 31 \n"
          ]
        }
      ],
      "source": [
        "class Cal:\n",
        "  def get_data(self):\n",
        "    self.n1=int(input(\"enter the number\")) #instance variable\n",
        "    self.n2=int(input(\"enter the number\"))\n",
        "\n",
        "  def add(self):\n",
        "    print(f\"addition of {self.n1} and {self.n2} {self.n1+self.n2} \")\n",
        "\n",
        "\n",
        "c=Cal()\n",
        "c.get_data()\n",
        "c.add()"
      ]
    },
    {
      "cell_type": "code",
      "execution_count": null,
      "metadata": {
        "colab": {
          "base_uri": "https://localhost:8080/"
        },
        "id": "1qfn4lYIAf-g",
        "outputId": "e75a5dab-e0e2-4f93-b7d2-8432edcf333c"
      },
      "outputs": [
        {
          "name": "stdout",
          "output_type": "stream",
          "text": [
            "10\n"
          ]
        },
        {
          "data": {
            "text/plain": [
              "20"
            ]
          },
          "execution_count": 12,
          "metadata": {},
          "output_type": "execute_result"
        }
      ],
      "source": [
        "class Simple:\n",
        "  x=20 #static variable\n",
        "  def show(self):\n",
        "    x=10\n",
        "    print(x)\n",
        "\n",
        "s=Simple()\n",
        "s.show()\n",
        "s.x"
      ]
    },
    {
      "cell_type": "code",
      "execution_count": null,
      "metadata": {
        "id": "dL7LLEIeFATI"
      },
      "outputs": [],
      "source": [
        "class operations\n",
        "   static =13\n",
        "   name=\"\"\n",
        "   age=19\n",
        "\n",
        "   def show\n",
        "      name=\n",
        "      age=\n",
        "\n",
        "  o\n",
        "  print(o.static)\n",
        "  print(o.name)"
      ]
    },
    {
      "cell_type": "code",
      "execution_count": null,
      "metadata": {
        "id": "i3ASjT44IaUs"
      },
      "outputs": [],
      "source": [
        "class Cal:\n",
        "  def get_data(self):\n",
        "    self.n1=int(input(\"enter the number\")) #instance variable\n",
        "    self.n2=int(input(\"enter the number\"))\n",
        "\n",
        "  def add(self):\n",
        "    print(f\"addition of {self.n1} and {self.n2} {self.n1+self.n2} \")\n",
        "\n",
        "\n",
        "c=Cal()\n",
        "c.get_data()\n",
        "c.add()"
      ]
    },
    {
      "cell_type": "code",
      "execution_count": null,
      "metadata": {
        "id": "eOhpgsMFIpTX"
      },
      "outputs": [],
      "source": [
        "2^n\n",
        "\n",
        "a=2\n",
        "b=2\n",
        "a^b"
      ]
    },
    {
      "cell_type": "code",
      "execution_count": null,
      "metadata": {
        "colab": {
          "base_uri": "https://localhost:8080/"
        },
        "id": "4bZ3Xmq1Iaji",
        "outputId": "f1906efd-789b-49c3-e49b-d77b102be9d3"
      },
      "outputs": [
        {
          "name": "stdout",
          "output_type": "stream",
          "text": [
            "4\n"
          ]
        }
      ],
      "source": [
        "print(pow(2,2))"
      ]
    },
    {
      "cell_type": "code",
      "execution_count": null,
      "metadata": {
        "colab": {
          "base_uri": "https://localhost:8080/"
        },
        "id": "xc4QIlUqJqeL",
        "outputId": "0573c89e-afc5-43ee-9046-155c16b07594"
      },
      "outputs": [
        {
          "name": "stdout",
          "output_type": "stream",
          "text": [
            "4\n"
          ]
        }
      ],
      "source": [
        "print(2**2)"
      ]
    },
    {
      "cell_type": "code",
      "execution_count": null,
      "metadata": {
        "colab": {
          "base_uri": "https://localhost:8080/"
        },
        "id": "j81sSIbbJuLD",
        "outputId": "a52344f3-d803-48c7-a7c3-9cf1650eed9f"
      },
      "outputs": [
        {
          "name": "stdout",
          "output_type": "stream",
          "text": [
            "enter the a2\n",
            "enter the value of b3\n",
            "8\n",
            "8\n"
          ]
        }
      ],
      "source": [
        "class operation:\n",
        "  def get_num(self):\n",
        "    self.a=int(input(\"enter the a\"))\n",
        "    self.b=int(input(\"enter the value of b\"))\n",
        "\n",
        "  def cal_pow(self):\n",
        "    print(pow(self.a,self.b))\n",
        "    print(self.a**self.b)\n",
        "\n",
        "obj=operation()\n",
        "obj.get_num()\n",
        "obj.cal_pow()"
      ]
    },
    {
      "cell_type": "code",
      "execution_count": null,
      "metadata": {
        "colab": {
          "base_uri": "https://localhost:8080/"
        },
        "id": "UEMP8O-jKLmN",
        "outputId": "657e02dd-c168-41ca-b5b6-0f65fbd91ca0"
      },
      "outputs": [
        {
          "name": "stdout",
          "output_type": "stream",
          "text": [
            "8\n",
            "8\n"
          ]
        }
      ],
      "source": [
        "class operation:\n",
        "  def get_num(self,a,b):\n",
        "    self.a=a\n",
        "    self.b=b\n",
        "\n",
        "  def cal_pow(self):\n",
        "    print(pow(self.a,self.b))\n",
        "    print(self.a**self.b)\n",
        "\n",
        "obj=operation()\n",
        "obj.get_num(2,3)\n",
        "obj.cal_pow()"
      ]
    },
    {
      "cell_type": "code",
      "execution_count": null,
      "metadata": {
        "colab": {
          "base_uri": "https://localhost:8080/"
        },
        "id": "ial0VEQ7Kf4b",
        "outputId": "d48bf26e-173b-46c4-88a0-80d87c4f96de"
      },
      "outputs": [
        {
          "name": "stdout",
          "output_type": "stream",
          "text": [
            "enter the n12\n",
            "enter the n23\n",
            "8\n"
          ]
        }
      ],
      "source": [
        "class operation:\n",
        "  def get_num(ved,a,b):\n",
        "    ved.a=a\n",
        "    ved.b=b\n",
        "\n",
        "  def cal_pow(ved):\n",
        "    print(ved.a**ved.b)\n",
        "\n",
        "\n",
        "obj=operation()\n",
        "\n",
        "obj.get_num(int(input(\"enter the n1\")),int(input(\"enter the n2\")))\n",
        "obj.cal_pow()"
      ]
    },
    {
      "cell_type": "code",
      "execution_count": null,
      "metadata": {
        "colab": {
          "base_uri": "https://localhost:8080/"
        },
        "id": "SjSgTEsYLHXp",
        "outputId": "1ce3d5d7-c0d7-465d-8141-4876ff478b96"
      },
      "outputs": [
        {
          "data": {
            "text/plain": [
              "8"
            ]
          },
          "execution_count": 21,
          "metadata": {},
          "output_type": "execute_result"
        }
      ],
      "source": [
        "pow(2,3)"
      ]
    },
    {
      "cell_type": "code",
      "execution_count": null,
      "metadata": {
        "colab": {
          "base_uri": "https://localhost:8080/"
        },
        "id": "PhBJx7gDLo5p",
        "outputId": "dfc4daf0-402d-405d-90a4-0c10b52f94fb"
      },
      "outputs": [
        {
          "name": "stdout",
          "output_type": "stream",
          "text": [
            "30\n"
          ]
        }
      ],
      "source": [
        "def show(a,b):\n",
        "  print(a+b)\n",
        "\n",
        "\n",
        "\n",
        "n1=10\n",
        "n2=20\n",
        "\n",
        "show(n1,n2)"
      ]
    },
    {
      "cell_type": "code",
      "execution_count": null,
      "metadata": {
        "colab": {
          "base_uri": "https://localhost:8080/"
        },
        "id": "EYZGHvcCMBLu",
        "outputId": "e528e9cf-d8b9-4c40-a38c-2bfc46540321"
      },
      "outputs": [
        {
          "name": "stdout",
          "output_type": "stream",
          "text": [
            "True\n"
          ]
        }
      ],
      "source": [
        "class palindrome:\n",
        "  def show(self,lst):\n",
        "    self.lst=lst\n",
        "\n",
        "  def reverse(self):\n",
        "    rev=self.lst[::-1]\n",
        "    if self.lst==rev:\n",
        "      print(\"True\")\n",
        "    else:\n",
        "      print(\"False\")\n",
        "\n",
        "arr=[1,2,3,4,3,2,1]\n",
        "pal=palindrome()\n",
        "pal.show(arr)\n",
        "pal.reverse()"
      ]
    },
    {
      "cell_type": "code",
      "execution_count": null,
      "metadata": {
        "colab": {
          "base_uri": "https://localhost:8080/"
        },
        "id": "XBZ6kcvHRuCw",
        "outputId": "97531d09-7de4-42f6-d10a-c6668a4f6840"
      },
      "outputs": [
        {
          "data": {
            "text/plain": [
              "True"
            ]
          },
          "execution_count": 35,
          "metadata": {},
          "output_type": "execute_result"
        }
      ],
      "source": [
        "lst=[1,2,3,2,1,5]\n",
        "lst1=lst\n",
        "lst.reverse()\n",
        "lst1==lst"
      ]
    },
    {
      "cell_type": "code",
      "execution_count": null,
      "metadata": {
        "colab": {
          "base_uri": "https://localhost:8080/"
        },
        "id": "eRa9oaPiSUOq",
        "outputId": "19bad900-4ef5-4f9b-dc15-83ee3897ec8e"
      },
      "outputs": [
        {
          "name": "stdout",
          "output_type": "stream",
          "text": [
            "[9, 8, 7, 5, 4, 3, 2, 1]\n"
          ]
        }
      ],
      "source": [
        "arr=[1,2,3,4,5,7,8,9]\n",
        "rev=[]\n",
        "for i in range(len(arr)-1,-1,-1):\n",
        "  rev.append(arr[i])\n",
        "print(rev)"
      ]
    },
    {
      "cell_type": "code",
      "execution_count": null,
      "metadata": {
        "colab": {
          "base_uri": "https://localhost:8080/"
        },
        "id": "09wLgTW8UYJW",
        "outputId": "2c40063f-0998-4c3f-84e6-87131e9531e3"
      },
      "outputs": [
        {
          "name": "stdout",
          "output_type": "stream",
          "text": [
            "[5, 4, 3, 2, 1]\n",
            "non palindrome\n"
          ]
        }
      ],
      "source": [
        "class palindrome:\n",
        "  def get_data(self,arr):\n",
        "    self.arr=arr\n",
        "    self.rev=[]\n",
        "  def reverse(self):\n",
        "    for i in range(len(self.arr)-1,-1,-1):\n",
        "      self.rev.append(self.arr[i])\n",
        "    print(self.rev)\n",
        "    if self.arr==self.rev:\n",
        "      return True\n",
        "    else:\n",
        "      return False\n",
        "p=palindrome()\n",
        "arr=[1,2,3,4,5]\n",
        "p.get_data(arr)\n",
        "# print(p.reverse())\n",
        "r=p.reverse()\n",
        "if r==True:\n",
        "  print(\"palindrome\")\n",
        "else:\n",
        "  print(\"non palindrome\")\n"
      ]
    },
    {
      "cell_type": "markdown",
      "metadata": {
        "id": "I00SlHdwcS6b"
      },
      "source": [
        "#constructor"
      ]
    },
    {
      "cell_type": "code",
      "execution_count": null,
      "metadata": {
        "colab": {
          "base_uri": "https://localhost:8080/"
        },
        "id": "CXcp9iX1WtiB",
        "outputId": "cf206334-51ba-4166-b346-328f2dc8ba38"
      },
      "outputs": [
        {
          "name": "stdout",
          "output_type": "stream",
          "text": [
            "this is constructor\n"
          ]
        }
      ],
      "source": [
        "#default constructor\n",
        "class Demo:\n",
        "  def __init__(self):\n",
        "    print(\"this is constructor\")\n",
        "\n",
        "d=Demo()"
      ]
    },
    {
      "cell_type": "code",
      "execution_count": null,
      "metadata": {
        "colab": {
          "base_uri": "https://localhost:8080/"
        },
        "id": "FrAUFJR9ZZ6s",
        "outputId": "10deec8d-57b3-450a-db0f-7d980da9ba96"
      },
      "outputs": [
        {
          "name": "stdout",
          "output_type": "stream",
          "text": [
            "addition :30\n"
          ]
        }
      ],
      "source": [
        "class cal:\n",
        "  def __init__(self):\n",
        "    self.a=10\n",
        "    self.b=20\n",
        "  def add(self):\n",
        "    print(f\"addition :{self.a+self.b}\")\n",
        "c=cal()\n",
        "c.add()"
      ]
    },
    {
      "cell_type": "code",
      "execution_count": null,
      "metadata": {
        "colab": {
          "base_uri": "https://localhost:8080/"
        },
        "id": "p7tfaJhNaHSl",
        "outputId": "82df0559-8f81-4268-b1b3-fe0cc326553f"
      },
      "outputs": [
        {
          "name": "stdout",
          "output_type": "stream",
          "text": [
            "addition :210\n"
          ]
        }
      ],
      "source": [
        "class cal:\n",
        "  def __init__(self,n1,n2):\n",
        "    self.a=n1\n",
        "    self.b=n2\n",
        "  def add(self):\n",
        "    print(f\"addition :{self.a+self.b}\")\n",
        "c=cal(10,200)\n",
        "c.add()"
      ]
    },
    {
      "cell_type": "code",
      "execution_count": null,
      "metadata": {
        "id": "LSmoDAL8cxzv"
      },
      "outputs": [],
      "source": []
    },
    {
      "cell_type": "code",
      "execution_count": null,
      "metadata": {
        "colab": {
          "base_uri": "https://localhost:8080/"
        },
        "id": "nc1Q0VycdVwb",
        "outputId": "d2652883-d706-4126-d1eb-1eb3e144eea9"
      },
      "outputs": [
        {
          "name": "stdout",
          "output_type": "stream",
          "text": [
            "enter\n",
            "1.tea\n",
            "2.coffee\n",
            "3.pizza1\n",
            "tea is selected\n"
          ]
        }
      ],
      "source": [
        "ch=(input(\"enter\\n1.tea\\n2.coffee\\n3.pizza\"))\n",
        "if ch==\"1\":\n",
        "  print(\"tea is selected\")\n",
        "elif ch==2:\n",
        "  print(\"coffee is selected\")\n",
        "elif ch==3:\n",
        "  print(\"pizza is selected\")\n",
        "else:\n",
        "  print(\"invalid choice\")"
      ]
    },
    {
      "cell_type": "code",
      "execution_count": null,
      "metadata": {
        "colab": {
          "base_uri": "https://localhost:8080/"
        },
        "id": "6CCclLeId_X9",
        "outputId": "e19e2836-4e8e-4a26-c5ab-73dfcb296193"
      },
      "outputs": [
        {
          "name": "stdout",
          "output_type": "stream",
          "text": [
            "enter\n",
            "1.tea\n",
            "2.coffee\n",
            "3.pizza1\n",
            "tea is selected\n"
          ]
        }
      ],
      "source": [
        "ch=int(input(\"enter\\n1.tea\\n2.coffee\\n3.pizza\"))\n",
        "match(ch):\n",
        "  case 1 :\n",
        "    print(\"tea is selected\")\n",
        "  case 2:\n",
        "    print(\"coffee is selected\")\n",
        "  case 3:\n",
        "    print(\"pizza is selected\")\n",
        "  case _:\n",
        "    print(\"invalid choice\")"
      ]
    },
    {
      "cell_type": "code",
      "execution_count": null,
      "metadata": {
        "colab": {
          "base_uri": "https://localhost:8080/"
        },
        "id": "nGxTvGHDeo8H",
        "outputId": "e1d34b74-4e6e-4e73-bda0-cebe512ae5ea"
      },
      "outputs": [
        {
          "name": "stdout",
          "output_type": "stream",
          "text": [
            "enter number0\n",
            "sunday\n"
          ]
        }
      ],
      "source": [
        "ch=int(input(\"enter number\"))\n",
        "\n",
        "match(ch%7):\n",
        "  case 1:\n",
        "    print(\"Monday\")\n",
        "  case 2:\n",
        "    print(\"Tuesday\")\n",
        "  case 3:\n",
        "    print(\"Wednesday\")\n",
        "  case 4:\n",
        "    print(\"Thursday\")\n",
        "  case 5:\n",
        "    print(\"Friday\")\n",
        "  case 6:\n",
        "    print(\"Saturday\")\n",
        "  case 0:\n",
        "    print(\"sunday\")"
      ]
    },
    {
      "cell_type": "code",
      "execution_count": null,
      "metadata": {
        "id": "3cJbXvLShhlx"
      },
      "outputs": [],
      "source": [
        "__init__\n",
        "add\n",
        "sub\n",
        "mul\n",
        "div\n",
        "\n",
        "\n",
        "ch=1\n",
        "  add\n",
        "ch=2"
      ]
    },
    {
      "cell_type": "code",
      "execution_count": null,
      "metadata": {
        "colab": {
          "base_uri": "https://localhost:8080/"
        },
        "id": "qExL9wwqyHC4",
        "outputId": "964761f3-d8e3-46de-c1d4-ed06b45c2b83"
      },
      "outputs": [
        {
          "name": "stdout",
          "output_type": "stream",
          "text": [
            "enter your choice\n",
            "1.add\n",
            "2.sub\n",
            "3.mul2\n",
            "substraction :-100\n"
          ]
        }
      ],
      "source": [
        "class cal:\n",
        "  def __init__(self,n1,n2):\n",
        "    self.a=n1\n",
        "    self.b=n2\n",
        "  def add(self):\n",
        "    print(f\"addition :{self.a+self.b}\")\n",
        "\n",
        "  def sub(self):\n",
        "    print(f\"substraction :{self.a-self.b}\")\n",
        "\n",
        "  def mul(self):\n",
        "    print(f\"multiplication:{self.a*self.b}\")\n",
        "\n",
        "  def choice(self):\n",
        "    ch=int(input(\"enter your choice\\n1.add\\n2.sub\\n3.mul\"))\n",
        "    if ch==1:\n",
        "      self.add()\n",
        "    elif ch==2:\n",
        "      self.sub()\n",
        "    elif ch==3:\n",
        "      self.mul()\n",
        "    else:\n",
        "      print(\"invalid choice\")\n",
        "\n",
        "c=cal(100,200)\n",
        "c.choice()\n"
      ]
    },
    {
      "cell_type": "code",
      "execution_count": null,
      "metadata": {
        "id": "Z0ZGXyTWyQev"
      },
      "outputs": [],
      "source": [
        "   welcome to tapri\n",
        "   ------------------\n",
        "   items      count       amount          #tea 6  coffee 15  pizza 50\n",
        "   tea          3           18\n",
        "   coffee       2           30\n",
        "   pizza        2           100\n",
        "   -------------------------------\n",
        "   Total        7           148\n",
        "   --------------------------------\n",
        "   visit again!\n"
      ]
    },
    {
      "cell_type": "code",
      "execution_count": null,
      "metadata": {
        "colab": {
          "base_uri": "https://localhost:8080/"
        },
        "id": "iE3lakd_7Bl2",
        "outputId": "6b556a05-bff4-4a91-cb2f-81c501629a91"
      },
      "outputs": [
        {
          "name": "stdout",
          "output_type": "stream",
          "text": [
            "\u001b[1;30;43mStreaming output truncated to the last 5000 lines.\u001b[0m\n",
            "hello world\n",
            "hello world\n",
            "hello world\n",
            "hello world\n",
            "hello world\n",
            "hello world\n",
            "hello world\n",
            "hello world\n",
            "hello world\n",
            "hello world\n",
            "hello world\n",
            "hello world\n",
            "hello world\n",
            "hello world\n",
            "hello world\n",
            "hello world\n",
            "hello world\n",
            "hello world\n",
            "hello world\n",
            "hello world\n",
            "hello world\n",
            "hello world\n",
            "hello world\n",
            "hello world\n",
            "hello world\n",
            "hello world\n",
            "hello world\n",
            "hello world\n",
            "hello world\n",
            "hello world\n",
            "hello world\n",
            "hello world\n",
            "hello world\n",
            "hello world\n",
            "hello world\n",
            "hello world\n",
            "hello world\n",
            "hello world\n",
            "hello world\n",
            "hello world\n",
            "hello world\n",
            "hello world\n",
            "hello world\n",
            "hello world\n",
            "hello world\n",
            "hello world\n",
            "hello world\n",
            "hello world\n",
            "hello world\n",
            "hello world\n",
            "hello world\n",
            "hello world\n",
            "hello world\n",
            "hello world\n",
            "hello world\n",
            "hello world\n",
            "hello world\n",
            "hello world\n",
            "hello world\n",
            "hello world\n",
            "hello world\n",
            "hello world\n",
            "hello world\n",
            "hello world\n",
            "hello world\n",
            "hello world\n",
            "hello world\n",
            "hello world\n",
            "hello world\n",
            "hello world\n",
            "hello world\n",
            "hello world\n",
            "hello world\n",
            "hello world\n",
            "hello world\n",
            "hello world\n",
            "hello world\n",
            "hello world\n",
            "hello world\n",
            "hello world\n",
            "hello world\n",
            "hello world\n",
            "hello world\n",
            "hello world\n",
            "hello world\n",
            "hello world\n",
            "hello world\n",
            "hello world\n",
            "hello world\n",
            "hello world\n",
            "hello world\n",
            "hello world\n",
            "hello world\n",
            "hello world\n",
            "hello world\n",
            "hello world\n",
            "hello world\n",
            "hello world\n",
            "hello world\n",
            "hello world\n",
            "hello world\n",
            "hello world\n",
            "hello world\n",
            "hello world\n",
            "hello world\n",
            "hello world\n",
            "hello world\n",
            "hello world\n",
            "hello world\n",
            "hello world\n",
            "hello world\n",
            "hello world\n",
            "hello world\n",
            "hello world\n",
            "hello world\n",
            "hello world\n",
            "hello world\n",
            "hello world\n",
            "hello world\n",
            "hello world\n",
            "hello world\n",
            "hello world\n",
            "hello world\n",
            "hello world\n",
            "hello world\n",
            "hello world\n",
            "hello world\n",
            "hello world\n",
            "hello world\n",
            "hello world\n",
            "hello world\n",
            "hello world\n",
            "hello world\n",
            "hello world\n",
            "hello world\n",
            "hello world\n",
            "hello world\n",
            "hello world\n",
            "hello world\n",
            "hello world\n",
            "hello world\n",
            "hello world\n",
            "hello world\n",
            "hello world\n",
            "hello world\n",
            "hello world\n",
            "hello world\n",
            "hello world\n",
            "hello world\n",
            "hello world\n",
            "hello world\n",
            "hello world\n",
            "hello world\n",
            "hello world\n",
            "hello world\n",
            "hello world\n",
            "hello world\n",
            "hello world\n",
            "hello world\n",
            "hello world\n",
            "hello world\n",
            "hello world\n",
            "hello world\n",
            "hello world\n",
            "hello world\n",
            "hello world\n",
            "hello world\n",
            "hello world\n",
            "hello world\n",
            "hello world\n",
            "hello world\n",
            "hello world\n",
            "hello world\n",
            "hello world\n",
            "hello world\n",
            "hello world\n",
            "hello world\n",
            "hello world\n",
            "hello world\n",
            "hello world\n",
            "hello world\n",
            "hello world\n",
            "hello world\n",
            "hello world\n",
            "hello world\n",
            "hello world\n",
            "hello world\n",
            "hello world\n",
            "hello world\n",
            "hello world\n",
            "hello world\n",
            "hello world\n",
            "hello world\n",
            "hello world\n",
            "hello world\n",
            "hello world\n",
            "hello world\n",
            "hello world\n",
            "hello world\n",
            "hello world\n",
            "hello world\n",
            "hello world\n",
            "hello world\n",
            "hello world\n",
            "hello world\n",
            "hello world\n",
            "hello world\n",
            "hello world\n",
            "hello world\n",
            "hello world\n",
            "hello world\n",
            "hello world\n",
            "hello world\n",
            "hello world\n",
            "hello world\n",
            "hello world\n",
            "hello world\n",
            "hello world\n",
            "hello world\n",
            "hello world\n",
            "hello world\n",
            "hello world\n",
            "hello world\n",
            "hello world\n",
            "hello world\n",
            "hello world\n",
            "hello world\n",
            "hello world\n",
            "hello world\n",
            "hello world\n",
            "hello world\n",
            "hello world\n",
            "hello world\n",
            "hello world\n",
            "hello world\n",
            "hello world\n",
            "hello world\n",
            "hello world\n",
            "hello world\n",
            "hello world\n",
            "hello world\n",
            "hello world\n",
            "hello world\n",
            "hello world\n",
            "hello world\n",
            "hello world\n",
            "hello world\n",
            "hello world\n",
            "hello world\n",
            "hello world\n",
            "hello world\n",
            "hello world\n",
            "hello world\n",
            "hello world\n",
            "hello world\n",
            "hello world\n",
            "hello world\n",
            "hello world\n",
            "hello world\n",
            "hello world\n",
            "hello world\n",
            "hello world\n",
            "hello world\n",
            "hello world\n",
            "hello world\n",
            "hello world\n",
            "hello world\n",
            "hello world\n",
            "hello world\n",
            "hello world\n",
            "hello world\n",
            "hello world\n",
            "hello world\n",
            "hello world\n",
            "hello world\n",
            "hello world\n",
            "hello world\n",
            "hello world\n",
            "hello world\n",
            "hello world\n",
            "hello world\n",
            "hello world\n",
            "hello world\n",
            "hello world\n",
            "hello world\n",
            "hello world\n",
            "hello world\n",
            "hello world\n",
            "hello world\n",
            "hello world\n",
            "hello world\n",
            "hello world\n",
            "hello world\n",
            "hello world\n",
            "hello world\n",
            "hello world\n",
            "hello world\n",
            "hello world\n",
            "hello world\n",
            "hello world\n",
            "hello world\n",
            "hello world\n",
            "hello world\n",
            "hello world\n",
            "hello world\n",
            "hello world\n",
            "hello world\n",
            "hello world\n",
            "hello world\n",
            "hello world\n",
            "hello world\n",
            "hello world\n",
            "hello world\n",
            "hello world\n",
            "hello world\n",
            "hello world\n",
            "hello world\n",
            "hello world\n",
            "hello world\n",
            "hello world\n",
            "hello world\n",
            "hello world\n",
            "hello world\n",
            "hello world\n",
            "hello world\n",
            "hello world\n",
            "hello world\n",
            "hello world\n",
            "hello world\n",
            "hello world\n",
            "hello world\n",
            "hello world\n",
            "hello world\n",
            "hello world\n",
            "hello world\n",
            "hello world\n",
            "hello world\n",
            "hello world\n",
            "hello world\n",
            "hello world\n",
            "hello world\n",
            "hello world\n",
            "hello world\n",
            "hello world\n",
            "hello world\n",
            "hello world\n",
            "hello world\n",
            "hello world\n",
            "hello world\n",
            "hello world\n",
            "hello world\n",
            "hello world\n",
            "hello world\n",
            "hello world\n",
            "hello world\n",
            "hello world\n",
            "hello world\n",
            "hello world\n",
            "hello world\n",
            "hello world\n",
            "hello world\n",
            "hello world\n",
            "hello world\n",
            "hello world\n",
            "hello world\n",
            "hello world\n",
            "hello world\n",
            "hello world\n",
            "hello world\n",
            "hello world\n",
            "hello world\n",
            "hello world\n",
            "hello world\n",
            "hello world\n",
            "hello world\n",
            "hello world\n",
            "hello world\n",
            "hello world\n",
            "hello world\n",
            "hello world\n",
            "hello world\n",
            "hello world\n",
            "hello world\n",
            "hello world\n",
            "hello world\n",
            "hello world\n",
            "hello world\n",
            "hello world\n",
            "hello world\n",
            "hello world\n",
            "hello world\n",
            "hello world\n",
            "hello world\n",
            "hello world\n",
            "hello world\n",
            "hello world\n",
            "hello world\n",
            "hello world\n",
            "hello world\n",
            "hello world\n",
            "hello world\n",
            "hello world\n",
            "hello world\n",
            "hello world\n",
            "hello world\n",
            "hello world\n",
            "hello world\n",
            "hello world\n",
            "hello world\n",
            "hello world\n",
            "hello world\n",
            "hello world\n",
            "hello world\n",
            "hello world\n",
            "hello world\n",
            "hello world\n",
            "hello world\n",
            "hello world\n",
            "hello world\n",
            "hello world\n",
            "hello world\n",
            "hello world\n",
            "hello world\n",
            "hello world\n",
            "hello world\n",
            "hello world\n",
            "hello world\n",
            "hello world\n",
            "hello world\n",
            "hello world\n",
            "hello world\n",
            "hello world\n",
            "hello world\n",
            "hello world\n",
            "hello world\n",
            "hello world\n",
            "hello world\n",
            "hello world\n",
            "hello world\n",
            "hello world\n",
            "hello world\n",
            "hello world\n",
            "hello world\n",
            "hello world\n",
            "hello world\n",
            "hello world\n",
            "hello world\n",
            "hello world\n",
            "hello world\n",
            "hello world\n",
            "hello world\n",
            "hello world\n",
            "hello world\n",
            "hello world\n",
            "hello world\n",
            "hello world\n",
            "hello world\n",
            "hello world\n",
            "hello world\n",
            "hello world\n",
            "hello world\n",
            "hello world\n",
            "hello world\n",
            "hello world\n",
            "hello world\n",
            "hello world\n",
            "hello world\n",
            "hello world\n",
            "hello world\n",
            "hello world\n",
            "hello world\n",
            "hello world\n",
            "hello world\n",
            "hello world\n",
            "hello world\n",
            "hello world\n",
            "hello world\n",
            "hello world\n",
            "hello world\n",
            "hello world\n",
            "hello world\n",
            "hello world\n",
            "hello world\n",
            "hello world\n",
            "hello world\n",
            "hello world\n",
            "hello world\n",
            "hello world\n",
            "hello world\n",
            "hello world\n",
            "hello world\n",
            "hello world\n",
            "hello world\n",
            "hello world\n",
            "hello world\n",
            "hello world\n",
            "hello world\n",
            "hello world\n",
            "hello world\n",
            "hello world\n",
            "hello world\n",
            "hello world\n",
            "hello world\n",
            "hello world\n",
            "hello world\n",
            "hello world\n",
            "hello world\n",
            "hello world\n",
            "hello world\n",
            "hello world\n",
            "hello world\n",
            "hello world\n",
            "hello world\n",
            "hello world\n",
            "hello world\n",
            "hello world\n",
            "hello world\n",
            "hello world\n",
            "hello world\n",
            "hello world\n",
            "hello world\n",
            "hello world\n",
            "hello world\n",
            "hello world\n",
            "hello world\n",
            "hello world\n",
            "hello world\n",
            "hello world\n",
            "hello world\n",
            "hello world\n",
            "hello world\n",
            "hello world\n",
            "hello world\n",
            "hello world\n",
            "hello world\n",
            "hello world\n",
            "hello world\n",
            "hello world\n",
            "hello world\n",
            "hello world\n",
            "hello world\n",
            "hello world\n",
            "hello world\n",
            "hello world\n",
            "hello world\n",
            "hello world\n",
            "hello world\n",
            "hello world\n",
            "hello world\n",
            "hello world\n",
            "hello world\n",
            "hello world\n",
            "hello world\n",
            "hello world\n",
            "hello world\n",
            "hello world\n",
            "hello world\n",
            "hello world\n",
            "hello world\n",
            "hello world\n",
            "hello world\n",
            "hello world\n",
            "hello world\n",
            "hello world\n",
            "hello world\n",
            "hello world\n",
            "hello world\n",
            "hello world\n",
            "hello world\n",
            "hello world\n",
            "hello world\n",
            "hello world\n",
            "hello world\n",
            "hello world\n",
            "hello world\n",
            "hello world\n",
            "hello world\n",
            "hello world\n",
            "hello world\n",
            "hello world\n",
            "hello world\n",
            "hello world\n",
            "hello world\n",
            "hello world\n",
            "hello world\n",
            "hello world\n",
            "hello world\n",
            "hello world\n",
            "hello world\n",
            "hello world\n",
            "hello world\n",
            "hello world\n",
            "hello world\n",
            "hello world\n",
            "hello world\n",
            "hello world\n",
            "hello world\n",
            "hello world\n",
            "hello world\n",
            "hello world\n",
            "hello world\n",
            "hello world\n",
            "hello world\n",
            "hello world\n",
            "hello world\n",
            "hello world\n",
            "hello world\n",
            "hello world\n",
            "hello world\n",
            "hello world\n",
            "hello world\n",
            "hello world\n",
            "hello world\n",
            "hello world\n",
            "hello world\n",
            "hello world\n",
            "hello world\n",
            "hello world\n",
            "hello world\n",
            "hello world\n",
            "hello world\n",
            "hello world\n",
            "hello world\n",
            "hello world\n",
            "hello world\n",
            "hello world\n",
            "hello world\n",
            "hello world\n",
            "hello world\n",
            "hello world\n",
            "hello world\n",
            "hello world\n",
            "hello world\n",
            "hello world\n",
            "hello world\n",
            "hello world\n",
            "hello world\n",
            "hello world\n",
            "hello world\n",
            "hello world\n",
            "hello world\n",
            "hello world\n",
            "hello world\n",
            "hello world\n",
            "hello world\n",
            "hello world\n",
            "hello world\n",
            "hello world\n",
            "hello world\n",
            "hello world\n",
            "hello world\n",
            "hello world\n",
            "hello world\n",
            "hello world\n",
            "hello world\n",
            "hello world\n",
            "hello world\n",
            "hello world\n",
            "hello world\n",
            "hello world\n",
            "hello world\n",
            "hello world\n",
            "hello world\n",
            "hello world\n",
            "hello world\n",
            "hello world\n",
            "hello world\n",
            "hello world\n",
            "hello world\n",
            "hello world\n",
            "hello world\n",
            "hello world\n",
            "hello world\n",
            "hello world\n",
            "hello world\n",
            "hello world\n",
            "hello world\n",
            "hello world\n",
            "hello world\n",
            "hello world\n",
            "hello world\n",
            "hello world\n",
            "hello world\n",
            "hello world\n",
            "hello world\n",
            "hello world\n",
            "hello world\n",
            "hello world\n",
            "hello world\n",
            "hello world\n",
            "hello world\n",
            "hello world\n",
            "hello world\n",
            "hello world\n",
            "hello world\n",
            "hello world\n",
            "hello world\n",
            "hello world\n",
            "hello world\n",
            "hello world\n",
            "hello world\n",
            "hello world\n",
            "hello world\n",
            "hello world\n",
            "hello world\n",
            "hello world\n",
            "hello world\n",
            "hello world\n",
            "hello world\n",
            "hello world\n",
            "hello world\n",
            "hello world\n",
            "hello world\n",
            "hello world\n",
            "hello world\n",
            "hello world\n",
            "hello world\n",
            "hello world\n",
            "hello world\n",
            "hello world\n",
            "hello world\n",
            "hello world\n",
            "hello world\n",
            "hello world\n",
            "hello world\n",
            "hello world\n",
            "hello world\n",
            "hello world\n",
            "hello world\n",
            "hello world\n",
            "hello world\n",
            "hello world\n",
            "hello world\n",
            "hello world\n",
            "hello world\n",
            "hello world\n",
            "hello world\n",
            "hello world\n",
            "hello world\n",
            "hello world\n",
            "hello world\n",
            "hello world\n",
            "hello world\n",
            "hello world\n",
            "hello world\n",
            "hello world\n",
            "hello world\n",
            "hello world\n",
            "hello world\n",
            "hello world\n",
            "hello world\n",
            "hello world\n",
            "hello world\n",
            "hello world\n",
            "hello world\n",
            "hello world\n",
            "hello world\n",
            "hello world\n",
            "hello world\n",
            "hello world\n",
            "hello world\n",
            "hello world\n",
            "hello world\n",
            "hello world\n",
            "hello world\n",
            "hello world\n",
            "hello world\n",
            "hello world\n",
            "hello world\n",
            "hello world\n",
            "hello world\n",
            "hello world\n",
            "hello world\n",
            "hello world\n",
            "hello world\n",
            "hello world\n",
            "hello world\n",
            "hello world\n",
            "hello world\n",
            "hello world\n",
            "hello world\n",
            "hello world\n",
            "hello world\n",
            "hello world\n",
            "hello world\n",
            "hello world\n",
            "hello world\n",
            "hello world\n",
            "hello world\n",
            "hello world\n",
            "hello world\n",
            "hello world\n",
            "hello world\n",
            "hello world\n",
            "hello world\n",
            "hello world\n",
            "hello world\n",
            "hello world\n",
            "hello world\n",
            "hello world\n",
            "hello world\n",
            "hello world\n",
            "hello world\n",
            "hello world\n",
            "hello world\n",
            "hello world\n",
            "hello world\n",
            "hello world\n",
            "hello world\n",
            "hello world\n",
            "hello world\n",
            "hello world\n",
            "hello world\n",
            "hello world\n",
            "hello world\n",
            "hello world\n",
            "hello world\n",
            "hello world\n",
            "hello world\n",
            "hello world\n",
            "hello world\n",
            "hello world\n",
            "hello world\n",
            "hello world\n",
            "hello world\n",
            "hello world\n",
            "hello world\n",
            "hello world\n",
            "hello world\n",
            "hello world\n",
            "hello world\n",
            "hello world\n",
            "hello world\n",
            "hello world\n",
            "hello world\n",
            "hello world\n",
            "hello world\n",
            "hello world\n",
            "hello world\n",
            "hello world\n",
            "hello world\n",
            "hello world\n",
            "hello world\n",
            "hello world\n",
            "hello world\n",
            "hello world\n",
            "hello world\n",
            "hello world\n",
            "hello world\n",
            "hello world\n",
            "hello world\n",
            "hello world\n",
            "hello world\n",
            "hello world\n",
            "hello world\n",
            "hello world\n",
            "hello world\n",
            "hello world\n",
            "hello world\n",
            "hello world\n",
            "hello world\n",
            "hello world\n",
            "hello world\n",
            "hello world\n",
            "hello world\n",
            "hello world\n",
            "hello world\n",
            "hello world\n",
            "hello world\n",
            "hello world\n",
            "hello world\n",
            "hello world\n",
            "hello world\n",
            "hello world\n",
            "hello world\n",
            "hello world\n",
            "hello world\n",
            "hello world\n",
            "hello world\n",
            "hello world\n",
            "hello world\n",
            "hello world\n",
            "hello world\n",
            "hello world\n",
            "hello world\n",
            "hello world\n",
            "hello world\n",
            "hello world\n",
            "hello world\n",
            "hello world\n",
            "hello world\n",
            "hello world\n",
            "hello world\n",
            "hello world\n",
            "hello world\n",
            "hello world\n",
            "hello world\n",
            "hello world\n",
            "hello world\n",
            "hello world\n",
            "hello world\n",
            "hello world\n",
            "hello world\n",
            "hello world\n",
            "hello world\n",
            "hello world\n",
            "hello world\n",
            "hello world\n",
            "hello world\n",
            "hello world\n",
            "hello world\n",
            "hello world\n",
            "hello world\n",
            "hello world\n",
            "hello world\n",
            "hello world\n",
            "hello world\n",
            "hello world\n",
            "hello world\n",
            "hello world\n",
            "hello world\n",
            "hello world\n",
            "hello world\n",
            "hello world\n",
            "hello world\n",
            "hello world\n",
            "hello world\n",
            "hello world\n",
            "hello world\n",
            "hello world\n",
            "hello world\n",
            "hello world\n",
            "hello world\n",
            "hello world\n",
            "hello world\n",
            "hello world\n",
            "hello world\n",
            "hello world\n",
            "hello world\n",
            "hello world\n",
            "hello world\n",
            "hello world\n",
            "hello world\n",
            "hello world\n",
            "hello world\n",
            "hello world\n",
            "hello world\n",
            "hello world\n",
            "hello world\n",
            "hello world\n",
            "hello world\n",
            "hello world\n",
            "hello world\n",
            "hello world\n",
            "hello world\n",
            "hello world\n",
            "hello world\n",
            "hello world\n",
            "hello world\n",
            "hello world\n",
            "hello world\n",
            "hello world\n",
            "hello world\n",
            "hello world\n",
            "hello world\n",
            "hello world\n",
            "hello world\n",
            "hello world\n",
            "hello world\n",
            "hello world\n",
            "hello world\n",
            "hello world\n",
            "hello world\n",
            "hello world\n",
            "hello world\n",
            "hello world\n",
            "hello world\n",
            "hello world\n",
            "hello world\n",
            "hello world\n",
            "hello world\n",
            "hello world\n",
            "hello world\n",
            "hello world\n",
            "hello world\n",
            "hello world\n",
            "hello world\n",
            "hello world\n",
            "hello world\n",
            "hello world\n",
            "hello world\n",
            "hello world\n",
            "hello world\n",
            "hello world\n",
            "hello world\n",
            "hello world\n",
            "hello world\n",
            "hello world\n",
            "hello world\n",
            "hello world\n",
            "hello world\n",
            "hello world\n",
            "hello world\n",
            "hello world\n",
            "hello world\n",
            "hello world\n",
            "hello world\n",
            "hello world\n",
            "hello world\n",
            "hello world\n",
            "hello world\n",
            "hello world\n",
            "hello world\n",
            "hello world\n",
            "hello world\n",
            "hello world\n",
            "hello world\n",
            "hello world\n",
            "hello world\n",
            "hello world\n",
            "hello world\n",
            "hello world\n",
            "hello world\n",
            "hello world\n",
            "hello world\n",
            "hello world\n",
            "hello world\n",
            "hello world\n",
            "hello world\n",
            "hello world\n",
            "hello world\n",
            "hello world\n",
            "hello world\n",
            "hello world\n",
            "hello world\n",
            "hello world\n",
            "hello world\n",
            "hello world\n",
            "hello world\n",
            "hello world\n",
            "hello world\n",
            "hello world\n",
            "hello world\n",
            "hello world\n",
            "hello world\n",
            "hello world\n",
            "hello world\n",
            "hello world\n",
            "hello world\n",
            "hello world\n",
            "hello world\n",
            "hello world\n",
            "hello world\n",
            "hello world\n",
            "hello world\n",
            "hello world\n",
            "hello world\n",
            "hello world\n",
            "hello world\n",
            "hello world\n",
            "hello world\n",
            "hello world\n",
            "hello world\n",
            "hello world\n",
            "hello world\n",
            "hello world\n",
            "hello world\n",
            "hello world\n",
            "hello world\n",
            "hello world\n",
            "hello world\n",
            "hello world\n",
            "hello world\n",
            "hello world\n",
            "hello world\n",
            "hello world\n",
            "hello world\n",
            "hello world\n",
            "hello world\n",
            "hello world\n",
            "hello world\n",
            "hello world\n",
            "hello world\n",
            "hello world\n",
            "hello world\n",
            "hello world\n",
            "hello world\n",
            "hello world\n",
            "hello world\n",
            "hello world\n",
            "hello world\n",
            "hello world\n",
            "hello world\n",
            "hello world\n",
            "hello world\n",
            "hello world\n",
            "hello world\n",
            "hello world\n",
            "hello world\n",
            "hello world\n",
            "hello world\n",
            "hello world\n",
            "hello world\n",
            "hello world\n",
            "hello world\n",
            "hello world\n",
            "hello world\n",
            "hello world\n",
            "hello world\n",
            "hello world\n",
            "hello world\n",
            "hello world\n",
            "hello world\n",
            "hello world\n",
            "hello world\n",
            "hello world\n",
            "hello world\n",
            "hello world\n",
            "hello world\n",
            "hello world\n",
            "hello world\n",
            "hello world\n",
            "hello world\n",
            "hello world\n",
            "hello world\n",
            "hello world\n",
            "hello world\n",
            "hello world\n",
            "hello world\n",
            "hello world\n",
            "hello world\n",
            "hello world\n",
            "hello world\n",
            "hello world\n",
            "hello world\n",
            "hello world\n",
            "hello world\n",
            "hello world\n",
            "hello world\n",
            "hello world\n",
            "hello world\n",
            "hello world\n",
            "hello world\n",
            "hello world\n",
            "hello world\n",
            "hello world\n",
            "hello world\n",
            "hello world\n",
            "hello world\n",
            "hello world\n",
            "hello world\n",
            "hello world\n",
            "hello world\n",
            "hello world\n",
            "hello world\n",
            "hello world\n",
            "hello world\n",
            "hello world\n",
            "hello world\n",
            "hello world\n",
            "hello world\n",
            "hello world\n",
            "hello world\n",
            "hello world\n",
            "hello world\n",
            "hello world\n",
            "hello world\n",
            "hello world\n",
            "hello world\n",
            "hello world\n",
            "hello world\n",
            "hello world\n",
            "hello world\n",
            "hello world\n",
            "hello world\n",
            "hello world\n",
            "hello world\n",
            "hello world\n",
            "hello world\n",
            "hello world\n",
            "hello world\n",
            "hello world\n",
            "hello world\n",
            "hello world\n",
            "hello world\n",
            "hello world\n",
            "hello world\n",
            "hello world\n",
            "hello world\n",
            "hello world\n",
            "hello world\n",
            "hello world\n",
            "hello world\n",
            "hello world\n",
            "hello world\n",
            "hello world\n",
            "hello world\n",
            "hello world\n",
            "hello world\n",
            "hello world\n",
            "hello world\n",
            "hello world\n",
            "hello world\n",
            "hello world\n",
            "hello world\n",
            "hello world\n",
            "hello world\n",
            "hello world\n",
            "hello world\n",
            "hello world\n",
            "hello world\n",
            "hello world\n",
            "hello world\n",
            "hello world\n",
            "hello world\n",
            "hello world\n",
            "hello world\n",
            "hello world\n",
            "hello world\n",
            "hello world\n",
            "hello world\n",
            "hello world\n",
            "hello world\n",
            "hello world\n",
            "hello world\n",
            "hello world\n",
            "hello world\n",
            "hello world\n",
            "hello world\n",
            "hello world\n",
            "hello world\n",
            "hello world\n",
            "hello world\n",
            "hello world\n",
            "hello world\n",
            "hello world\n",
            "hello world\n",
            "hello world\n",
            "hello world\n",
            "hello world\n",
            "hello world\n",
            "hello world\n",
            "hello world\n",
            "hello world\n",
            "hello world\n",
            "hello world\n",
            "hello world\n",
            "hello world\n",
            "hello world\n",
            "hello world\n",
            "hello world\n",
            "hello world\n",
            "hello world\n",
            "hello world\n",
            "hello world\n",
            "hello world\n",
            "hello world\n",
            "hello world\n",
            "hello world\n",
            "hello world\n",
            "hello world\n",
            "hello world\n",
            "hello world\n",
            "hello world\n",
            "hello world\n",
            "hello world\n",
            "hello world\n",
            "hello world\n",
            "hello world\n",
            "hello world\n",
            "hello world\n",
            "hello world\n",
            "hello world\n",
            "hello world\n",
            "hello world\n",
            "hello world\n",
            "hello world\n",
            "hello world\n",
            "hello world\n",
            "hello world\n",
            "hello world\n",
            "hello world\n",
            "hello world\n",
            "hello world\n",
            "hello world\n",
            "hello world\n",
            "hello world\n",
            "hello world\n",
            "hello world\n",
            "hello world\n",
            "hello world\n",
            "hello world\n",
            "hello world\n",
            "hello world\n",
            "hello world\n",
            "hello world\n",
            "hello world\n",
            "hello world\n",
            "hello world\n",
            "hello world\n",
            "hello world\n",
            "hello world\n",
            "hello world\n",
            "hello world\n",
            "hello world\n",
            "hello world\n",
            "hello world\n",
            "hello world\n",
            "hello world\n",
            "hello world\n",
            "hello world\n",
            "hello world\n",
            "hello world\n",
            "hello world\n",
            "hello world\n",
            "hello world\n",
            "hello world\n",
            "hello world\n",
            "hello world\n",
            "hello world\n",
            "hello world\n",
            "hello world\n",
            "hello world\n",
            "hello world\n",
            "hello world\n",
            "hello world\n",
            "hello world\n",
            "hello world\n",
            "hello world\n",
            "hello world\n",
            "hello world\n",
            "hello world\n",
            "hello world\n",
            "hello world\n",
            "hello world\n",
            "hello world\n",
            "hello world\n",
            "hello world\n",
            "hello world\n",
            "hello world\n",
            "hello world\n",
            "hello world\n",
            "hello world\n",
            "hello world\n",
            "hello world\n",
            "hello world\n",
            "hello world\n",
            "hello world\n",
            "hello world\n",
            "hello world\n",
            "hello world\n",
            "hello world\n",
            "hello world\n",
            "hello world\n",
            "hello world\n",
            "hello world\n",
            "hello world\n",
            "hello world\n",
            "hello world\n",
            "hello world\n",
            "hello world\n",
            "hello world\n",
            "hello world\n",
            "hello world\n",
            "hello world\n",
            "hello world\n",
            "hello world\n",
            "hello world\n",
            "hello world\n",
            "hello world\n",
            "hello world\n",
            "hello world\n",
            "hello world\n",
            "hello world\n",
            "hello world\n",
            "hello world\n",
            "hello world\n",
            "hello world\n",
            "hello world\n",
            "hello world\n",
            "hello world\n",
            "hello world\n",
            "hello world\n",
            "hello world\n",
            "hello world\n",
            "hello world\n",
            "hello world\n",
            "hello world\n",
            "hello world\n",
            "hello world\n",
            "hello world\n",
            "hello world\n",
            "hello world\n",
            "hello world\n",
            "hello world\n",
            "hello world\n",
            "hello world\n",
            "hello world\n",
            "hello world\n",
            "hello world\n",
            "hello world\n",
            "hello world\n",
            "hello world\n",
            "hello world\n",
            "hello world\n",
            "hello world\n",
            "hello world\n",
            "hello world\n",
            "hello world\n",
            "hello world\n",
            "hello world\n",
            "hello world\n",
            "hello world\n",
            "hello world\n",
            "hello world\n",
            "hello world\n",
            "hello world\n",
            "hello world\n",
            "hello world\n",
            "hello world\n",
            "hello world\n",
            "hello world\n",
            "hello world\n",
            "hello world\n",
            "hello world\n",
            "hello world\n",
            "hello world\n",
            "hello world\n",
            "hello world\n",
            "hello world\n",
            "hello world\n",
            "hello world\n",
            "hello world\n",
            "hello world\n",
            "hello world\n",
            "hello world\n",
            "hello world\n",
            "hello world\n",
            "hello world\n",
            "hello world\n",
            "hello world\n",
            "hello world\n",
            "hello world\n",
            "hello world\n",
            "hello world\n",
            "hello world\n",
            "hello world\n",
            "hello world\n",
            "hello world\n",
            "hello world\n",
            "hello world\n",
            "hello world\n",
            "hello world\n",
            "hello world\n",
            "hello world\n",
            "hello world\n",
            "hello world\n",
            "hello world\n",
            "hello world\n",
            "hello world\n",
            "hello world\n",
            "hello world\n",
            "hello world\n",
            "hello world\n",
            "hello world\n",
            "hello world\n",
            "hello world\n",
            "hello world\n",
            "hello world\n",
            "hello world\n",
            "hello world\n",
            "hello world\n",
            "hello world\n",
            "hello world\n",
            "hello world\n",
            "hello world\n",
            "hello world\n",
            "hello world\n",
            "hello world\n",
            "hello world\n",
            "hello world\n",
            "hello world\n",
            "hello world\n",
            "hello world\n",
            "hello world\n",
            "hello world\n",
            "hello world\n",
            "hello world\n",
            "hello world\n",
            "hello world\n",
            "hello world\n",
            "hello world\n",
            "hello world\n",
            "hello world\n",
            "hello world\n",
            "hello world\n",
            "hello world\n",
            "hello world\n",
            "hello world\n",
            "hello world\n",
            "hello world\n",
            "hello world\n",
            "hello world\n",
            "hello world\n",
            "hello world\n",
            "hello world\n",
            "hello world\n",
            "hello world\n",
            "hello world\n",
            "hello world\n",
            "hello world\n",
            "hello world\n",
            "hello world\n",
            "hello world\n",
            "hello world\n",
            "hello world\n",
            "hello world\n",
            "hello world\n",
            "hello world\n",
            "hello world\n",
            "hello world\n",
            "hello world\n",
            "hello world\n",
            "hello world\n",
            "hello world\n",
            "hello world\n",
            "hello world\n",
            "hello world\n",
            "hello world\n",
            "hello world\n",
            "hello world\n",
            "hello world\n",
            "hello world\n",
            "hello world\n",
            "hello world\n",
            "hello world\n",
            "hello world\n",
            "hello world\n",
            "hello world\n",
            "hello world\n",
            "hello world\n",
            "hello world\n",
            "hello world\n",
            "hello world\n",
            "hello world\n",
            "hello world\n",
            "hello world\n",
            "hello world\n",
            "hello world\n",
            "hello world\n",
            "hello world\n",
            "hello world\n",
            "hello world\n",
            "hello world\n",
            "hello world\n",
            "hello world\n",
            "hello world\n",
            "hello world\n",
            "hello world\n",
            "hello world\n",
            "hello world\n",
            "hello world\n",
            "hello world\n",
            "hello world\n",
            "hello world\n",
            "hello world\n",
            "hello world\n",
            "hello world\n",
            "hello world\n",
            "hello world\n",
            "hello world\n",
            "hello world\n",
            "hello world\n",
            "hello world\n",
            "hello world\n",
            "hello world\n",
            "hello world\n",
            "hello world\n",
            "hello world\n",
            "hello world\n",
            "hello world\n",
            "hello world\n",
            "hello world\n",
            "hello world\n",
            "hello world\n",
            "hello world\n",
            "hello world\n",
            "hello world\n",
            "hello world\n",
            "hello world\n",
            "hello world\n",
            "hello world\n",
            "hello world\n",
            "hello world\n",
            "hello world\n",
            "hello world\n",
            "hello world\n",
            "hello world\n",
            "hello world\n",
            "hello world\n",
            "hello world\n",
            "hello world\n",
            "hello world\n",
            "hello world\n",
            "hello world\n",
            "hello world\n",
            "hello world\n",
            "hello world\n",
            "hello world\n",
            "hello world\n",
            "hello world\n",
            "hello world\n",
            "hello world\n",
            "hello world\n",
            "hello world\n",
            "hello world\n",
            "hello world\n",
            "hello world\n",
            "hello world\n",
            "hello world\n",
            "hello world\n",
            "hello world\n",
            "hello world\n",
            "hello world\n",
            "hello world\n",
            "hello world\n",
            "hello world\n",
            "hello world\n",
            "hello world\n",
            "hello world\n",
            "hello world\n",
            "hello world\n",
            "hello world\n",
            "hello world\n",
            "hello world\n",
            "hello world\n",
            "hello world\n",
            "hello world\n",
            "hello world\n",
            "hello world\n",
            "hello world\n",
            "hello world\n",
            "hello world\n",
            "hello world\n",
            "hello world\n",
            "hello world\n",
            "hello world\n",
            "hello world\n",
            "hello world\n",
            "hello world\n",
            "hello world\n",
            "hello world\n",
            "hello world\n",
            "hello world\n",
            "hello world\n",
            "hello world\n",
            "hello world\n",
            "hello world\n",
            "hello world\n",
            "hello world\n",
            "hello world\n",
            "hello world\n",
            "hello world\n",
            "hello world\n",
            "hello world\n",
            "hello world\n",
            "hello world\n",
            "hello world\n",
            "hello world\n",
            "hello world\n",
            "hello world\n",
            "hello world\n",
            "hello world\n",
            "hello world\n",
            "hello world\n",
            "hello world\n",
            "hello world\n",
            "hello world\n",
            "hello world\n",
            "hello world\n",
            "hello world\n",
            "hello world\n",
            "hello world\n",
            "hello world\n",
            "hello world\n",
            "hello world\n",
            "hello world\n",
            "hello world\n",
            "hello world\n",
            "hello world\n",
            "hello world\n",
            "hello world\n",
            "hello world\n",
            "hello world\n",
            "hello world\n",
            "hello world\n",
            "hello world\n",
            "hello world\n",
            "hello world\n",
            "hello world\n",
            "hello world\n",
            "hello world\n",
            "hello world\n",
            "hello world\n",
            "hello world\n",
            "hello world\n",
            "hello world\n",
            "hello world\n",
            "hello world\n",
            "hello world\n",
            "hello world\n",
            "hello world\n",
            "hello world\n",
            "hello world\n",
            "hello world\n",
            "hello world\n",
            "hello world\n",
            "hello world\n",
            "hello world\n",
            "hello world\n",
            "hello world\n",
            "hello world\n",
            "hello world\n",
            "hello world\n",
            "hello world\n",
            "hello world\n",
            "hello world\n",
            "hello world\n",
            "hello world\n",
            "hello world\n",
            "hello world\n",
            "hello world\n",
            "hello world\n",
            "hello world\n",
            "hello world\n",
            "hello world\n",
            "hello world\n",
            "hello world\n",
            "hello world\n",
            "hello world\n",
            "hello world\n",
            "hello world\n",
            "hello world\n",
            "hello world\n",
            "hello world\n",
            "hello world\n",
            "hello world\n",
            "hello world\n",
            "hello world\n",
            "hello world\n",
            "hello world\n",
            "hello world\n",
            "hello world\n",
            "hello world\n",
            "hello world\n",
            "hello world\n",
            "hello world\n",
            "hello world\n",
            "hello world\n",
            "hello world\n",
            "hello world\n",
            "hello world\n",
            "hello world\n",
            "hello world\n",
            "hello world\n",
            "hello world\n",
            "hello world\n",
            "hello world\n",
            "hello world\n",
            "hello world\n",
            "hello world\n",
            "hello world\n",
            "hello world\n",
            "hello world\n",
            "hello world\n",
            "hello world\n",
            "hello world\n",
            "hello world\n",
            "hello world\n",
            "hello world\n",
            "hello world\n",
            "hello world\n",
            "hello world\n",
            "hello world\n",
            "hello world\n",
            "hello world\n",
            "hello world\n",
            "hello world\n",
            "hello world\n",
            "hello world\n",
            "hello world\n",
            "hello world\n",
            "hello world\n",
            "hello world\n",
            "hello world\n",
            "hello world\n",
            "hello world\n",
            "hello world\n",
            "hello world\n",
            "hello world\n",
            "hello world\n",
            "hello world\n",
            "hello world\n",
            "hello world\n",
            "hello world\n",
            "hello world\n",
            "hello world\n",
            "hello world\n",
            "hello world\n",
            "hello world\n",
            "hello world\n",
            "hello world\n",
            "hello world\n",
            "hello world\n",
            "hello world\n",
            "hello world\n",
            "hello world\n",
            "hello world\n",
            "hello world\n",
            "hello world\n",
            "hello world\n",
            "hello world\n",
            "hello world\n",
            "hello world\n",
            "hello world\n",
            "hello world\n",
            "hello world\n",
            "hello world\n",
            "hello world\n",
            "hello world\n",
            "hello world\n",
            "hello world\n",
            "hello world\n",
            "hello world\n",
            "hello world\n",
            "hello world\n",
            "hello world\n",
            "hello world\n",
            "hello world\n",
            "hello world\n",
            "hello world\n",
            "hello world\n",
            "hello world\n",
            "hello world\n",
            "hello world\n",
            "hello world\n",
            "hello world\n",
            "hello world\n",
            "hello world\n",
            "hello world\n",
            "hello world\n",
            "hello world\n",
            "hello world\n",
            "hello world\n",
            "hello world\n",
            "hello world\n",
            "hello world\n",
            "hello world\n",
            "hello world\n",
            "hello world\n",
            "hello world\n",
            "hello world\n",
            "hello world\n",
            "hello world\n",
            "hello world\n",
            "hello world\n",
            "hello world\n",
            "hello world\n",
            "hello world\n",
            "hello world\n",
            "hello world\n",
            "hello world\n",
            "hello world\n",
            "hello world\n",
            "hello world\n",
            "hello world\n",
            "hello world\n",
            "hello world\n",
            "hello world\n",
            "hello world\n",
            "hello world\n",
            "hello world\n",
            "hello world\n",
            "hello world\n",
            "hello world\n",
            "hello world\n",
            "hello world\n",
            "hello world\n",
            "hello world\n",
            "hello world\n",
            "hello world\n",
            "hello world\n",
            "hello world\n",
            "hello world\n",
            "hello world\n",
            "hello world\n",
            "hello world\n",
            "hello world\n",
            "hello world\n",
            "hello world\n",
            "hello world\n",
            "hello world\n",
            "hello world\n",
            "hello world\n",
            "hello world\n",
            "hello world\n",
            "hello world\n",
            "hello world\n",
            "hello world\n",
            "hello world\n",
            "hello world\n",
            "hello world\n",
            "hello world\n",
            "hello world\n",
            "hello world\n",
            "hello world\n",
            "hello world\n",
            "hello world\n",
            "hello world\n",
            "hello world\n",
            "hello world\n",
            "hello world\n",
            "hello world\n",
            "hello world\n",
            "hello world\n",
            "hello world\n",
            "hello world\n",
            "hello world\n",
            "hello world\n",
            "hello world\n",
            "hello world\n",
            "hello world\n",
            "hello world\n",
            "hello world\n",
            "hello world\n",
            "hello world\n",
            "hello world\n",
            "hello world\n",
            "hello world\n",
            "hello world\n",
            "hello world\n",
            "hello world\n",
            "hello world\n",
            "hello world\n",
            "hello world\n",
            "hello world\n",
            "hello world\n",
            "hello world\n",
            "hello world\n",
            "hello world\n",
            "hello world\n",
            "hello world\n",
            "hello world\n",
            "hello world\n",
            "hello world\n",
            "hello world\n",
            "hello world\n",
            "hello world\n",
            "hello world\n",
            "hello world\n",
            "hello world\n",
            "hello world\n",
            "hello world\n",
            "hello world\n",
            "hello world\n",
            "hello world\n",
            "hello world\n",
            "hello world\n",
            "hello world\n",
            "hello world\n",
            "hello world\n",
            "hello world\n",
            "hello world\n",
            "hello world\n",
            "hello world\n",
            "hello world\n",
            "hello world\n",
            "hello world\n",
            "hello world\n",
            "hello world\n",
            "hello world\n",
            "hello world\n",
            "hello world\n",
            "hello world\n",
            "hello world\n",
            "hello world\n",
            "hello world\n",
            "hello world\n",
            "hello world\n",
            "hello world\n",
            "hello world\n",
            "hello world\n",
            "hello world\n",
            "hello world\n",
            "hello world\n",
            "hello world\n",
            "hello world\n",
            "hello world\n",
            "hello world\n",
            "hello world\n",
            "hello world\n",
            "hello world\n",
            "hello world\n",
            "hello world\n",
            "hello world\n",
            "hello world\n",
            "hello world\n",
            "hello world\n",
            "hello world\n",
            "hello world\n",
            "hello world\n",
            "hello world\n",
            "hello world\n",
            "hello world\n",
            "hello world\n",
            "hello world\n",
            "hello world\n",
            "hello world\n",
            "hello world\n",
            "hello world\n",
            "hello world\n",
            "hello world\n",
            "hello world\n",
            "hello world\n",
            "hello world\n",
            "hello world\n",
            "hello world\n",
            "hello world\n",
            "hello world\n",
            "hello world\n",
            "hello world\n",
            "hello world\n",
            "hello world\n",
            "hello world\n",
            "hello world\n",
            "hello world\n",
            "hello world\n",
            "hello world\n",
            "hello world\n",
            "hello world\n",
            "hello world\n",
            "hello world\n",
            "hello world\n",
            "hello world\n",
            "hello world\n",
            "hello world\n",
            "hello world\n",
            "hello world\n",
            "hello world\n",
            "hello world\n",
            "hello world\n",
            "hello world\n",
            "hello world\n",
            "hello world\n",
            "hello world\n",
            "hello world\n",
            "hello world\n",
            "hello world\n",
            "hello world\n",
            "hello world\n",
            "hello world\n",
            "hello world\n",
            "hello world\n",
            "hello world\n",
            "hello world\n",
            "hello world\n",
            "hello world\n",
            "hello world\n",
            "hello world\n",
            "hello world\n",
            "hello world\n",
            "hello world\n",
            "hello world\n",
            "hello world\n",
            "hello world\n",
            "hello world\n",
            "hello world\n",
            "hello world\n",
            "hello world\n",
            "hello world\n",
            "hello world\n",
            "hello world\n",
            "hello world\n",
            "hello world\n",
            "hello world\n",
            "hello world\n",
            "hello world\n",
            "hello world\n",
            "hello world\n",
            "hello world\n",
            "hello world\n",
            "hello world\n",
            "hello world\n",
            "hello world\n",
            "hello world\n",
            "hello world\n",
            "hello world\n",
            "hello world\n",
            "hello world\n",
            "hello world\n",
            "hello world\n",
            "hello world\n",
            "hello world\n",
            "hello world\n",
            "hello world\n",
            "hello world\n",
            "hello world\n",
            "hello world\n",
            "hello world\n",
            "hello world\n",
            "hello world\n",
            "hello world\n",
            "hello world\n",
            "hello world\n",
            "hello world\n",
            "hello world\n",
            "hello world\n",
            "hello world\n",
            "hello world\n",
            "hello world\n",
            "hello world\n",
            "hello world\n",
            "hello world\n",
            "hello world\n",
            "hello world\n",
            "hello world\n",
            "hello world\n",
            "hello world\n",
            "hello world\n",
            "hello world\n",
            "hello world\n",
            "hello world\n",
            "hello world\n",
            "hello world\n",
            "hello world\n",
            "hello world\n",
            "hello world\n",
            "hello world\n",
            "hello world\n",
            "hello world\n",
            "hello world\n",
            "hello world\n",
            "hello world\n",
            "hello world\n",
            "hello world\n",
            "hello world\n",
            "hello world\n",
            "hello world\n",
            "hello world\n",
            "hello world\n",
            "hello world\n",
            "hello world\n",
            "hello world\n",
            "hello world\n",
            "hello world\n",
            "hello world\n",
            "hello world\n",
            "hello world\n",
            "hello world\n",
            "hello world\n",
            "hello world\n",
            "hello world\n",
            "hello world\n",
            "hello world\n",
            "hello world\n",
            "hello world\n",
            "hello world\n",
            "hello world\n",
            "hello world\n",
            "hello world\n",
            "hello world\n",
            "hello world\n",
            "hello world\n",
            "hello world\n",
            "hello world\n",
            "hello world\n",
            "hello world\n",
            "hello world\n",
            "hello world\n",
            "hello world\n",
            "hello world\n",
            "hello world\n",
            "hello world\n",
            "hello world\n",
            "hello world\n",
            "hello world\n",
            "hello world\n",
            "hello world\n",
            "hello world\n",
            "hello world\n",
            "hello world\n",
            "hello world\n",
            "hello world\n",
            "hello world\n",
            "hello world\n",
            "hello world\n",
            "hello world\n",
            "hello world\n",
            "hello world\n",
            "hello world\n",
            "hello world\n",
            "hello world\n",
            "hello world\n",
            "hello world\n",
            "hello world\n",
            "hello world\n",
            "hello world\n",
            "hello world\n",
            "hello world\n",
            "hello world\n",
            "hello world\n",
            "hello world\n",
            "hello world\n",
            "hello world\n",
            "hello world\n",
            "hello world\n",
            "hello world\n",
            "hello world\n",
            "hello world\n",
            "hello world\n",
            "hello world\n",
            "hello world\n",
            "hello world\n",
            "hello world\n",
            "hello world\n",
            "hello world\n",
            "hello world\n",
            "hello world\n",
            "hello world\n",
            "hello world\n",
            "hello world\n",
            "hello world\n",
            "hello world\n",
            "hello world\n",
            "hello world\n",
            "hello world\n",
            "hello world\n",
            "hello world\n",
            "hello world\n",
            "hello world\n",
            "hello world\n",
            "hello world\n",
            "hello world\n",
            "hello world\n",
            "hello world\n",
            "hello world\n",
            "hello world\n",
            "hello world\n",
            "hello world\n",
            "hello world\n",
            "hello world\n",
            "hello world\n",
            "hello world\n",
            "hello world\n",
            "hello world\n",
            "hello world\n",
            "hello world\n",
            "hello world\n",
            "hello world\n",
            "hello world\n",
            "hello world\n",
            "hello world\n",
            "hello world\n",
            "hello world\n",
            "hello world\n",
            "hello world\n",
            "hello world\n",
            "hello world\n",
            "hello world\n",
            "hello world\n",
            "hello world\n",
            "hello world\n",
            "hello world\n",
            "hello world\n",
            "hello world\n",
            "hello world\n",
            "hello world\n",
            "hello world\n",
            "hello world\n",
            "hello world\n",
            "hello world\n",
            "hello world\n",
            "hello world\n",
            "hello world\n",
            "hello world\n",
            "hello world\n",
            "hello world\n",
            "hello world\n",
            "hello world\n",
            "hello world\n",
            "hello world\n",
            "hello world\n",
            "hello world\n",
            "hello world\n",
            "hello world\n",
            "hello world\n",
            "hello world\n",
            "hello world\n",
            "hello world\n",
            "hello world\n",
            "hello world\n",
            "hello world\n",
            "hello world\n",
            "hello world\n",
            "hello world\n",
            "hello world\n",
            "hello world\n",
            "hello world\n",
            "hello world\n",
            "hello world\n",
            "hello world\n",
            "hello world\n",
            "hello world\n",
            "hello world\n",
            "hello world\n",
            "hello world\n",
            "hello world\n",
            "hello world\n",
            "hello world\n",
            "hello world\n",
            "hello world\n",
            "hello world\n",
            "hello world\n",
            "hello world\n",
            "hello world\n",
            "hello world\n",
            "hello world\n",
            "hello world\n",
            "hello world\n",
            "hello world\n",
            "hello world\n",
            "hello world\n",
            "hello world\n",
            "hello world\n",
            "hello world\n",
            "hello world\n",
            "hello world\n",
            "hello world\n",
            "hello world\n",
            "hello world\n",
            "hello world\n",
            "hello world\n",
            "hello world\n",
            "hello world\n",
            "hello world\n",
            "hello world\n",
            "hello world\n",
            "hello world\n",
            "hello world\n",
            "hello world\n",
            "hello world\n",
            "hello world\n",
            "hello world\n",
            "hello world\n",
            "hello world\n",
            "hello world\n",
            "hello world\n",
            "hello world\n",
            "hello world\n",
            "hello world\n",
            "hello world\n",
            "hello world\n",
            "hello world\n",
            "hello world\n",
            "hello world\n",
            "hello world\n",
            "hello world\n",
            "hello world\n",
            "hello world\n",
            "hello world\n",
            "hello world\n",
            "hello world\n",
            "hello world\n",
            "hello world\n",
            "hello world\n",
            "hello world\n",
            "hello world\n",
            "hello world\n",
            "hello world\n",
            "hello world\n",
            "hello world\n",
            "hello world\n",
            "hello world\n",
            "hello world\n",
            "hello world\n",
            "hello world\n",
            "hello world\n",
            "hello world\n",
            "hello world\n",
            "hello world\n",
            "hello world\n",
            "hello world\n",
            "hello world\n",
            "hello world\n",
            "hello world\n",
            "hello world\n",
            "hello world\n",
            "hello world\n",
            "hello world\n",
            "hello world\n",
            "hello world\n",
            "hello world\n",
            "hello world\n",
            "hello world\n",
            "hello world\n",
            "hello world\n",
            "hello world\n",
            "hello world\n",
            "hello world\n",
            "hello world\n",
            "hello world\n",
            "hello world\n",
            "hello world\n",
            "hello world\n",
            "hello world\n",
            "hello world\n",
            "hello world\n",
            "hello world\n",
            "hello world\n",
            "hello world\n",
            "hello world\n",
            "hello world\n",
            "hello world\n",
            "hello world\n",
            "hello world\n",
            "hello world\n",
            "hello world\n",
            "hello world\n",
            "hello world\n",
            "hello world\n",
            "hello world\n",
            "hello world\n",
            "hello world\n",
            "hello world\n",
            "hello world\n",
            "hello world\n",
            "hello world\n",
            "hello world\n",
            "hello world\n",
            "hello world\n",
            "hello world\n",
            "hello world\n",
            "hello world\n",
            "hello world\n",
            "hello world\n",
            "hello world\n",
            "hello world\n",
            "hello world\n",
            "hello world\n",
            "hello world\n",
            "hello world\n",
            "hello world\n",
            "hello world\n",
            "hello world\n",
            "hello world\n",
            "hello world\n",
            "hello world\n",
            "hello world\n",
            "hello world\n",
            "hello world\n",
            "hello world\n",
            "hello world\n",
            "hello world\n",
            "hello world\n",
            "hello world\n",
            "hello world\n",
            "hello world\n",
            "hello world\n",
            "hello world\n",
            "hello world\n",
            "hello world\n",
            "hello world\n",
            "hello world\n",
            "hello world\n",
            "hello world\n",
            "hello world\n",
            "hello world\n",
            "hello world\n",
            "hello world\n",
            "hello world\n",
            "hello world\n",
            "hello world\n",
            "hello world\n",
            "hello world\n",
            "hello world\n",
            "hello world\n",
            "hello world\n",
            "hello world\n",
            "hello world\n",
            "hello world\n",
            "hello world\n",
            "hello world\n",
            "hello world\n",
            "hello world\n",
            "hello world\n",
            "hello world\n",
            "hello world\n",
            "hello world\n",
            "hello world\n",
            "hello world\n",
            "hello world\n",
            "hello world\n",
            "hello world\n",
            "hello world\n",
            "hello world\n",
            "hello world\n",
            "hello world\n",
            "hello world\n",
            "hello world\n",
            "hello world\n",
            "hello world\n",
            "hello world\n",
            "hello world\n",
            "hello world\n",
            "hello world\n",
            "hello world\n",
            "hello world\n",
            "hello world\n",
            "hello world\n",
            "hello world\n",
            "hello world\n",
            "hello world\n",
            "hello world\n",
            "hello world\n",
            "hello world\n",
            "hello world\n",
            "hello world\n",
            "hello world\n",
            "hello world\n",
            "hello world\n",
            "hello world\n",
            "hello world\n",
            "hello world\n",
            "hello world\n",
            "hello world\n",
            "hello world\n",
            "hello world\n",
            "hello world\n",
            "hello world\n",
            "hello world\n",
            "hello world\n",
            "hello world\n",
            "hello world\n",
            "hello world\n",
            "hello world\n",
            "hello world\n",
            "hello world\n",
            "hello world\n",
            "hello world\n",
            "hello world\n",
            "hello world\n",
            "hello world\n",
            "hello world\n",
            "hello world\n",
            "hello world\n",
            "hello world\n",
            "hello world\n",
            "hello world\n",
            "hello world\n",
            "hello world\n",
            "hello world\n",
            "hello world\n",
            "hello world\n",
            "hello world\n",
            "hello world\n",
            "hello world\n",
            "hello world\n",
            "hello world\n",
            "hello world\n",
            "hello world\n",
            "hello world\n",
            "hello world\n",
            "hello world\n",
            "hello world\n",
            "hello world\n",
            "hello world\n",
            "hello world\n",
            "hello world\n",
            "hello world\n",
            "hello world\n",
            "hello world\n",
            "hello world\n",
            "hello world\n",
            "hello world\n",
            "hello world\n",
            "hello world\n",
            "hello world\n",
            "hello world\n",
            "hello world\n",
            "hello world\n",
            "hello world\n",
            "hello world\n",
            "hello world\n",
            "hello world\n",
            "hello world\n",
            "hello world\n",
            "hello world\n",
            "hello world\n",
            "hello world\n",
            "hello world\n",
            "hello world\n",
            "hello world\n",
            "hello world\n",
            "hello world\n",
            "hello world\n",
            "hello world\n",
            "hello world\n",
            "hello world\n",
            "hello world\n",
            "hello world\n",
            "hello world\n",
            "hello world\n",
            "hello world\n",
            "hello world\n",
            "hello world\n",
            "hello world\n",
            "hello world\n",
            "hello world\n",
            "hello world\n",
            "hello world\n",
            "hello world\n",
            "hello world\n",
            "hello world\n",
            "hello world\n",
            "hello world\n",
            "hello world\n",
            "hello world\n",
            "hello world\n",
            "hello world\n",
            "hello world\n",
            "hello world\n",
            "hello world\n",
            "hello world\n",
            "hello world\n",
            "hello world\n",
            "hello world\n",
            "hello world\n",
            "hello world\n",
            "hello world\n",
            "hello world\n",
            "hello world\n",
            "hello world\n",
            "hello world\n",
            "hello world\n",
            "hello world\n",
            "hello world\n",
            "hello world\n",
            "hello world\n",
            "hello world\n",
            "hello world\n",
            "hello world\n",
            "hello world\n",
            "hello world\n",
            "hello world\n",
            "hello world\n",
            "hello world\n",
            "hello world\n",
            "hello world\n",
            "hello world\n",
            "hello world\n",
            "hello world\n",
            "hello world\n",
            "hello world\n",
            "hello world\n",
            "hello world\n",
            "hello world\n",
            "hello world\n",
            "hello world\n",
            "hello world\n",
            "hello world\n",
            "hello world\n",
            "hello world\n",
            "hello world\n",
            "hello world\n",
            "hello world\n",
            "hello world\n",
            "hello world\n",
            "hello world\n",
            "hello world\n",
            "hello world\n",
            "hello world\n",
            "hello world\n",
            "hello world\n",
            "hello world\n",
            "hello world\n",
            "hello world\n",
            "hello world\n",
            "hello world\n",
            "hello world\n",
            "hello world\n",
            "hello world\n",
            "hello world\n",
            "hello world\n",
            "hello world\n",
            "hello world\n",
            "hello world\n",
            "hello world\n",
            "hello world\n",
            "hello world\n",
            "hello world\n",
            "hello world\n",
            "hello world\n",
            "hello world\n",
            "hello world\n",
            "hello world\n",
            "hello world\n",
            "hello world\n",
            "hello world\n",
            "hello world\n",
            "hello world\n",
            "hello world\n",
            "hello world\n",
            "hello world\n",
            "hello world\n",
            "hello world\n",
            "hello world\n",
            "hello world\n",
            "hello world\n",
            "hello world\n",
            "hello world\n",
            "hello world\n",
            "hello world\n",
            "hello world\n",
            "hello world\n",
            "hello world\n",
            "hello world\n",
            "hello world\n",
            "hello world\n",
            "hello world\n",
            "hello world\n",
            "hello world\n",
            "hello world\n",
            "hello world\n",
            "hello world\n",
            "hello world\n",
            "hello world\n",
            "hello world\n",
            "hello world\n",
            "hello world\n",
            "hello world\n",
            "hello world\n",
            "hello world\n",
            "hello world\n",
            "hello world\n",
            "hello world\n",
            "hello world\n",
            "hello world\n",
            "hello world\n",
            "hello world\n",
            "hello world\n",
            "hello world\n",
            "hello world\n",
            "hello world\n",
            "hello world\n",
            "hello world\n",
            "hello world\n",
            "hello world\n",
            "hello world\n",
            "hello world\n",
            "hello world\n",
            "hello world\n",
            "hello world\n",
            "hello world\n",
            "hello world\n",
            "hello world\n",
            "hello world\n",
            "hello world\n",
            "hello world\n",
            "hello world\n",
            "hello world\n",
            "hello world\n",
            "hello world\n",
            "hello world\n",
            "hello world\n",
            "hello world\n",
            "hello world\n",
            "hello world\n",
            "hello world\n",
            "hello world\n",
            "hello world\n",
            "hello world\n",
            "hello world\n",
            "hello world\n",
            "hello world\n",
            "hello world\n",
            "hello world\n",
            "hello world\n",
            "hello world\n",
            "hello world\n",
            "hello world\n",
            "hello world\n",
            "hello world\n",
            "hello world\n",
            "hello world\n",
            "hello world\n",
            "hello world\n",
            "hello world\n",
            "hello world\n",
            "hello world\n",
            "hello world\n",
            "hello world\n",
            "hello world\n",
            "hello world\n",
            "hello world\n",
            "hello world\n",
            "hello world\n",
            "hello world\n",
            "hello world\n",
            "hello world\n",
            "hello world\n",
            "hello world\n",
            "hello world\n",
            "hello world\n",
            "hello world\n",
            "hello world\n",
            "hello world\n",
            "hello world\n",
            "hello world\n",
            "hello world\n",
            "hello world\n",
            "hello world\n",
            "hello world\n",
            "hello world\n",
            "hello world\n",
            "hello world\n",
            "hello world\n",
            "hello world\n",
            "hello world\n",
            "hello world\n",
            "hello world\n",
            "hello world\n",
            "hello world\n",
            "hello world\n",
            "hello world\n",
            "hello world\n",
            "hello world\n",
            "hello world\n",
            "hello world\n",
            "hello world\n",
            "hello world\n",
            "hello world\n",
            "hello world\n",
            "hello world\n",
            "hello world\n",
            "hello world\n",
            "hello world\n",
            "hello world\n",
            "hello world\n",
            "hello world\n",
            "hello world\n",
            "hello world\n",
            "hello world\n",
            "hello world\n",
            "hello world\n",
            "hello world\n",
            "hello world\n",
            "hello world\n",
            "hello world\n",
            "hello world\n",
            "hello world\n",
            "hello world\n",
            "hello world\n",
            "hello world\n",
            "hello world\n",
            "hello world\n",
            "hello world\n",
            "hello world\n",
            "hello world\n",
            "hello world\n",
            "hello world\n",
            "hello world\n",
            "hello world\n",
            "hello world\n",
            "hello world\n",
            "hello world\n",
            "hello world\n",
            "hello world\n",
            "hello world\n",
            "hello world\n",
            "hello world\n",
            "hello world\n",
            "hello world\n",
            "hello world\n",
            "hello world\n",
            "hello world\n",
            "hello world\n",
            "hello world\n",
            "hello world\n",
            "hello world\n",
            "hello world\n",
            "hello world\n",
            "hello world\n",
            "hello world\n",
            "hello world\n",
            "hello world\n",
            "hello world\n",
            "hello world\n",
            "hello world\n",
            "hello world\n",
            "hello world\n",
            "hello world\n",
            "hello world\n",
            "hello world\n",
            "hello world\n",
            "hello world\n",
            "hello world\n",
            "hello world\n",
            "hello world\n",
            "hello world\n",
            "hello world\n",
            "hello world\n",
            "hello world\n",
            "hello world\n",
            "hello world\n",
            "hello world\n",
            "hello world\n",
            "hello world\n",
            "hello world\n",
            "hello world\n",
            "hello world\n",
            "hello world\n",
            "hello world\n",
            "hello world\n",
            "hello world\n",
            "hello world\n",
            "hello world\n",
            "hello world\n",
            "hello world\n",
            "hello world\n",
            "hello world\n",
            "hello world\n",
            "hello world\n",
            "hello world\n",
            "hello world\n",
            "hello world\n",
            "hello world\n",
            "hello world\n",
            "hello world\n",
            "hello world\n",
            "hello world\n",
            "hello world\n",
            "hello world\n",
            "hello world\n",
            "hello world\n",
            "hello world\n",
            "hello world\n",
            "hello world\n",
            "hello world\n",
            "hello world\n",
            "hello world\n",
            "hello world\n",
            "hello world\n",
            "hello world\n",
            "hello world\n",
            "hello world\n",
            "hello world\n",
            "hello world\n",
            "hello world\n",
            "hello world\n",
            "hello world\n",
            "hello world\n",
            "hello world\n",
            "hello world\n",
            "hello world\n",
            "hello world\n",
            "hello world\n",
            "hello world\n",
            "hello world\n",
            "hello world\n",
            "hello world\n",
            "hello world\n",
            "hello world\n",
            "hello world\n",
            "hello world\n",
            "hello world\n",
            "hello world\n",
            "hello world\n",
            "hello world\n",
            "hello world\n",
            "hello world\n",
            "hello world\n",
            "hello world\n",
            "hello world\n",
            "hello world\n",
            "hello world\n",
            "hello world\n",
            "hello world\n",
            "hello world\n",
            "hello world\n",
            "hello world\n",
            "hello world\n",
            "hello world\n",
            "hello world\n",
            "hello world\n",
            "hello world\n",
            "hello world\n",
            "hello world\n",
            "hello world\n",
            "hello world\n",
            "hello world\n",
            "hello world\n",
            "hello world\n",
            "hello world\n",
            "hello world\n",
            "hello world\n",
            "hello world\n",
            "hello world\n",
            "hello world\n",
            "hello world\n",
            "hello world\n",
            "hello world\n",
            "hello world\n",
            "hello world\n",
            "hello world\n",
            "hello world\n",
            "hello world\n",
            "hello world\n",
            "hello world\n",
            "hello world\n",
            "hello world\n",
            "hello world\n",
            "hello world\n",
            "hello world\n",
            "hello world\n",
            "hello world\n",
            "hello world\n",
            "hello world\n",
            "hello world\n",
            "hello world\n",
            "hello world\n",
            "hello world\n",
            "hello world\n",
            "hello world\n",
            "hello world\n",
            "hello world\n",
            "hello world\n",
            "hello world\n",
            "hello world\n",
            "hello world\n",
            "hello world\n",
            "hello world\n",
            "hello world\n",
            "hello world\n",
            "hello world\n",
            "hello world\n",
            "hello world\n",
            "hello world\n",
            "hello world\n",
            "hello world\n",
            "hello world\n",
            "hello world\n",
            "hello world\n",
            "hello world\n",
            "hello world\n",
            "hello world\n",
            "hello world\n",
            "hello world\n",
            "hello world\n",
            "hello world\n",
            "hello world\n",
            "hello world\n",
            "hello world\n",
            "hello world\n",
            "hello world\n",
            "hello world\n",
            "hello world\n",
            "hello world\n",
            "hello world\n",
            "hello world\n",
            "hello world\n",
            "hello world\n",
            "hello world\n",
            "hello world\n",
            "hello world\n",
            "hello world\n",
            "hello world\n",
            "hello world\n",
            "hello world\n",
            "hello world\n",
            "hello world\n",
            "hello world\n",
            "hello world\n",
            "hello world\n",
            "hello world\n",
            "hello world\n",
            "hello world\n",
            "hello world\n",
            "hello world\n",
            "hello world\n",
            "hello world\n",
            "hello world\n",
            "hello world\n",
            "hello world\n",
            "hello world\n",
            "hello world\n",
            "hello world\n",
            "hello world\n",
            "hello world\n",
            "hello world\n",
            "hello world\n",
            "hello world\n",
            "hello world\n",
            "hello world\n",
            "hello world\n",
            "hello world\n",
            "hello world\n",
            "hello world\n",
            "hello world\n",
            "hello world\n",
            "hello world\n",
            "hello world\n",
            "hello world\n",
            "hello world\n",
            "hello world\n",
            "hello world\n",
            "hello world\n",
            "hello world\n",
            "hello world\n",
            "hello world\n",
            "hello world\n",
            "hello world\n",
            "hello world\n",
            "hello world\n",
            "hello world\n",
            "hello world\n",
            "hello world\n",
            "hello world\n",
            "hello world\n",
            "hello world\n",
            "hello world\n",
            "hello world\n",
            "hello world\n",
            "hello world\n",
            "hello world\n",
            "hello world\n",
            "hello world\n",
            "hello world\n",
            "hello world\n",
            "hello world\n",
            "hello world\n",
            "hello world\n",
            "hello world\n",
            "hello world\n",
            "hello world\n",
            "hello world\n",
            "hello world\n",
            "hello world\n",
            "hello world\n",
            "hello world\n",
            "hello world\n",
            "hello world\n",
            "hello world\n",
            "hello world\n",
            "hello world\n",
            "hello world\n",
            "hello world\n",
            "hello world\n",
            "hello world\n",
            "hello world\n",
            "hello world\n",
            "hello world\n",
            "hello world\n",
            "hello world\n",
            "hello world\n",
            "hello world\n",
            "hello world\n",
            "hello world\n",
            "hello world\n",
            "hello world\n",
            "hello world\n",
            "hello world\n",
            "hello world\n",
            "hello world\n",
            "hello world\n",
            "hello world\n",
            "hello world\n",
            "hello world\n",
            "hello world\n",
            "hello world\n",
            "hello world\n",
            "hello world\n",
            "hello world\n",
            "hello world\n",
            "hello world\n",
            "hello world\n",
            "hello world\n",
            "hello world\n",
            "hello world\n",
            "hello world\n",
            "hello world\n",
            "hello world\n",
            "hello world\n",
            "hello world\n",
            "hello world\n",
            "hello world\n",
            "hello world\n",
            "hello world\n",
            "hello world\n",
            "hello world\n",
            "hello world\n",
            "hello world\n",
            "hello world\n",
            "hello world\n",
            "hello world\n",
            "hello world\n",
            "hello world\n",
            "hello world\n",
            "hello world\n",
            "hello world\n",
            "hello world\n",
            "hello world\n",
            "hello world\n",
            "hello world\n",
            "hello world\n",
            "hello world\n",
            "hello world\n",
            "hello world\n",
            "hello world\n",
            "hello world\n",
            "hello world\n",
            "hello world\n",
            "hello world\n",
            "hello world\n",
            "hello world\n",
            "hello world\n",
            "hello world\n",
            "hello world\n",
            "hello world\n",
            "hello world\n",
            "hello world\n",
            "hello world\n",
            "hello world\n",
            "hello world\n",
            "hello world\n",
            "hello world\n",
            "hello world\n",
            "hello world\n",
            "hello world\n",
            "hello world\n",
            "hello world\n",
            "hello world\n",
            "hello world\n",
            "hello world\n",
            "hello world\n",
            "hello world\n",
            "hello world\n",
            "hello world\n",
            "hello world\n",
            "hello world\n",
            "hello world\n",
            "hello world\n",
            "hello world\n",
            "hello world\n",
            "hello world\n",
            "hello world\n",
            "hello world\n",
            "hello world\n",
            "hello world\n",
            "hello world\n",
            "hello world\n",
            "hello world\n",
            "hello world\n",
            "hello world\n",
            "hello world\n",
            "hello world\n",
            "hello world\n",
            "hello world\n",
            "hello world\n",
            "hello world\n",
            "hello world\n",
            "hello world\n",
            "hello world\n",
            "hello world\n",
            "hello world\n",
            "hello world\n",
            "hello world\n",
            "hello world\n",
            "hello world\n",
            "hello world\n",
            "hello world\n",
            "hello world\n",
            "hello world\n",
            "hello world\n",
            "hello world\n",
            "hello world\n",
            "hello world\n",
            "hello world\n",
            "hello world\n",
            "hello world\n",
            "hello world\n",
            "hello world\n",
            "hello world\n",
            "hello world\n",
            "hello world\n",
            "hello world\n",
            "hello world\n",
            "hello world\n",
            "hello world\n",
            "hello world\n",
            "hello world\n",
            "hello world\n",
            "hello world\n",
            "hello world\n",
            "hello world\n",
            "hello world\n",
            "hello world\n",
            "hello world\n",
            "hello world\n",
            "hello world\n",
            "hello world\n",
            "hello world\n",
            "hello world\n",
            "hello world\n",
            "hello world\n",
            "hello world\n",
            "hello world\n",
            "hello world\n",
            "hello world\n",
            "hello world\n",
            "hello world\n",
            "hello world\n",
            "hello world\n",
            "hello world\n",
            "hello world\n",
            "hello world\n",
            "hello world\n",
            "hello world\n",
            "hello world\n",
            "hello world\n",
            "hello world\n",
            "hello world\n",
            "hello world\n",
            "hello world\n",
            "hello world\n",
            "hello world\n",
            "hello world\n",
            "hello world\n",
            "hello world\n",
            "hello world\n",
            "hello world\n",
            "hello world\n",
            "hello world\n",
            "hello world\n",
            "hello world\n",
            "hello world\n",
            "hello world\n",
            "hello world\n",
            "hello world\n",
            "hello world\n",
            "hello world\n",
            "hello world\n",
            "hello world\n",
            "hello world\n",
            "hello world\n",
            "hello world\n",
            "hello world\n",
            "hello world\n",
            "hello world\n",
            "hello world\n",
            "hello world\n",
            "hello world\n",
            "hello world\n",
            "hello world\n",
            "hello world\n",
            "hello world\n",
            "hello world\n",
            "hello world\n",
            "hello world\n",
            "hello world\n",
            "hello world\n",
            "hello world\n",
            "hello world\n",
            "hello world\n",
            "hello world\n",
            "hello world\n",
            "hello world\n",
            "hello world\n",
            "hello world\n",
            "hello world\n",
            "hello world\n",
            "hello world\n",
            "hello world\n",
            "hello world\n",
            "hello world\n",
            "hello world\n",
            "hello world\n",
            "hello world\n",
            "hello world\n",
            "hello world\n",
            "hello world\n",
            "hello world\n",
            "hello world\n",
            "hello world\n",
            "hello world\n",
            "hello world\n",
            "hello world\n",
            "hello world\n",
            "hello world\n",
            "hello world\n",
            "hello world\n",
            "hello world\n",
            "hello world\n",
            "hello world\n",
            "hello world\n",
            "hello world\n",
            "hello world\n",
            "hello world\n",
            "hello world\n",
            "hello world\n",
            "hello world\n",
            "hello world\n",
            "hello world\n",
            "hello world\n",
            "hello world\n",
            "hello world\n",
            "hello world\n",
            "hello world\n",
            "hello world\n",
            "hello world\n",
            "hello world\n",
            "hello world\n",
            "hello world\n",
            "hello world\n",
            "hello world\n",
            "hello world\n",
            "hello world\n",
            "hello world\n",
            "hello world\n",
            "hello world\n",
            "hello world\n",
            "hello world\n",
            "hello world\n",
            "hello world\n",
            "hello world\n",
            "hello world\n",
            "hello world\n",
            "hello world\n",
            "hello world\n",
            "hello world\n",
            "hello world\n",
            "hello world\n",
            "hello world\n",
            "hello world\n",
            "hello world\n",
            "hello world\n",
            "hello world\n",
            "hello world\n",
            "hello world\n",
            "hello world\n",
            "hello world\n",
            "hello world\n",
            "hello world\n",
            "hello world\n",
            "hello world\n",
            "hello world\n",
            "hello world\n",
            "hello world\n",
            "hello world\n",
            "hello world\n",
            "hello world\n",
            "hello world\n",
            "hello world\n",
            "hello world\n",
            "hello world\n",
            "hello world\n",
            "hello world\n",
            "hello world\n",
            "hello world\n",
            "hello world\n",
            "hello world\n",
            "hello world\n",
            "hello world\n",
            "hello world\n",
            "hello world\n",
            "hello world\n",
            "hello world\n",
            "hello world\n",
            "hello world\n",
            "hello world\n",
            "hello world\n",
            "hello world\n",
            "hello world\n",
            "hello world\n",
            "hello world\n",
            "hello world\n",
            "hello world\n",
            "hello world\n",
            "hello world\n",
            "hello world\n",
            "hello world\n",
            "hello world\n",
            "hello world\n",
            "hello world\n",
            "hello world\n",
            "hello world\n",
            "hello world\n",
            "hello world\n",
            "hello world\n",
            "hello world\n",
            "hello world\n",
            "hello world\n",
            "hello world\n",
            "hello world\n",
            "hello world\n",
            "hello world\n",
            "hello world\n",
            "hello world\n",
            "hello world\n",
            "hello world\n",
            "hello world\n",
            "hello world\n",
            "hello world\n",
            "hello world\n",
            "hello world\n",
            "hello world\n",
            "hello world\n",
            "hello world\n",
            "hello world\n",
            "hello world\n",
            "hello world\n",
            "hello world\n",
            "hello world\n",
            "hello world\n",
            "hello world\n",
            "hello world\n",
            "hello world\n",
            "hello world\n",
            "hello world\n",
            "hello world\n",
            "hello world\n",
            "hello world\n",
            "hello world\n",
            "hello world\n",
            "hello world\n",
            "hello world\n",
            "hello world\n",
            "hello world\n",
            "hello world\n",
            "hello world\n",
            "hello world\n",
            "hello world\n",
            "hello world\n",
            "hello world\n",
            "hello world\n",
            "hello world\n",
            "hello world\n",
            "hello world\n",
            "hello world\n",
            "hello world\n",
            "hello world\n",
            "hello world\n",
            "hello world\n",
            "hello world\n",
            "hello world\n",
            "hello world\n",
            "hello world\n",
            "hello world\n",
            "hello world\n",
            "hello world\n",
            "hello world\n",
            "hello world\n",
            "hello world\n",
            "hello world\n",
            "hello world\n",
            "hello world\n",
            "hello world\n",
            "hello world\n",
            "hello world\n",
            "hello world\n",
            "hello world\n",
            "hello world\n",
            "hello world\n",
            "hello world\n",
            "hello world\n",
            "hello world\n",
            "hello world\n",
            "hello world\n",
            "hello world\n",
            "hello world\n",
            "hello world\n",
            "hello world\n",
            "hello world\n",
            "hello world\n",
            "hello world\n",
            "hello world\n",
            "hello world\n",
            "hello world\n",
            "hello world\n",
            "hello world\n",
            "hello world\n",
            "hello world\n",
            "hello world\n",
            "hello world\n",
            "hello world\n",
            "hello world\n",
            "hello world\n",
            "hello world\n",
            "hello world\n",
            "hello world\n",
            "hello world\n",
            "hello world\n",
            "hello world\n",
            "hello world\n",
            "hello world\n",
            "hello world\n",
            "hello world\n",
            "hello world\n",
            "hello world\n",
            "hello world\n",
            "hello world\n",
            "hello world\n",
            "hello world\n",
            "hello world\n",
            "hello world\n",
            "hello world\n",
            "hello world\n",
            "hello world\n",
            "hello world\n",
            "hello world\n",
            "hello world\n",
            "hello world\n",
            "hello world\n",
            "hello world\n",
            "hello world\n",
            "hello world\n",
            "hello world\n",
            "hello world\n",
            "hello world\n",
            "hello world\n",
            "hello world\n",
            "hello world\n",
            "hello world\n",
            "hello world\n",
            "hello world\n",
            "hello world\n",
            "hello world\n",
            "hello world\n",
            "hello world\n",
            "hello world\n",
            "hello world\n",
            "hello world\n",
            "hello world\n",
            "hello world\n",
            "hello world\n",
            "hello world\n",
            "hello world\n",
            "hello world\n",
            "hello world\n",
            "hello world\n",
            "hello world\n",
            "hello world\n",
            "hello world\n",
            "hello world\n",
            "hello world\n",
            "hello world\n",
            "hello world\n",
            "hello world\n",
            "hello world\n",
            "hello world\n",
            "hello world\n",
            "hello world\n",
            "hello world\n",
            "hello world\n",
            "hello world\n",
            "hello world\n",
            "hello world\n",
            "hello world\n",
            "hello world\n",
            "hello world\n",
            "hello world\n",
            "hello world\n",
            "hello world\n",
            "hello world\n",
            "hello world\n",
            "hello world\n",
            "hello world\n",
            "hello world\n",
            "hello world\n",
            "hello world\n",
            "hello world\n",
            "hello world\n",
            "hello world\n",
            "hello world\n",
            "hello world\n",
            "hello world\n",
            "hello world\n",
            "hello world\n",
            "hello world\n",
            "hello world\n",
            "hello world\n",
            "hello world\n",
            "hello world\n",
            "hello world\n",
            "hello world\n",
            "hello world\n",
            "hello world\n",
            "hello world\n",
            "hello world\n",
            "hello world\n",
            "hello world\n",
            "hello world\n",
            "hello world\n",
            "hello world\n",
            "hello world\n",
            "hello world\n",
            "hello world\n",
            "hello world\n",
            "hello world\n",
            "hello world\n",
            "hello world\n",
            "hello world\n",
            "hello world\n",
            "hello world\n",
            "hello world\n",
            "hello world\n",
            "hello world\n",
            "hello world\n",
            "hello world\n",
            "hello world\n",
            "hello world\n",
            "hello world\n",
            "hello world\n",
            "hello world\n",
            "hello world\n",
            "hello world\n",
            "hello world\n",
            "hello world\n",
            "hello world\n",
            "hello world\n",
            "hello world\n",
            "hello world\n",
            "hello world\n",
            "hello world\n",
            "hello world\n",
            "hello world\n",
            "hello world\n",
            "hello world\n",
            "hello world\n",
            "hello world\n",
            "hello world\n",
            "hello world\n",
            "hello world\n",
            "hello world\n",
            "hello world\n",
            "hello world\n",
            "hello world\n",
            "hello world\n",
            "hello world\n",
            "hello world\n",
            "hello world\n",
            "hello world\n",
            "hello world\n",
            "hello world\n",
            "hello world\n",
            "hello world\n",
            "hello world\n",
            "hello world\n",
            "hello world\n",
            "hello world\n",
            "hello world\n",
            "hello world\n",
            "hello world\n",
            "hello world\n",
            "hello world\n",
            "hello world\n",
            "hello world\n",
            "hello world\n",
            "hello world\n",
            "hello world\n",
            "hello world\n",
            "hello world\n",
            "hello world\n",
            "hello world\n",
            "hello world\n",
            "hello world\n",
            "hello world\n",
            "hello world\n",
            "hello world\n",
            "hello world\n",
            "hello world\n",
            "hello world\n",
            "hello world\n",
            "hello world\n",
            "hello world\n",
            "hello world\n",
            "hello world\n",
            "hello world\n",
            "hello world\n",
            "hello world\n",
            "hello world\n",
            "hello world\n",
            "hello world\n",
            "hello world\n",
            "hello world\n",
            "hello world\n",
            "hello world\n",
            "hello world\n",
            "hello world\n",
            "hello world\n",
            "hello world\n",
            "hello world\n",
            "hello world\n",
            "hello world\n",
            "hello world\n",
            "hello world\n",
            "hello world\n",
            "hello world\n",
            "hello world\n",
            "hello world\n",
            "hello world\n",
            "hello world\n",
            "hello world\n",
            "hello world\n",
            "hello world\n",
            "hello world\n",
            "hello world\n",
            "hello world\n",
            "hello world\n",
            "hello world\n",
            "hello world\n",
            "hello world\n",
            "hello world\n",
            "hello world\n",
            "hello world\n",
            "hello world\n",
            "hello world\n",
            "hello world\n",
            "hello world\n",
            "hello world\n",
            "hello world\n",
            "hello world\n",
            "hello world\n",
            "hello world\n",
            "hello world\n",
            "hello world\n",
            "hello world\n",
            "hello world\n",
            "hello world\n",
            "hello world\n",
            "hello world\n",
            "hello world\n",
            "hello world\n",
            "hello world\n",
            "hello world\n",
            "hello world\n",
            "hello world\n",
            "hello world\n",
            "hello world\n",
            "hello world\n",
            "hello world\n",
            "hello world\n",
            "hello world\n",
            "hello world\n",
            "hello world\n",
            "hello world\n",
            "hello world\n",
            "hello world\n",
            "hello world\n",
            "hello world\n",
            "hello world\n",
            "hello world\n",
            "hello world\n",
            "hello world\n",
            "hello world\n",
            "hello world\n",
            "hello world\n",
            "hello world\n",
            "hello world\n",
            "hello world\n",
            "hello world\n",
            "hello world\n",
            "hello world\n",
            "hello world\n",
            "hello world\n",
            "hello world\n",
            "hello world\n",
            "hello world\n",
            "hello world\n",
            "hello world\n",
            "hello world\n",
            "hello world\n",
            "hello world\n",
            "hello world\n",
            "hello world\n",
            "hello world\n",
            "hello world\n",
            "hello world\n",
            "hello world\n",
            "hello world\n",
            "hello world\n",
            "hello world\n",
            "hello world\n",
            "hello world\n",
            "hello world\n",
            "hello world\n",
            "hello world\n",
            "hello world\n",
            "hello world\n",
            "hello world\n",
            "hello world\n",
            "hello world\n",
            "hello world\n",
            "hello world\n",
            "hello world\n",
            "hello world\n",
            "hello world\n",
            "hello world\n",
            "hello world\n",
            "hello world\n",
            "hello world\n",
            "hello world\n",
            "hello world\n",
            "hello world\n",
            "hello world\n",
            "hello world\n",
            "hello world\n",
            "hello world\n",
            "hello world\n",
            "hello world\n",
            "hello world\n",
            "hello world\n",
            "hello world\n",
            "hello world\n",
            "hello world\n",
            "hello world\n",
            "hello world\n",
            "hello world\n",
            "hello world\n",
            "hello world\n",
            "hello world\n",
            "hello world\n",
            "hello world\n",
            "hello world\n",
            "hello world\n",
            "hello world\n",
            "hello world\n",
            "hello world\n",
            "hello world\n",
            "hello world\n",
            "hello world\n",
            "hello world\n",
            "hello world\n",
            "hello world\n",
            "hello world\n",
            "hello world\n",
            "hello world\n",
            "hello world\n",
            "hello world\n",
            "hello world\n",
            "hello world\n",
            "hello world\n",
            "hello world\n",
            "hello world\n",
            "hello world\n",
            "hello world\n",
            "hello world\n",
            "hello world\n",
            "hello world\n",
            "hello world\n",
            "hello world\n",
            "hello world\n",
            "hello world\n",
            "hello world\n",
            "hello world\n",
            "hello world\n",
            "hello world\n",
            "hello world\n",
            "hello world\n",
            "hello world\n",
            "hello world\n",
            "hello world\n",
            "hello world\n",
            "hello world\n",
            "hello world\n",
            "hello world\n",
            "hello world\n",
            "hello world\n",
            "hello world\n",
            "hello world\n",
            "hello world\n",
            "hello world\n",
            "hello world\n",
            "hello world\n",
            "hello world\n",
            "hello world\n",
            "hello world\n",
            "hello world\n",
            "hello world\n",
            "hello world\n",
            "hello world\n",
            "hello world\n",
            "hello world\n",
            "hello world\n",
            "hello world\n",
            "hello world\n",
            "hello world\n",
            "hello world\n",
            "hello world\n",
            "hello world\n",
            "hello world\n",
            "hello world\n",
            "hello world\n",
            "hello world\n",
            "hello world\n",
            "hello world\n",
            "hello world\n",
            "hello world\n",
            "hello world\n",
            "hello world\n",
            "hello world\n",
            "hello world\n",
            "hello world\n",
            "hello world\n",
            "hello world\n",
            "hello world\n",
            "hello world\n",
            "hello world\n",
            "hello world\n",
            "hello world\n",
            "hello world\n",
            "hello world\n",
            "hello world\n",
            "hello world\n",
            "hello world\n",
            "hello world\n",
            "hello world\n",
            "hello world\n",
            "hello world\n",
            "hello world\n",
            "hello world\n",
            "hello world\n",
            "hello world\n",
            "hello world\n",
            "hello world\n",
            "hello world\n",
            "hello world\n",
            "hello world\n",
            "hello world\n",
            "hello world\n",
            "hello world\n",
            "hello world\n",
            "hello world\n",
            "hello world\n",
            "hello world\n",
            "hello world\n",
            "hello world\n",
            "hello world\n",
            "hello world\n",
            "hello world\n",
            "hello world\n",
            "hello world\n",
            "hello world\n",
            "hello world\n",
            "hello world\n",
            "hello world\n",
            "hello world\n",
            "hello world\n",
            "hello world\n",
            "hello world\n",
            "hello world\n",
            "hello world\n",
            "hello world\n",
            "hello world\n",
            "hello world\n",
            "hello world\n",
            "hello world\n",
            "hello world\n",
            "hello world\n",
            "hello world\n",
            "hello world\n",
            "hello world\n",
            "hello world\n",
            "hello world\n",
            "hello world\n",
            "hello world\n",
            "hello world\n",
            "hello world\n",
            "hello world\n",
            "hello world\n",
            "hello world\n",
            "hello world\n",
            "hello world\n",
            "hello world\n",
            "hello world\n",
            "hello world\n",
            "hello world\n",
            "hello world\n",
            "hello world\n",
            "hello world\n",
            "hello world\n",
            "hello world\n",
            "hello world\n",
            "hello world\n",
            "hello world\n",
            "hello world\n",
            "hello world\n",
            "hello world\n",
            "hello world\n",
            "hello world\n",
            "hello world\n",
            "hello world\n",
            "hello world\n",
            "hello world\n",
            "hello world\n",
            "hello world\n",
            "hello world\n",
            "hello world\n",
            "hello world\n",
            "hello world\n",
            "hello world\n",
            "hello world\n",
            "hello world\n",
            "hello world\n",
            "hello world\n",
            "hello world\n",
            "hello world\n",
            "hello world\n",
            "hello world\n",
            "hello world\n",
            "hello world\n",
            "hello world\n",
            "hello world\n",
            "hello world\n",
            "hello world\n",
            "hello world\n",
            "hello world\n",
            "hello world\n",
            "hello world\n",
            "hello world\n",
            "hello world\n",
            "hello world\n",
            "hello world\n",
            "hello world\n",
            "hello world\n",
            "hello world\n",
            "hello world\n",
            "hello world\n",
            "hello world\n",
            "hello world\n",
            "hello world\n",
            "hello world\n",
            "hello world\n",
            "hello world\n",
            "hello world\n",
            "hello world\n",
            "hello world\n",
            "hello world\n",
            "hello world\n",
            "hello world\n",
            "hello world\n",
            "hello world\n",
            "hello world\n",
            "hello world\n",
            "hello world\n",
            "hello world\n",
            "hello world\n",
            "hello world\n",
            "hello world\n",
            "hello world\n",
            "hello world\n",
            "hello world\n",
            "hello world\n",
            "hello world\n",
            "hello world\n",
            "hello world\n",
            "hello world\n",
            "hello world\n",
            "hello world\n",
            "hello world\n",
            "hello world\n",
            "hello world\n",
            "hello world\n",
            "hello world\n",
            "hello world\n",
            "hello world\n",
            "hello world\n",
            "hello world\n",
            "hello world\n",
            "hello world\n",
            "hello world\n",
            "hello world\n",
            "hello world\n",
            "hello world\n",
            "hello world\n",
            "hello world\n",
            "hello world\n",
            "hello world\n",
            "hello world\n",
            "hello world\n",
            "hello world\n",
            "hello world\n",
            "hello world\n",
            "hello world\n",
            "hello world\n",
            "hello world\n",
            "hello world\n",
            "hello world\n",
            "hello world\n",
            "hello world\n",
            "hello world\n",
            "hello world\n",
            "hello world\n",
            "hello world\n",
            "hello world\n",
            "hello world\n",
            "hello world\n",
            "hello world\n",
            "hello world\n",
            "hello world\n",
            "hello world\n",
            "hello world\n",
            "hello world\n",
            "hello world\n",
            "hello world\n",
            "hello world\n",
            "hello world\n",
            "hello world\n",
            "hello world\n",
            "hello world\n",
            "hello world\n",
            "hello world\n",
            "hello world\n",
            "hello world\n",
            "hello world\n",
            "hello world\n",
            "hello world\n",
            "hello world\n",
            "hello world\n",
            "hello world\n",
            "hello world\n",
            "hello world\n",
            "hello world\n",
            "hello world\n",
            "hello world\n",
            "hello world\n",
            "hello world\n",
            "hello world\n",
            "hello world\n",
            "hello world\n",
            "hello world\n",
            "hello world\n",
            "hello world\n",
            "hello world\n",
            "hello world\n",
            "hello world\n",
            "hello world\n",
            "hello world\n",
            "hello world\n",
            "hello world\n",
            "hello world\n",
            "hello world\n",
            "hello world\n",
            "hello world\n",
            "hello world\n",
            "hello world\n",
            "hello world\n",
            "hello world\n",
            "hello world\n",
            "hello world\n",
            "hello world\n",
            "hello world\n",
            "hello world\n",
            "hello world\n",
            "hello world\n",
            "hello world\n",
            "hello world\n",
            "hello world\n",
            "hello world\n",
            "hello world\n",
            "hello world\n",
            "hello world\n",
            "hello world\n",
            "hello world\n",
            "hello world\n",
            "hello world\n",
            "hello world\n",
            "hello world\n",
            "hello world\n",
            "hello world\n",
            "hello world\n",
            "hello world\n",
            "hello world\n",
            "hello world\n",
            "hello world\n",
            "hello world\n",
            "hello world\n",
            "hello world\n",
            "hello world\n",
            "hello world\n",
            "hello world\n",
            "hello world\n",
            "hello world\n",
            "hello world\n",
            "hello world\n",
            "hello world\n",
            "hello world\n",
            "hello world\n",
            "hello world\n",
            "hello world\n",
            "hello world\n",
            "hello world\n",
            "hello world\n",
            "hello world\n",
            "hello world\n",
            "hello world\n",
            "hello world\n",
            "hello world\n",
            "hello world\n",
            "hello world\n",
            "hello world\n",
            "hello world\n",
            "hello world\n",
            "hello world\n",
            "hello world\n",
            "hello world\n",
            "hello world\n",
            "hello world\n",
            "hello world\n",
            "hello world\n",
            "hello world\n",
            "hello world\n",
            "hello world\n",
            "hello world\n",
            "hello world\n",
            "hello world\n",
            "hello world\n",
            "hello world\n",
            "hello world\n",
            "hello world\n",
            "hello world\n",
            "hello world\n",
            "hello world\n",
            "hello world\n",
            "hello world\n",
            "hello world\n",
            "hello world\n",
            "hello world\n",
            "hello world\n",
            "hello world\n",
            "hello world\n",
            "hello world\n",
            "hello world\n",
            "hello world\n",
            "hello world\n",
            "hello world\n",
            "hello world\n",
            "hello world\n",
            "hello world\n",
            "hello world\n",
            "hello world\n",
            "hello world\n",
            "hello world\n",
            "hello world\n",
            "hello world\n",
            "hello world\n",
            "hello world\n",
            "hello world\n",
            "hello world\n",
            "hello world\n",
            "hello world\n",
            "hello world\n",
            "hello world\n",
            "hello world\n",
            "hello world\n",
            "hello world\n",
            "hello world\n",
            "hello world\n",
            "hello world\n",
            "hello world\n",
            "hello world\n",
            "hello world\n",
            "hello world\n",
            "hello world\n",
            "hello world\n",
            "hello world\n",
            "hello world\n",
            "hello world\n",
            "hello world\n",
            "hello world\n",
            "hello world\n",
            "hello world\n",
            "hello world\n",
            "hello world\n",
            "hello world\n",
            "hello world\n",
            "hello world\n",
            "hello world\n",
            "hello world\n",
            "hello world\n",
            "hello world\n",
            "hello world\n",
            "hello world\n",
            "hello world\n",
            "hello world\n",
            "hello world\n",
            "hello world\n",
            "hello world\n",
            "hello world\n",
            "hello world\n",
            "hello world\n",
            "hello world\n",
            "hello world\n",
            "hello world\n",
            "hello world\n",
            "hello world\n",
            "hello world\n",
            "hello world\n",
            "hello world\n",
            "hello world\n",
            "hello world\n",
            "hello world\n",
            "hello world\n",
            "hello world\n",
            "hello world\n",
            "hello world\n",
            "hello world\n",
            "hello world\n",
            "hello world\n",
            "hello world\n",
            "hello world\n",
            "hello world\n",
            "hello world\n",
            "hello world\n",
            "hello world\n",
            "hello world\n",
            "hello world\n",
            "hello world\n",
            "hello world\n",
            "hello world\n",
            "hello world\n",
            "hello world\n",
            "hello world\n",
            "hello world\n",
            "hello world\n",
            "hello world\n",
            "hello world\n",
            "hello world\n",
            "hello world\n",
            "hello world\n",
            "hello world\n",
            "hello world\n",
            "hello world\n",
            "hello world\n",
            "hello world\n",
            "hello world\n",
            "hello world\n",
            "hello world\n",
            "hello world\n",
            "hello world\n",
            "hello world\n",
            "hello world\n",
            "hello world\n",
            "hello world\n",
            "hello world\n",
            "hello world\n",
            "hello world\n",
            "hello world\n",
            "hello world\n",
            "hello world\n",
            "hello world\n",
            "hello world\n",
            "hello world\n",
            "hello world\n",
            "hello world\n",
            "hello world\n",
            "hello world\n",
            "hello world\n",
            "hello world\n",
            "hello world\n",
            "hello world\n",
            "hello world\n",
            "hello world\n",
            "hello world\n",
            "hello world\n",
            "hello world\n",
            "hello world\n",
            "hello world\n",
            "hello world\n",
            "hello world\n",
            "hello world\n",
            "hello world\n",
            "hello world\n",
            "hello world\n",
            "hello world\n",
            "hello world\n",
            "hello world\n",
            "hello world\n",
            "hello world\n",
            "hello world\n",
            "hello world\n",
            "hello world\n",
            "hello world\n",
            "hello world\n",
            "hello world\n",
            "hello world\n",
            "hello world\n",
            "hello world\n",
            "hello world\n",
            "hello world\n",
            "hello world\n",
            "hello world\n",
            "hello world\n",
            "hello world\n",
            "hello world\n",
            "hello world\n",
            "hello world\n",
            "hello world\n",
            "hello world\n",
            "hello world\n",
            "hello world\n",
            "hello world\n",
            "hello world\n",
            "hello world\n",
            "hello world\n",
            "hello world\n",
            "hello world\n",
            "hello world\n",
            "hello world\n",
            "hello world\n",
            "hello world\n",
            "hello world\n",
            "hello world\n",
            "hello world\n",
            "hello world\n",
            "hello world\n",
            "hello world\n",
            "hello world\n",
            "hello world\n",
            "hello world\n",
            "hello world\n",
            "hello world\n",
            "hello world\n",
            "hello world\n",
            "hello world\n",
            "hello world\n",
            "hello world\n",
            "hello world\n",
            "hello world\n",
            "hello world\n",
            "hello world\n",
            "hello world\n",
            "hello world\n",
            "hello world\n",
            "hello world\n",
            "hello world\n",
            "hello world\n",
            "hello world\n",
            "hello world\n",
            "hello world\n",
            "hello world\n",
            "hello world\n",
            "hello world\n",
            "hello world\n",
            "hello world\n",
            "hello world\n",
            "hello world\n",
            "hello world\n",
            "hello world\n",
            "hello world\n",
            "hello world\n",
            "hello world\n",
            "hello world\n",
            "hello world\n",
            "hello world\n",
            "hello world\n",
            "hello world\n",
            "hello world\n",
            "hello world\n",
            "hello world\n",
            "hello world\n",
            "hello world\n",
            "hello world\n",
            "hello world\n",
            "hello world\n",
            "hello world\n",
            "hello world\n",
            "hello world\n",
            "hello world\n",
            "hello world\n",
            "hello world\n",
            "hello world\n",
            "hello world\n",
            "hello world\n",
            "hello world\n",
            "hello world\n",
            "hello world\n",
            "hello world\n",
            "hello world\n",
            "hello world\n",
            "hello world\n",
            "hello world\n",
            "hello world\n",
            "hello world\n",
            "hello world\n",
            "hello world\n",
            "hello world\n",
            "hello world\n",
            "hello world\n",
            "hello world\n",
            "hello world\n",
            "hello world\n",
            "hello world\n",
            "hello world\n",
            "hello world\n",
            "hello world\n",
            "hello world\n",
            "hello world\n",
            "hello world\n",
            "hello world\n",
            "hello world\n",
            "hello world\n",
            "hello world\n",
            "hello world\n",
            "hello world\n",
            "hello world\n",
            "hello world\n",
            "hello world\n",
            "hello world\n",
            "hello world\n",
            "hello world\n",
            "hello world\n",
            "hello world\n",
            "hello world\n",
            "hello world\n",
            "hello world\n",
            "hello world\n",
            "hello world\n",
            "hello world\n",
            "hello world\n",
            "hello world\n",
            "hello world\n",
            "hello world\n",
            "hello world\n",
            "hello world\n",
            "hello world\n",
            "hello world\n",
            "hello world\n",
            "hello world\n",
            "hello world\n",
            "hello world\n",
            "hello world\n",
            "hello world\n",
            "hello world\n",
            "hello world\n",
            "hello world\n",
            "hello world\n",
            "hello world\n",
            "hello world\n",
            "hello world\n",
            "hello world\n",
            "hello world\n",
            "hello world\n",
            "hello world\n",
            "hello world\n",
            "hello world\n",
            "hello world\n",
            "hello world\n",
            "hello world\n",
            "hello world\n",
            "hello world\n",
            "hello world\n",
            "hello world\n",
            "hello world\n",
            "hello world\n",
            "hello world\n",
            "hello world\n",
            "hello world\n",
            "hello world\n",
            "hello world\n",
            "hello world\n",
            "hello world\n",
            "hello world\n",
            "hello world\n",
            "hello world\n",
            "hello world\n",
            "hello world\n",
            "hello world\n",
            "hello world\n",
            "hello world\n",
            "hello world\n",
            "hello world\n",
            "hello world\n",
            "hello world\n",
            "hello world\n",
            "hello world\n",
            "hello world\n",
            "hello world\n",
            "hello world\n",
            "hello world\n",
            "hello world\n",
            "hello world\n",
            "hello world\n",
            "hello world\n",
            "hello world\n",
            "hello world\n",
            "hello world\n",
            "hello world\n",
            "hello world\n",
            "hello world\n",
            "hello world\n",
            "hello world\n",
            "hello world\n",
            "hello world\n",
            "hello world\n",
            "hello world\n",
            "hello world\n",
            "hello world\n",
            "hello world\n",
            "hello world\n",
            "hello world\n",
            "hello world\n",
            "hello world\n",
            "hello world\n",
            "hello world\n",
            "hello world\n",
            "hello world\n",
            "hello world\n",
            "hello world\n",
            "hello world\n",
            "hello world\n",
            "hello world\n",
            "hello world\n",
            "hello world\n",
            "hello world\n",
            "hello world\n",
            "hello world\n",
            "hello world\n",
            "hello world\n",
            "hello world\n",
            "hello world\n",
            "hello world\n",
            "hello world\n",
            "hello world\n",
            "hello world\n",
            "hello world\n",
            "hello world\n",
            "hello world\n",
            "hello world\n",
            "hello world\n",
            "hello world\n",
            "hello world\n",
            "hello world\n",
            "hello world\n",
            "hello world\n",
            "hello world\n",
            "hello world\n",
            "hello world\n",
            "hello world\n",
            "hello world\n",
            "hello world\n",
            "hello world\n",
            "hello world\n",
            "hello world\n",
            "hello world\n",
            "hello world\n",
            "hello world\n",
            "hello world\n",
            "hello world\n",
            "hello world\n",
            "hello world\n",
            "hello world\n",
            "hello world\n",
            "hello world\n",
            "hello world\n",
            "hello world\n",
            "hello world\n",
            "hello world\n",
            "hello world\n",
            "hello world\n",
            "hello world\n",
            "hello world\n",
            "hello world\n",
            "hello world\n",
            "hello world\n",
            "hello world\n",
            "hello world\n",
            "hello world\n",
            "hello world\n",
            "hello world\n",
            "hello world\n",
            "hello world\n",
            "hello world\n",
            "hello world\n",
            "hello world\n",
            "hello world\n",
            "hello world\n",
            "hello world\n",
            "hello world\n",
            "hello world\n",
            "hello world\n",
            "hello world\n",
            "hello world\n",
            "hello world\n",
            "hello world\n",
            "hello world\n",
            "hello world\n",
            "hello world\n",
            "hello world\n",
            "hello world\n",
            "hello world\n",
            "hello world\n",
            "hello world\n",
            "hello world\n",
            "hello world\n",
            "hello world\n",
            "hello world\n",
            "hello world\n",
            "hello world\n",
            "hello world\n",
            "hello world\n",
            "hello world\n",
            "hello world\n",
            "hello world\n",
            "hello world\n",
            "hello world\n",
            "hello world\n",
            "hello world\n",
            "hello world\n",
            "hello world\n",
            "hello world\n",
            "hello world\n",
            "hello world\n",
            "hello world\n",
            "hello world\n",
            "hello world\n",
            "hello world\n",
            "hello world\n",
            "hello world\n",
            "hello world\n",
            "hello world\n",
            "hello world\n",
            "hello world\n",
            "hello world\n",
            "hello world\n",
            "hello world\n",
            "hello world\n",
            "hello world\n",
            "hello world\n",
            "hello world\n",
            "hello world\n",
            "hello world\n",
            "hello world\n",
            "hello world\n",
            "hello world\n",
            "hello world\n",
            "hello world\n",
            "hello world\n",
            "hello world\n",
            "hello world\n",
            "hello world\n",
            "hello world\n",
            "hello world\n",
            "hello world\n",
            "hello world\n",
            "hello world\n",
            "hello world\n",
            "hello world\n",
            "hello world\n",
            "hello world\n",
            "hello world\n",
            "hello world\n",
            "hello world\n",
            "hello world\n",
            "hello world\n",
            "hello world\n",
            "hello world\n",
            "hello world\n",
            "hello world\n",
            "hello world\n",
            "hello world\n",
            "hello world\n",
            "hello world\n",
            "hello world\n",
            "hello world\n",
            "hello world\n",
            "hello world\n",
            "hello world\n",
            "hello world\n",
            "hello world\n",
            "hello world\n",
            "hello world\n",
            "hello world\n",
            "hello world\n",
            "hello world\n",
            "hello world\n",
            "hello world\n",
            "hello world\n",
            "hello world\n",
            "hello world\n",
            "hello world\n",
            "hello world\n",
            "hello world\n",
            "hello world\n",
            "hello world\n",
            "hello world\n",
            "hello world\n",
            "hello world\n",
            "hello world\n",
            "hello world\n",
            "hello world\n",
            "hello world\n",
            "hello world\n",
            "hello world\n",
            "hello world\n",
            "hello world\n",
            "hello world\n",
            "hello world\n",
            "hello world\n",
            "hello world\n",
            "hello world\n",
            "hello world\n",
            "hello world\n",
            "hello world\n",
            "hello world\n",
            "hello world\n",
            "hello world\n",
            "hello world\n",
            "hello world\n",
            "hello world\n",
            "hello world\n",
            "hello world\n",
            "hello world\n",
            "hello world\n",
            "hello world\n",
            "hello world\n",
            "hello world\n",
            "hello world\n",
            "hello world\n",
            "hello world\n",
            "hello world\n",
            "hello world\n",
            "hello world\n",
            "hello world\n",
            "hello world\n",
            "hello world\n",
            "hello world\n",
            "hello world\n",
            "hello world\n",
            "hello world\n",
            "hello world\n",
            "hello world\n",
            "hello world\n",
            "hello world\n",
            "hello world\n",
            "hello world\n",
            "hello world\n",
            "hello world\n",
            "hello world\n",
            "hello world\n",
            "hello world\n",
            "hello world\n",
            "hello world\n",
            "hello world\n",
            "hello world\n",
            "hello world\n",
            "hello world\n",
            "hello world\n",
            "hello world\n",
            "hello world\n",
            "hello world\n",
            "hello world\n",
            "hello world\n",
            "hello world\n",
            "hello world\n",
            "hello world\n",
            "hello world\n",
            "hello world\n",
            "hello world\n",
            "hello world\n",
            "hello world\n",
            "hello world\n",
            "hello world\n",
            "hello world\n",
            "hello world\n",
            "hello world\n",
            "hello world\n",
            "hello world\n",
            "hello world\n",
            "hello world\n",
            "hello world\n",
            "hello world\n",
            "hello world\n",
            "hello world\n",
            "hello world\n",
            "hello world\n",
            "hello world\n",
            "hello world\n",
            "hello world\n",
            "hello world\n",
            "hello world\n",
            "hello world\n",
            "hello world\n",
            "hello world\n",
            "hello world\n",
            "hello world\n",
            "hello world\n",
            "hello world\n",
            "hello world\n",
            "hello world"
          ]
        }
      ],
      "source": [
        "while True:\n",
        "  print(\"hello world\")\n",
        "  break"
      ]
    },
    {
      "cell_type": "code",
      "execution_count": null,
      "metadata": {
        "colab": {
          "base_uri": "https://localhost:8080/"
        },
        "id": "yFBf_LmL7NCQ",
        "outputId": "c3af1d1f-8583-40df-be11-4479a362688c"
      },
      "outputs": [
        {
          "name": "stdout",
          "output_type": "stream",
          "text": [
            "1\n",
            "2\n",
            "3\n",
            "4\n"
          ]
        }
      ],
      "source": [
        "#transfer statement\n",
        "for i in range(1,10):\n",
        "  if i==5:\n",
        "    break\n",
        "  print(i)"
      ]
    },
    {
      "cell_type": "code",
      "execution_count": null,
      "metadata": {
        "colab": {
          "base_uri": "https://localhost:8080/"
        },
        "id": "eZLIOKQz740g",
        "outputId": "a33330c1-5c75-4d11-e6a7-3540a2163eec"
      },
      "outputs": [
        {
          "name": "stdout",
          "output_type": "stream",
          "text": [
            "1\n",
            "2\n",
            "3\n",
            "4\n",
            "6\n",
            "7\n",
            "8\n",
            "9\n"
          ]
        }
      ],
      "source": [
        "for i in range(1,10):\n",
        "  if i==5:\n",
        "    continue\n",
        "  print(i)"
      ]
    },
    {
      "cell_type": "code",
      "execution_count": null,
      "metadata": {
        "colab": {
          "base_uri": "https://localhost:8080/"
        },
        "id": "vNqQPwzL8RGD",
        "outputId": "d1eaa1c2-6e1d-44cc-d35e-f004be7be247"
      },
      "outputs": [
        {
          "name": "stdout",
          "output_type": "stream",
          "text": [
            "30\n"
          ]
        }
      ],
      "source": [
        "def add():\n",
        "  pass\n",
        "\n",
        "def sub():\n",
        "  a=10\n",
        "  b=20\n",
        "  print(a+b)\n",
        "\n",
        "add()\n",
        "sub()\n"
      ]
    },
    {
      "cell_type": "code",
      "execution_count": null,
      "metadata": {
        "id": "zjBEpL9H8pK4"
      },
      "outputs": [],
      "source": [
        "i=0\n",
        "if i==5:\n",
        "  pass\n",
        "\n",
        "\n",
        "\n"
      ]
    },
    {
      "cell_type": "code",
      "execution_count": null,
      "metadata": {
        "colab": {
          "base_uri": "https://localhost:8080/"
        },
        "id": "VQVAuNii9BT8",
        "outputId": "a9891966-ee4a-4d37-da20-cf6077fbf715"
      },
      "outputs": [
        {
          "name": "stdout",
          "output_type": "stream",
          "text": [
            "enter any number-9\n",
            "number is negative ! please enter the positive number\n",
            "enter any number-8\n",
            "number is negative ! please enter the positive number\n",
            "enter any number-6\n",
            "number is negative ! please enter the positive number\n",
            "enter any number4\n",
            "thank you number is positive\n"
          ]
        }
      ],
      "source": [
        "while True:\n",
        "  n=int(input(\"enter any number\"))\n",
        "  if n<0:\n",
        "    print(\"number is negative ! please enter the positive number\")\n",
        "  else:\n",
        "    print(\"thank you number is positive\")\n",
        "    break"
      ]
    },
    {
      "cell_type": "code",
      "execution_count": null,
      "metadata": {
        "colab": {
          "base_uri": "https://localhost:8080/"
        },
        "id": "OZ6hlaUj9klf",
        "outputId": "93b42df0-a7a8-4186-a3be-2cfe2ed4f0a0"
      },
      "outputs": [
        {
          "name": "stdout",
          "output_type": "stream",
          "text": [
            "enter\n",
            "1.tea\n",
            "2.coffee\n",
            "3.pizza1\n",
            "tea is selected\n",
            "enter\n",
            "1.tea\n",
            "2.coffee\n",
            "3.pizza1\n",
            "tea is selected\n",
            "enter\n",
            "1.tea\n",
            "2.coffee\n",
            "3.pizza1\n",
            "tea is selected\n",
            "enter\n",
            "1.tea\n",
            "2.coffee\n",
            "3.pizza2\n",
            "coffee is selected\n",
            "enter\n",
            "1.tea\n",
            "2.coffee\n",
            "3.pizza2\n",
            "coffee is selected\n",
            "enter\n",
            "1.tea\n",
            "2.coffee\n",
            "3.pizza3\n",
            "pizza is selected\n",
            "enter\n",
            "1.tea\n",
            "2.coffee\n",
            "3.pizza8\n",
            "welcome!\n",
            "-------------------------\n",
            "Items\t\tCount\t\tAmount\n",
            "-------------------------\n",
            "Tea\t\t3\t\t18\n",
            "Coffee\t\t2\t\t30\n",
            "pizza\t\t\\1\t\t50\n",
            "--------------------------\n",
            "Total\t\t6\t\t98\n",
            "----------------------------=\n",
            "visit again\n"
          ]
        }
      ],
      "source": [
        "c_t,cc,cp=0,0,0\n",
        "while True:\n",
        "  ch=int(input(\"enter\\n1.tea\\n2.coffee\\n3.pizza\"))\n",
        "  match(ch):\n",
        "    case 1 :\n",
        "      print(\"tea is selected\")\n",
        "      c_t+=1\n",
        "    case 2:\n",
        "      print(\"coffee is selected\")\n",
        "      cc+=1\n",
        "    case 3:\n",
        "      print(\"pizza is selected\")\n",
        "      cp+=1\n",
        "    case _:\n",
        "      total_c=c_t+cc+cp\n",
        "      total_amount=(c_t*6) + (cc*15) +(cp*50)\n",
        "      print(\"welcome!\")\n",
        "      print(\"-------------------------\")\n",
        "      print(\"Items\\t\\tCount\\t\\tAmount\")\n",
        "      print(\"-------------------------\")\n",
        "      print(f\"Tea\\t\\t{c_t}\\t\\t{c_t*6}\")\n",
        "      print(f\"Coffee\\t\\t{cc}\\t\\t{cc*15}\")\n",
        "      print(f\"pizza\\t\\t\\{cp}\\t\\t{cp*50}\")\n",
        "      print(\"--------------------------\")\n",
        "      print(f\"Total\\t\\t{total_c}\\t\\t{total_amount}\")\n",
        "      print(\"----------------------------=\")\n",
        "      print(\"visit again\")\n",
        "\n",
        "      break"
      ]
    },
    {
      "cell_type": "code",
      "execution_count": null,
      "metadata": {
        "colab": {
          "base_uri": "https://localhost:8080/"
        },
        "id": "UQo_S9Ab-Uon",
        "outputId": "8136801c-be6d-4a7a-a98c-40ae879e384d"
      },
      "outputs": [
        {
          "name": "stdout",
          "output_type": "stream",
          "text": [
            "hello\n",
            "world\n"
          ]
        }
      ],
      "source": [
        "print(\"hello\\nworld\")"
      ]
    },
    {
      "cell_type": "code",
      "execution_count": null,
      "metadata": {
        "id": "DLK-p5BlEAqX"
      },
      "outputs": [],
      "source": [
        "#features of opps:\n",
        "  inheritance:\n",
        "      single\n",
        "\n",
        "      multilevel\n",
        "      multiple\n",
        "      hierarchical\n",
        "      hybrid\n",
        "  polymorphism\n",
        "  abstraction\n",
        "  encapsulation\n",
        "\n"
      ]
    },
    {
      "cell_type": "code",
      "execution_count": null,
      "metadata": {
        "colab": {
          "base_uri": "https://localhost:8080/"
        },
        "id": "OJ1n_oZ0HDQz",
        "outputId": "ba57ee18-61d5-41cc-8de2-1ecf6518893d"
      },
      "outputs": [
        {
          "name": "stdout",
          "output_type": "stream",
          "text": [
            "show function of class A\n",
            "show function of class B\n"
          ]
        }
      ],
      "source": [
        "class A:\n",
        "  def show(self):\n",
        "    print(\"show function of class A\")\n",
        "\n",
        "\n",
        "class B(A):\n",
        "  def show2(self):\n",
        "    print(\"show function of class B\")\n",
        "\n",
        "\n",
        "b=B()\n",
        "obj=B()\n",
        "b.show()\n",
        "obj.show2()"
      ]
    },
    {
      "cell_type": "code",
      "execution_count": null,
      "metadata": {
        "colab": {
          "base_uri": "https://localhost:8080/"
        },
        "id": "OlS1E4RcHoG8",
        "outputId": "719a1e8f-c8b5-4dc4-f5e7-8ae100034648"
      },
      "outputs": [
        {
          "name": "stdout",
          "output_type": "stream",
          "text": [
            "show function of class A\n",
            "show function of class B\n",
            "show function of class C\n"
          ]
        }
      ],
      "source": [
        "class A:\n",
        "  def show(self):\n",
        "    print(\"show function of class A\")\n",
        "\n",
        "\n",
        "class B(A) :\n",
        "  def show2(self):\n",
        "    print(\"show function of class B\")\n",
        "\n",
        "class C(A,B):\n",
        "  def show3(self):\n",
        "    print(\"show function of class C\")\n",
        "\n",
        "\n",
        "c=C()\n",
        "c.show()\n",
        "c.show2()\n",
        "c.show3()"
      ]
    },
    {
      "cell_type": "code",
      "execution_count": null,
      "metadata": {
        "id": "3SdBI3DJPkSF"
      },
      "outputs": [],
      "source": []
    },
    {
      "cell_type": "code",
      "execution_count": null,
      "metadata": {
        "colab": {
          "base_uri": "https://localhost:8080/"
        },
        "id": "1wFzjRg2KPLm",
        "outputId": "05553bad-7d05-4545-c167-d4f1a36b0e9c"
      },
      "outputs": [
        {
          "name": "stdout",
          "output_type": "stream",
          "text": [
            "24\n",
            "27\n"
          ]
        }
      ],
      "source": [
        "class Demo:\n",
        "  def __init__(self,n1,n2):\n",
        "    print(n1+n2)\n",
        "\n",
        "\n",
        "d=Demo(12,12)\n",
        "lp=Demo(13,14)"
      ]
    },
    {
      "cell_type": "code",
      "execution_count": null,
      "metadata": {
        "id": "LUqiHzOgNVw0"
      },
      "outputs": [],
      "source": [
        "#polymorphism:\n"
      ]
    },
    {
      "cell_type": "code",
      "execution_count": null,
      "metadata": {
        "colab": {
          "base_uri": "https://localhost:8080/"
        },
        "id": "tGsNle9JP705",
        "outputId": "a69c6a8a-8642-4da2-fdda-39048c8628d4"
      },
      "outputs": [
        {
          "data": {
            "text/plain": [
              "30"
            ]
          },
          "execution_count": 27,
          "metadata": {},
          "output_type": "execute_result"
        }
      ],
      "source": [
        "10+20"
      ]
    },
    {
      "cell_type": "code",
      "execution_count": null,
      "metadata": {
        "id": "VRexvbo5P8vA"
      },
      "outputs": [],
      "source": []
    },
    {
      "cell_type": "code",
      "execution_count": null,
      "metadata": {
        "colab": {
          "base_uri": "https://localhost:8080/",
          "height": 36
        },
        "id": "ocPtqHhPP-7I",
        "outputId": "f818cdda-0df0-46f6-f57a-1a96867acb40"
      },
      "outputs": [
        {
          "data": {
            "application/vnd.google.colaboratory.intrinsic+json": {
              "type": "string"
            },
            "text/plain": [
              "'aryanshreyash'"
            ]
          },
          "execution_count": 28,
          "metadata": {},
          "output_type": "execute_result"
        }
      ],
      "source": [
        "\"aryan\"+\"shreyash\""
      ]
    },
    {
      "cell_type": "code",
      "execution_count": null,
      "metadata": {
        "colab": {
          "base_uri": "https://localhost:8080/"
        },
        "id": "jQ6mJNplQCGF",
        "outputId": "a1a2f9f3-ff4d-481d-ef0e-f7cc591aa437"
      },
      "outputs": [
        {
          "name": "stdout",
          "output_type": "stream",
          "text": [
            "30\n",
            "60\n"
          ]
        }
      ],
      "source": [
        "class cal:\n",
        "\n",
        "\n",
        "  def add(self,a,b,c=0):\n",
        "    print(a+b+c)\n",
        "\n",
        "\n",
        "c=cal()\n",
        "c.add(10,20)\n",
        "c.add(10,20,30)\n",
        "\n"
      ]
    },
    {
      "cell_type": "code",
      "execution_count": null,
      "metadata": {
        "id": "H29oeSCSQtxQ"
      },
      "outputs": [],
      "source": []
    },
    {
      "cell_type": "markdown",
      "metadata": {
        "id": "f6yM3IzLGx1k"
      },
      "source": [
        "#Recursion"
      ]
    },
    {
      "cell_type": "code",
      "execution_count": null,
      "metadata": {
        "colab": {
          "base_uri": "https://localhost:8080/",
          "height": 1000
        },
        "id": "eUUmXnn2G0U4",
        "outputId": "f66d5878-6c46-4bed-9a48-c6e7b2a8e5bf"
      },
      "outputs": [
        {
          "name": "stdout",
          "output_type": "stream",
          "text": [
            "hello all\n",
            "hello all\n",
            "hello all\n",
            "hello all\n",
            "hello all\n",
            "hello all\n",
            "hello all\n",
            "hello all\n",
            "hello all\n",
            "hello all\n",
            "hello all\n",
            "hello all\n",
            "hello all\n",
            "hello all\n",
            "hello all\n",
            "hello all\n",
            "hello all\n",
            "hello all\n",
            "hello all\n",
            "hello all\n",
            "hello all\n",
            "hello all\n",
            "hello all\n",
            "hello all\n",
            "hello all\n",
            "hello all\n",
            "hello all\n",
            "hello all\n",
            "hello all\n",
            "hello all\n",
            "hello all\n",
            "hello all\n",
            "hello all\n",
            "hello all\n",
            "hello all\n",
            "hello all\n",
            "hello all\n",
            "hello all\n",
            "hello all\n",
            "hello all\n",
            "hello all\n",
            "hello all\n",
            "hello all\n",
            "hello all\n",
            "hello all\n",
            "hello all\n",
            "hello all\n",
            "hello all\n",
            "hello all\n",
            "hello all\n",
            "hello all\n",
            "hello all\n",
            "hello all\n",
            "hello all\n",
            "hello all\n",
            "hello all\n",
            "hello all\n",
            "hello all\n",
            "hello all\n",
            "hello all\n",
            "hello all\n",
            "hello all\n",
            "hello all\n",
            "hello all\n",
            "hello all\n",
            "hello all\n",
            "hello all\n",
            "hello all\n",
            "hello all\n",
            "hello all\n",
            "hello all\n",
            "hello all\n",
            "hello all\n",
            "hello all\n",
            "hello all\n",
            "hello all\n",
            "hello all\n",
            "hello all\n",
            "hello all\n",
            "hello all\n",
            "hello all\n",
            "hello all\n",
            "hello all\n",
            "hello all\n",
            "hello all\n",
            "hello all\n",
            "hello all\n",
            "hello all\n",
            "hello all\n",
            "hello all\n",
            "hello all\n",
            "hello all\n",
            "hello all\n",
            "hello all\n",
            "hello all\n",
            "hello all\n",
            "hello all\n",
            "hello all\n",
            "hello all\n",
            "hello all\n",
            "hello all\n",
            "hello all\n",
            "hello all\n",
            "hello all\n",
            "hello all\n",
            "hello all\n",
            "hello all\n",
            "hello all\n",
            "hello all\n",
            "hello all\n",
            "hello all\n",
            "hello all\n",
            "hello all\n",
            "hello all\n",
            "hello all\n",
            "hello all\n",
            "hello all\n",
            "hello all\n",
            "hello all\n",
            "hello all\n",
            "hello all\n",
            "hello all\n",
            "hello all\n",
            "hello all\n",
            "hello all\n",
            "hello all\n",
            "hello all\n",
            "hello all\n",
            "hello all\n",
            "hello all\n",
            "hello all\n",
            "hello all\n",
            "hello all\n",
            "hello all\n",
            "hello all\n",
            "hello all\n",
            "hello all\n",
            "hello all\n",
            "hello all\n",
            "hello all\n",
            "hello all\n",
            "hello all\n",
            "hello all\n",
            "hello all\n",
            "hello all\n",
            "hello all\n",
            "hello all\n",
            "hello all\n",
            "hello all\n",
            "hello all\n",
            "hello all\n",
            "hello all\n",
            "hello all\n",
            "hello all\n",
            "hello all\n",
            "hello all\n",
            "hello all\n",
            "hello all\n",
            "hello all\n",
            "hello all\n",
            "hello all\n",
            "hello all\n",
            "hello all\n",
            "hello all\n",
            "hello all\n",
            "hello all\n",
            "hello all\n",
            "hello all\n",
            "hello all\n",
            "hello all\n",
            "hello all\n",
            "hello all\n",
            "hello all\n",
            "hello all\n",
            "hello all\n",
            "hello all\n",
            "hello all\n",
            "hello all\n",
            "hello all\n",
            "hello all\n",
            "hello all\n",
            "hello all\n",
            "hello all\n",
            "hello all\n",
            "hello all\n",
            "hello all\n",
            "hello all\n",
            "hello all\n",
            "hello all\n",
            "hello all\n",
            "hello all\n",
            "hello all\n",
            "hello all\n",
            "hello all\n",
            "hello all\n",
            "hello all\n",
            "hello all\n",
            "hello all\n",
            "hello all\n",
            "hello all\n",
            "hello all\n",
            "hello all\n",
            "hello all\n",
            "hello all\n",
            "hello all\n",
            "hello all\n",
            "hello all\n",
            "hello all\n",
            "hello all\n",
            "hello all\n",
            "hello all\n",
            "hello all\n",
            "hello all\n",
            "hello all\n",
            "hello all\n",
            "hello all\n",
            "hello all\n",
            "hello all\n",
            "hello all\n",
            "hello all\n",
            "hello all\n",
            "hello all\n",
            "hello all\n",
            "hello all\n",
            "hello all\n",
            "hello all\n",
            "hello all\n",
            "hello all\n",
            "hello all\n",
            "hello all\n",
            "hello all\n",
            "hello all\n",
            "hello all\n",
            "hello all\n",
            "hello all\n",
            "hello all\n",
            "hello all\n",
            "hello all\n",
            "hello all\n",
            "hello all\n",
            "hello all\n",
            "hello all\n",
            "hello all\n",
            "hello all\n",
            "hello all\n",
            "hello all\n",
            "hello all\n",
            "hello all\n",
            "hello all\n",
            "hello all\n",
            "hello all\n",
            "hello all\n",
            "hello all\n",
            "hello all\n",
            "hello all\n",
            "hello all\n",
            "hello all\n",
            "hello all\n",
            "hello all\n",
            "hello all\n",
            "hello all\n",
            "hello all\n",
            "hello all\n",
            "hello all\n",
            "hello all\n",
            "hello all\n",
            "hello all\n",
            "hello all\n",
            "hello all\n",
            "hello all\n",
            "hello all\n",
            "hello all\n",
            "hello all\n",
            "hello all\n",
            "hello all\n",
            "hello all\n",
            "hello all\n",
            "hello all\n",
            "hello all\n",
            "hello all\n",
            "hello all\n",
            "hello all\n",
            "hello all\n",
            "hello all\n",
            "hello all\n",
            "hello all\n",
            "hello all\n",
            "hello all\n",
            "hello all\n",
            "hello all\n",
            "hello all\n",
            "hello all\n",
            "hello all\n",
            "hello all\n",
            "hello all\n",
            "hello all\n",
            "hello all\n",
            "hello all\n",
            "hello all\n",
            "hello all\n",
            "hello all\n",
            "hello all\n",
            "hello all\n",
            "hello all\n",
            "hello all\n",
            "hello all\n",
            "hello all\n",
            "hello all\n",
            "hello all\n",
            "hello all\n",
            "hello all\n",
            "hello all\n",
            "hello all\n",
            "hello all\n",
            "hello all\n",
            "hello all\n",
            "hello all\n",
            "hello all\n",
            "hello all\n",
            "hello all\n",
            "hello all\n",
            "hello all\n",
            "hello all\n",
            "hello all\n",
            "hello all\n",
            "hello all\n",
            "hello all\n",
            "hello all\n",
            "hello all\n",
            "hello all\n",
            "hello all\n",
            "hello all\n",
            "hello all\n",
            "hello all\n",
            "hello all\n",
            "hello all\n",
            "hello all\n",
            "hello all\n",
            "hello all\n",
            "hello all\n",
            "hello all\n",
            "hello all\n",
            "hello all\n",
            "hello all\n",
            "hello all\n",
            "hello all\n",
            "hello all\n",
            "hello all\n",
            "hello all\n",
            "hello all\n",
            "hello all\n",
            "hello all\n",
            "hello all\n",
            "hello all\n",
            "hello all\n",
            "hello all\n",
            "hello all\n",
            "hello all\n",
            "hello all\n",
            "hello all\n",
            "hello all\n",
            "hello all\n",
            "hello all\n",
            "hello all\n",
            "hello all\n",
            "hello all\n",
            "hello all\n",
            "hello all\n",
            "hello all\n",
            "hello all\n",
            "hello all\n",
            "hello all\n",
            "hello all\n",
            "hello all\n",
            "hello all\n",
            "hello all\n",
            "hello all\n",
            "hello all\n",
            "hello all\n",
            "hello all\n",
            "hello all\n",
            "hello all\n",
            "hello all\n",
            "hello all\n",
            "hello all\n",
            "hello all\n",
            "hello all\n",
            "hello all\n",
            "hello all\n",
            "hello all\n",
            "hello all\n",
            "hello all\n",
            "hello all\n",
            "hello all\n",
            "hello all\n",
            "hello all\n",
            "hello all\n",
            "hello all\n",
            "hello all\n",
            "hello all\n",
            "hello all\n",
            "hello all\n",
            "hello all\n",
            "hello all\n",
            "hello all\n",
            "hello all\n",
            "hello all\n",
            "hello all\n",
            "hello all\n",
            "hello all\n",
            "hello all\n",
            "hello all\n",
            "hello all\n",
            "hello all\n",
            "hello all\n",
            "hello all\n",
            "hello all\n",
            "hello all\n",
            "hello all\n",
            "hello all\n",
            "hello all\n",
            "hello all\n",
            "hello all\n",
            "hello all\n",
            "hello all\n",
            "hello all\n",
            "hello all\n",
            "hello all\n",
            "hello all\n",
            "hello all\n",
            "hello all\n",
            "hello all\n",
            "hello all\n",
            "hello all\n",
            "hello all\n",
            "hello all\n",
            "hello all\n",
            "hello all\n",
            "hello all\n",
            "hello all\n",
            "hello all\n",
            "hello all\n",
            "hello all\n",
            "hello all\n",
            "hello all\n",
            "hello all\n",
            "hello all\n",
            "hello all\n",
            "hello all\n",
            "hello all\n",
            "hello all\n",
            "hello all\n",
            "hello all\n",
            "hello all\n",
            "hello all\n",
            "hello all\n",
            "hello all\n",
            "hello all\n",
            "hello all\n",
            "hello all\n",
            "hello all\n",
            "hello all\n",
            "hello all\n",
            "hello all\n",
            "hello all\n",
            "hello all\n",
            "hello all\n",
            "hello all\n",
            "hello all\n",
            "hello all\n",
            "hello all\n",
            "hello all\n",
            "hello all\n",
            "hello all\n",
            "hello all\n",
            "hello all\n",
            "hello all\n",
            "hello all\n",
            "hello all\n",
            "hello all\n",
            "hello all\n",
            "hello all\n",
            "hello all\n",
            "hello all\n",
            "hello all\n",
            "hello all\n",
            "hello all\n",
            "hello all\n",
            "hello all\n",
            "hello all\n",
            "hello all\n",
            "hello all\n",
            "hello all\n",
            "hello all\n",
            "hello all\n",
            "hello all\n",
            "hello all\n",
            "hello all\n",
            "hello all\n",
            "hello all\n",
            "hello all\n",
            "hello all\n",
            "hello all\n",
            "hello all\n",
            "hello all\n",
            "hello all\n",
            "hello all\n",
            "hello all\n",
            "hello all\n",
            "hello all\n",
            "hello all\n",
            "hello all\n",
            "hello all\n",
            "hello all\n",
            "hello all\n",
            "hello all\n",
            "hello all\n",
            "hello all\n",
            "hello all\n",
            "hello all\n",
            "hello all\n",
            "hello all\n",
            "hello all\n",
            "hello all\n",
            "hello all\n",
            "hello all\n",
            "hello all\n",
            "hello all\n",
            "hello all\n",
            "hello all\n",
            "hello all\n",
            "hello all\n",
            "hello all\n",
            "hello all\n",
            "hello all\n",
            "hello all\n",
            "hello all\n",
            "hello all\n",
            "hello all\n",
            "hello all\n",
            "hello all\n",
            "hello all\n",
            "hello all\n",
            "hello all\n",
            "hello all\n",
            "hello all\n",
            "hello all\n",
            "hello all\n",
            "hello all\n",
            "hello all\n",
            "hello all\n",
            "hello all\n",
            "hello all\n",
            "hello all\n",
            "hello all\n",
            "hello all\n",
            "hello all\n",
            "hello all\n",
            "hello all\n",
            "hello all\n",
            "hello all\n",
            "hello all\n",
            "hello all\n",
            "hello all\n",
            "hello all\n",
            "hello all\n",
            "hello all\n",
            "hello all\n",
            "hello all\n",
            "hello all\n",
            "hello all\n",
            "hello all\n",
            "hello all\n",
            "hello all\n",
            "hello all\n",
            "hello all\n",
            "hello all\n",
            "hello all\n",
            "hello all\n",
            "hello all\n",
            "hello all\n",
            "hello all\n",
            "hello all\n",
            "hello all\n",
            "hello all\n",
            "hello all\n",
            "hello all\n",
            "hello all\n",
            "hello all\n",
            "hello all\n",
            "hello all\n",
            "hello all\n",
            "hello all\n",
            "hello all\n",
            "hello all\n",
            "hello all\n",
            "hello all\n",
            "hello all\n",
            "hello all\n",
            "hello all\n",
            "hello all\n",
            "hello all\n",
            "hello all\n",
            "hello all\n",
            "hello all\n",
            "hello all\n",
            "hello all\n",
            "hello all\n",
            "hello all\n",
            "hello all\n",
            "hello all\n",
            "hello all\n",
            "hello all\n",
            "hello all\n",
            "hello all\n",
            "hello all\n",
            "hello all\n",
            "hello all\n",
            "hello all\n",
            "hello all\n",
            "hello all\n",
            "hello all\n",
            "hello all\n",
            "hello all\n",
            "hello all\n",
            "hello all\n",
            "hello all\n",
            "hello all\n",
            "hello all\n",
            "hello all\n",
            "hello all\n",
            "hello all\n",
            "hello all\n",
            "hello all\n",
            "hello all\n",
            "hello all\n",
            "hello all\n",
            "hello all\n",
            "hello all\n",
            "hello all\n",
            "hello all\n",
            "hello all\n",
            "hello all\n",
            "hello all\n",
            "hello all\n",
            "hello all\n",
            "hello all\n",
            "hello all\n",
            "hello all\n",
            "hello all\n",
            "hello all\n",
            "hello all\n",
            "hello all\n",
            "hello all\n",
            "hello all\n",
            "hello all\n",
            "hello all\n",
            "hello all\n",
            "hello all\n",
            "hello all\n",
            "hello all\n",
            "hello all\n",
            "hello all\n",
            "hello all\n",
            "hello all\n",
            "hello all\n",
            "hello all\n",
            "hello all\n",
            "hello all\n",
            "hello all\n",
            "hello all\n",
            "hello all\n",
            "hello all\n",
            "hello all\n",
            "hello all\n",
            "hello all\n",
            "hello all\n",
            "hello all\n",
            "hello all\n",
            "hello all\n",
            "hello all\n",
            "hello all\n",
            "hello all\n",
            "hello all\n",
            "hello all\n",
            "hello all\n",
            "hello all\n",
            "hello all\n",
            "hello all\n",
            "hello all\n",
            "hello all\n",
            "hello all\n",
            "hello all\n",
            "hello all\n",
            "hello all\n",
            "hello all\n",
            "hello all\n",
            "hello all\n",
            "hello all\n",
            "hello all\n",
            "hello all\n",
            "hello all\n",
            "hello all\n",
            "hello all\n",
            "hello all\n",
            "hello all\n",
            "hello all\n",
            "hello all\n",
            "hello all\n",
            "hello all\n",
            "hello all\n",
            "hello all\n",
            "hello all\n",
            "hello all\n",
            "hello all\n",
            "hello all\n",
            "hello all\n",
            "hello all\n",
            "hello all\n",
            "hello all\n",
            "hello all\n",
            "hello all\n",
            "hello all\n",
            "hello all\n",
            "hello all\n",
            "hello all\n",
            "hello all\n",
            "hello all\n",
            "hello all\n",
            "hello all\n",
            "hello all\n",
            "hello all\n",
            "hello all\n",
            "hello all\n",
            "hello all\n",
            "hello all\n",
            "hello all\n",
            "hello all\n",
            "hello all\n",
            "hello all\n",
            "hello all\n",
            "hello all\n",
            "hello all\n",
            "hello all\n",
            "hello all\n",
            "hello all\n",
            "hello all\n",
            "hello all\n",
            "hello all\n",
            "hello all\n",
            "hello all\n",
            "hello all\n",
            "hello all\n",
            "hello all\n",
            "hello all\n",
            "hello all\n",
            "hello all\n",
            "hello all\n",
            "hello all\n",
            "hello all\n",
            "hello all\n",
            "hello all\n",
            "hello all\n",
            "hello all\n",
            "hello all\n",
            "hello all\n",
            "hello all\n",
            "hello all\n",
            "hello all\n",
            "hello all\n",
            "hello all\n",
            "hello all\n",
            "hello all\n",
            "hello all\n",
            "hello all\n",
            "hello all\n",
            "hello all\n",
            "hello all\n",
            "hello all\n",
            "hello all\n",
            "hello all\n",
            "hello all\n",
            "hello all\n",
            "hello all\n",
            "hello all\n",
            "hello all\n",
            "hello all\n",
            "hello all\n",
            "hello all\n",
            "hello all\n",
            "hello all\n",
            "hello all\n",
            "hello all\n",
            "hello all\n",
            "hello all\n",
            "hello all\n",
            "hello all\n",
            "hello all\n",
            "hello all\n",
            "hello all\n",
            "hello all\n",
            "hello all\n",
            "hello all\n",
            "hello all\n",
            "hello all\n",
            "hello all\n",
            "hello all\n",
            "hello all\n",
            "hello all\n",
            "hello all\n",
            "hello all\n",
            "hello all\n",
            "hello all\n",
            "hello all\n",
            "hello all\n",
            "hello all\n",
            "hello all\n",
            "hello all\n",
            "hello all\n",
            "hello all\n",
            "hello all\n",
            "hello all\n",
            "hello all\n",
            "hello all\n",
            "hello all\n",
            "hello all\n",
            "hello all\n",
            "hello all\n",
            "hello all\n",
            "hello all\n",
            "hello all\n",
            "hello all\n",
            "hello all\n",
            "hello all\n",
            "hello all\n",
            "hello all\n",
            "hello all\n",
            "hello all\n",
            "hello all\n",
            "hello all\n",
            "hello all\n",
            "hello all\n",
            "hello all\n",
            "hello all\n",
            "hello all\n",
            "hello all\n",
            "hello all\n",
            "hello all\n",
            "hello all\n",
            "hello all\n",
            "hello all\n",
            "hello all\n",
            "hello all\n",
            "hello all\n",
            "hello all\n",
            "hello all\n",
            "hello all\n",
            "hello all\n",
            "hello all\n",
            "hello all\n",
            "hello all\n",
            "hello all\n",
            "hello all\n",
            "hello all\n",
            "hello all\n",
            "hello all\n",
            "hello all\n",
            "hello all\n",
            "hello all\n",
            "hello all\n",
            "hello all\n",
            "hello all\n",
            "hello all\n",
            "hello all\n",
            "hello all\n",
            "hello all\n",
            "hello all\n",
            "hello all\n",
            "hello all\n",
            "hello all\n",
            "hello all\n",
            "hello all\n",
            "hello all\n",
            "hello all\n",
            "hello all\n",
            "hello all\n",
            "hello all\n",
            "hello all\n",
            "hello all\n",
            "hello all\n",
            "hello all\n",
            "hello all\n",
            "hello all\n",
            "hello all\n",
            "hello all\n",
            "hello all\n",
            "hello all\n",
            "hello all\n",
            "hello all\n",
            "hello all\n",
            "hello all\n",
            "hello all\n",
            "hello all\n",
            "hello all\n",
            "hello all\n",
            "hello all\n",
            "hello all\n",
            "hello all\n",
            "hello all\n",
            "hello all\n",
            "hello all\n",
            "hello all\n",
            "hello all\n",
            "hello all\n",
            "hello all\n",
            "hello all\n",
            "hello all\n",
            "hello all\n",
            "hello all\n",
            "hello all\n",
            "hello all\n",
            "hello all\n",
            "hello all\n",
            "hello all\n",
            "hello all\n",
            "hello all\n",
            "hello all\n",
            "hello all\n",
            "hello all\n",
            "hello all\n",
            "hello all\n",
            "hello all\n",
            "hello all\n",
            "hello all\n",
            "hello all\n",
            "hello all\n",
            "hello all\n",
            "hello all\n",
            "hello all\n",
            "hello all\n",
            "hello all\n",
            "hello all\n",
            "hello all\n",
            "hello all\n",
            "hello all\n",
            "hello all\n",
            "hello all\n",
            "hello all\n",
            "hello all\n",
            "hello all\n",
            "hello all\n",
            "hello all\n",
            "hello all\n",
            "hello all\n",
            "hello all\n",
            "hello all\n",
            "hello all\n",
            "hello all\n",
            "hello all\n",
            "hello all\n",
            "hello all\n",
            "hello all\n",
            "hello all\n",
            "hello all\n",
            "hello all\n",
            "hello all\n",
            "hello all\n",
            "hello all\n",
            "hello all\n",
            "hello all\n",
            "hello all\n"
          ]
        },
        {
          "ename": "RecursionError",
          "evalue": "maximum recursion depth exceeded while calling a Python object",
          "output_type": "error",
          "traceback": [
            "\u001b[0;31m---------------------------------------------------------------------------\u001b[0m",
            "\u001b[0;31mRecursionError\u001b[0m                            Traceback (most recent call last)",
            "\u001b[0;32m/tmp/ipython-input-2-584689261.py\u001b[0m in \u001b[0;36m<cell line: 0>\u001b[0;34m()\u001b[0m\n\u001b[1;32m      3\u001b[0m   \u001b[0mshow\u001b[0m\u001b[0;34m(\u001b[0m\u001b[0;34m)\u001b[0m\u001b[0;34m\u001b[0m\u001b[0;34m\u001b[0m\u001b[0m\n\u001b[1;32m      4\u001b[0m \u001b[0;34m\u001b[0m\u001b[0m\n\u001b[0;32m----> 5\u001b[0;31m \u001b[0mshow\u001b[0m\u001b[0;34m(\u001b[0m\u001b[0;34m)\u001b[0m\u001b[0;34m\u001b[0m\u001b[0;34m\u001b[0m\u001b[0m\n\u001b[0m",
            "\u001b[0;32m/tmp/ipython-input-2-584689261.py\u001b[0m in \u001b[0;36mshow\u001b[0;34m()\u001b[0m\n\u001b[1;32m      1\u001b[0m \u001b[0;32mdef\u001b[0m \u001b[0mshow\u001b[0m\u001b[0;34m(\u001b[0m\u001b[0;34m)\u001b[0m\u001b[0;34m:\u001b[0m\u001b[0;34m\u001b[0m\u001b[0;34m\u001b[0m\u001b[0m\n\u001b[1;32m      2\u001b[0m   \u001b[0mprint\u001b[0m\u001b[0;34m(\u001b[0m\u001b[0;34m\"hello all\"\u001b[0m\u001b[0;34m)\u001b[0m\u001b[0;34m\u001b[0m\u001b[0;34m\u001b[0m\u001b[0m\n\u001b[0;32m----> 3\u001b[0;31m   \u001b[0mshow\u001b[0m\u001b[0;34m(\u001b[0m\u001b[0;34m)\u001b[0m\u001b[0;34m\u001b[0m\u001b[0;34m\u001b[0m\u001b[0m\n\u001b[0m\u001b[1;32m      4\u001b[0m \u001b[0;34m\u001b[0m\u001b[0m\n\u001b[1;32m      5\u001b[0m \u001b[0mshow\u001b[0m\u001b[0;34m(\u001b[0m\u001b[0;34m)\u001b[0m\u001b[0;34m\u001b[0m\u001b[0;34m\u001b[0m\u001b[0m\n",
            "... last 1 frames repeated, from the frame below ...\n",
            "\u001b[0;32m/tmp/ipython-input-2-584689261.py\u001b[0m in \u001b[0;36mshow\u001b[0;34m()\u001b[0m\n\u001b[1;32m      1\u001b[0m \u001b[0;32mdef\u001b[0m \u001b[0mshow\u001b[0m\u001b[0;34m(\u001b[0m\u001b[0;34m)\u001b[0m\u001b[0;34m:\u001b[0m\u001b[0;34m\u001b[0m\u001b[0;34m\u001b[0m\u001b[0m\n\u001b[1;32m      2\u001b[0m   \u001b[0mprint\u001b[0m\u001b[0;34m(\u001b[0m\u001b[0;34m\"hello all\"\u001b[0m\u001b[0;34m)\u001b[0m\u001b[0;34m\u001b[0m\u001b[0;34m\u001b[0m\u001b[0m\n\u001b[0;32m----> 3\u001b[0;31m   \u001b[0mshow\u001b[0m\u001b[0;34m(\u001b[0m\u001b[0;34m)\u001b[0m\u001b[0;34m\u001b[0m\u001b[0;34m\u001b[0m\u001b[0m\n\u001b[0m\u001b[1;32m      4\u001b[0m \u001b[0;34m\u001b[0m\u001b[0m\n\u001b[1;32m      5\u001b[0m \u001b[0mshow\u001b[0m\u001b[0;34m(\u001b[0m\u001b[0;34m)\u001b[0m\u001b[0;34m\u001b[0m\u001b[0;34m\u001b[0m\u001b[0m\n",
            "\u001b[0;31mRecursionError\u001b[0m: maximum recursion depth exceeded while calling a Python object"
          ]
        }
      ],
      "source": [
        "def show():\n",
        "  print(\"hello all\")\n",
        "  show()\n",
        "\n",
        "show()"
      ]
    },
    {
      "cell_type": "code",
      "execution_count": null,
      "metadata": {
        "colab": {
          "base_uri": "https://localhost:8080/"
        },
        "id": "yLQRJrAsHOS5",
        "outputId": "9e4d6d4b-ba3d-47bf-feb1-2bffd2a7daa8"
      },
      "outputs": [
        {
          "name": "stdout",
          "output_type": "stream",
          "text": [
            "5\n",
            "4\n",
            "3\n",
            "2\n",
            "1\n"
          ]
        }
      ],
      "source": [
        "def show(n):\n",
        "  if n==0:\n",
        "    return\n",
        "  print(n)\n",
        "  show(n-1)\n",
        "\n",
        "show(5)"
      ]
    },
    {
      "cell_type": "code",
      "execution_count": null,
      "metadata": {
        "colab": {
          "base_uri": "https://localhost:8080/"
        },
        "id": "othSWZGNIdHC",
        "outputId": "6ee54e19-824a-4bdf-8b13-188275d13d41"
      },
      "outputs": [
        {
          "name": "stdout",
          "output_type": "stream",
          "text": [
            "1\n",
            "2\n",
            "3\n",
            "4\n",
            "5\n"
          ]
        }
      ],
      "source": [
        "def show(n):\n",
        "  if n==0:\n",
        "    return 1\n",
        "  show(n-1)\n",
        "  print(n)\n",
        "show(5)"
      ]
    },
    {
      "cell_type": "code",
      "execution_count": null,
      "metadata": {
        "colab": {
          "base_uri": "https://localhost:8080/"
        },
        "id": "R1qP1asuJJAi",
        "outputId": "3344ebac-7a3f-4081-cff6-e04b85f792fb"
      },
      "outputs": [
        {
          "data": {
            "text/plain": [
              "8"
            ]
          },
          "execution_count": 10,
          "metadata": {},
          "output_type": "execute_result"
        }
      ],
      "source": [
        "def pow1(a,b):\n",
        "  if b==0:\n",
        "    return 1\n",
        "  return a * pow1(a,b-1)\n",
        "\n",
        "pow1(2,3)\n",
        "\n",
        "\n",
        "\n",
        "\n"
      ]
    },
    {
      "cell_type": "code",
      "execution_count": null,
      "metadata": {
        "colab": {
          "base_uri": "https://localhost:8080/"
        },
        "id": "QR_ipm4cLBw_",
        "outputId": "edcd3a92-96bc-4d0b-9963-fdeba856f656"
      },
      "outputs": [
        {
          "data": {
            "text/plain": [
              "True"
            ]
          },
          "execution_count": 8,
          "metadata": {},
          "output_type": "execute_result"
        }
      ],
      "source": [
        " def show(n):\n",
        "  if n==0:\n",
        "    return True\n",
        "\n",
        "show(0)"
      ]
    },
    {
      "cell_type": "code",
      "execution_count": null,
      "metadata": {
        "colab": {
          "base_uri": "https://localhost:8080/"
        },
        "id": "5kLQNtvWMkR-",
        "outputId": "08222798-5edd-41ef-95c0-30474aeac830"
      },
      "outputs": [
        {
          "name": "stdout",
          "output_type": "stream",
          "text": [
            "120\n"
          ]
        }
      ],
      "source": [
        "n=5\n",
        "fact=1\n",
        "for i in range(1,n+1):\n",
        "  fact=fact*i\n",
        "print(fact)\n"
      ]
    },
    {
      "cell_type": "code",
      "execution_count": null,
      "metadata": {
        "colab": {
          "base_uri": "https://localhost:8080/"
        },
        "id": "IZ9dbeHAP-9G",
        "outputId": "c45c03ae-1885-4615-fd81-326a904054f4"
      },
      "outputs": [
        {
          "data": {
            "text/plain": [
              "120"
            ]
          },
          "execution_count": 12,
          "metadata": {},
          "output_type": "execute_result"
        }
      ],
      "source": [
        "def fact(n):\n",
        "  if n==1:\n",
        "    return 1\n",
        "  return n*fact(n-1)\n",
        "fact(5)"
      ]
    },
    {
      "cell_type": "code",
      "execution_count": null,
      "metadata": {
        "colab": {
          "base_uri": "https://localhost:8080/",
          "height": 180
        },
        "id": "f-ejqPDgQe12",
        "outputId": "b8c3597b-f0ea-4032-8bff-30607b9b9542"
      },
      "outputs": [
        {
          "ename": "TypeError",
          "evalue": "'int' object is not iterable",
          "output_type": "error",
          "traceback": [
            "\u001b[0;31m---------------------------------------------------------------------------\u001b[0m",
            "\u001b[0;31mTypeError\u001b[0m                                 Traceback (most recent call last)",
            "\u001b[0;32m/tmp/ipython-input-14-2723794202.py\u001b[0m in \u001b[0;36m<cell line: 0>\u001b[0;34m()\u001b[0m\n\u001b[1;32m      1\u001b[0m \u001b[0mn\u001b[0m\u001b[0;34m=\u001b[0m\u001b[0;36m1234\u001b[0m\u001b[0;34m\u001b[0m\u001b[0;34m\u001b[0m\u001b[0m\n\u001b[0;32m----> 2\u001b[0;31m \u001b[0ms\u001b[0m\u001b[0;34m=\u001b[0m\u001b[0mlist\u001b[0m\u001b[0;34m(\u001b[0m\u001b[0mn\u001b[0m\u001b[0;34m)\u001b[0m\u001b[0;34m\u001b[0m\u001b[0;34m\u001b[0m\u001b[0m\n\u001b[0m\u001b[1;32m      3\u001b[0m \u001b[0mprint\u001b[0m\u001b[0;34m(\u001b[0m\u001b[0mlen\u001b[0m\u001b[0;34m(\u001b[0m\u001b[0ms\u001b[0m\u001b[0;34m)\u001b[0m\u001b[0;34m)\u001b[0m\u001b[0;34m\u001b[0m\u001b[0;34m\u001b[0m\u001b[0m\n",
            "\u001b[0;31mTypeError\u001b[0m: 'int' object is not iterable"
          ]
        }
      ],
      "source": [
        "n=1234\n",
        "s=list(n)\n",
        "print(len(s))\n"
      ]
    },
    {
      "cell_type": "code",
      "execution_count": null,
      "metadata": {
        "colab": {
          "base_uri": "https://localhost:8080/"
        },
        "id": "KZsaPWS6Rmpn",
        "outputId": "537a2585-5776-4f9b-e5e4-54151b2e42c2"
      },
      "outputs": [
        {
          "data": {
            "text/plain": [
              "4"
            ]
          },
          "execution_count": 15,
          "metadata": {},
          "output_type": "execute_result"
        }
      ],
      "source": [
        "def cdigit(n):\n",
        "  if n==1:\n",
        "    return 1\n",
        "\n",
        "  return 1+cdigit(n//10)\n",
        "\n",
        "cdigit"
      ]
    },
    {
      "cell_type": "code",
      "execution_count": null,
      "metadata": {
        "colab": {
          "base_uri": "https://localhost:8080/"
        },
        "id": "wBdtqjMWXwZ5",
        "outputId": "eb48db48-13a9-45aa-ecbd-1e2b5edbe8e3"
      },
      "outputs": [
        {
          "name": "stdout",
          "output_type": "stream",
          "text": [
            "0 1 1 2 3 5 8 13 "
          ]
        }
      ],
      "source": [
        "def fibonacci(n):\n",
        "  a=0\n",
        "  b=1\n",
        "  # print(a,b,end=\" \")\n",
        "  for i in range(n):\n",
        "    print(a,end=\" \")\n",
        "    a,b=b,a+b\n",
        "fibonacci(8)"
      ]
    },
    {
      "cell_type": "code",
      "execution_count": null,
      "metadata": {
        "colab": {
          "base_uri": "https://localhost:8080/"
        },
        "id": "cFxQfqXAXwkr",
        "outputId": "117b39f7-d79b-498f-8d40-e16b6cefce13"
      },
      "outputs": [
        {
          "name": "stdout",
          "output_type": "stream",
          "text": [
            "value of a 20 value of b 10\n"
          ]
        }
      ],
      "source": [
        "a=10\n",
        "b=20\n",
        "a,b=b,a\n",
        "\n",
        "print(\"value of a\",a,\"value of b\",b)"
      ]
    },
    {
      "cell_type": "code",
      "execution_count": null,
      "metadata": {
        "colab": {
          "base_uri": "https://localhost:8080/"
        },
        "id": "MkNQzk6uX4M6",
        "outputId": "f5bb1cc8-ec68-43d1-dc76-e389c1cb0c0c"
      },
      "outputs": [
        {
          "data": {
            "text/plain": [
              "8"
            ]
          },
          "execution_count": 30,
          "metadata": {},
          "output_type": "execute_result"
        }
      ],
      "source": [
        "def fibonacci(n):\n",
        "  if n==0:\n",
        "    return 0\n",
        "  if n==1:\n",
        "    return 1\n",
        "  return fibonacci(n-1) +fibonacci(n-2)\n",
        "fibonacci(6)"
      ]
    },
    {
      "cell_type": "code",
      "execution_count": null,
      "metadata": {
        "colab": {
          "base_uri": "https://localhost:8080/",
          "height": 36
        },
        "id": "VL4_WVnsb_8E",
        "outputId": "d6fd7479-8003-416c-9083-3d828eef94ef"
      },
      "outputs": [
        {
          "data": {
            "application/vnd.google.colaboratory.intrinsic+json": {
              "type": "string"
            },
            "text/plain": [
              "'kifar'"
            ]
          },
          "execution_count": 3,
          "metadata": {},
          "output_type": "execute_result"
        }
      ],
      "source": [
        "s=\"rafik\"\n",
        "s[::-1]"
      ]
    },
    {
      "cell_type": "code",
      "execution_count": null,
      "metadata": {
        "colab": {
          "base_uri": "https://localhost:8080/"
        },
        "id": "Hbi9ZTFy7ItW",
        "outputId": "6202fa31-b05c-4c03-c508-44313f32adf7"
      },
      "outputs": [
        {
          "name": "stdout",
          "output_type": "stream",
          "text": [
            "kifar\n"
          ]
        }
      ],
      "source": [
        "s=\"rafik\"\n",
        "t=\"\"\n",
        "for i in range(len(s)-1,-1,-1):\n",
        "  t+=s[i]\n",
        "print(t)"
      ]
    },
    {
      "cell_type": "code",
      "execution_count": null,
      "metadata": {
        "colab": {
          "base_uri": "https://localhost:8080/",
          "height": 36
        },
        "id": "SgbNHJtL7jl9",
        "outputId": "6d925b7b-f2d2-4310-c1d1-b5de737a347a"
      },
      "outputs": [
        {
          "data": {
            "application/vnd.google.colaboratory.intrinsic+json": {
              "type": "string"
            },
            "text/plain": [
              "'kifar'"
            ]
          },
          "execution_count": 13,
          "metadata": {},
          "output_type": "execute_result"
        }
      ],
      "source": [
        "def reverse_str(s):\n",
        "  if len(s)==0:\n",
        "    return  s\n",
        "  return s[-1] + reverse_str(s[:-1])\n",
        "\n",
        "reverse_str(\"rafik\")"
      ]
    },
    {
      "cell_type": "code",
      "execution_count": null,
      "metadata": {
        "id": "PT4qJSC_8mFR"
      },
      "outputs": [],
      "source": [
        "method overriding:\n",
        "     inheritance:\n"
      ]
    },
    {
      "cell_type": "code",
      "execution_count": null,
      "metadata": {
        "colab": {
          "base_uri": "https://localhost:8080/"
        },
        "id": "lXj5c3Qr-Svl",
        "outputId": "8c10c3f3-8004-4961-aca2-5f410d127225"
      },
      "outputs": [
        {
          "name": "stdout",
          "output_type": "stream",
          "text": [
            "this is show function of class B\n",
            "this is show function of class A \n"
          ]
        }
      ],
      "source": [
        "class A:\n",
        "  def show(self):\n",
        "    print(\"this is show function of class A \")\n",
        "\n",
        "\n",
        "class B(A):\n",
        "  def show(self):\n",
        "\n",
        "    print(\"this is show function of class B\")\n",
        "    super().show()\n",
        "\n",
        "b=B()\n",
        "b.show()\n",
        "\n"
      ]
    },
    {
      "cell_type": "code",
      "execution_count": null,
      "metadata": {
        "colab": {
          "base_uri": "https://localhost:8080/"
        },
        "id": "2Vxd3qyd-ZNL",
        "outputId": "d4416fc4-5bb5-413b-f531-c2bac707df55"
      },
      "outputs": [
        {
          "name": "stdout",
          "output_type": "stream",
          "text": [
            "20\n"
          ]
        }
      ],
      "source": [
        "a=10\n",
        "a=20\n",
        "print(a)"
      ]
    },
    {
      "cell_type": "code",
      "execution_count": null,
      "metadata": {
        "colab": {
          "base_uri": "https://localhost:8080/"
        },
        "id": "vdcDsp0u-wTO",
        "outputId": "a8434922-8c28-40fa-a8af-a42377b01cbf"
      },
      "outputs": [
        {
          "name": "stdout",
          "output_type": "stream",
          "text": [
            "25\n",
            "6\n"
          ]
        }
      ],
      "source": [
        "class A:\n",
        "  # def add(self,a,b):\n",
        "  #   print(a+b)\n",
        "  def add(self,a,b,c=0):\n",
        "    print(a+b+c)\n",
        "\n",
        "\n",
        "a=A()\n",
        "a.add(12,13)\n",
        "a.add(1,2,3)\n"
      ]
    },
    {
      "cell_type": "code",
      "execution_count": null,
      "metadata": {
        "colab": {
          "base_uri": "https://localhost:8080/"
        },
        "id": "vvTCAlBKBEy5",
        "outputId": "5ddee96f-0a87-4a8f-ba66-28395edf7881"
      },
      "outputs": [
        {
          "name": "stdout",
          "output_type": "stream",
          "text": [
            "37\n",
            "36\n"
          ]
        }
      ],
      "source": [
        "class A:\n",
        "  # def __init__(self,a,b):\n",
        "  #   print(a+b)\n",
        "  def __init__(self,a,b,c=0):\n",
        "    print(a+b+c)\n",
        "\n",
        "\n",
        "a=A(10,27)\n",
        "obj=A(12,12,12)\n",
        "\n"
      ]
    },
    {
      "cell_type": "code",
      "execution_count": null,
      "metadata": {
        "colab": {
          "base_uri": "https://localhost:8080/"
        },
        "id": "BfaZkXcVBUPx",
        "outputId": "291b866b-3d77-435f-e20d-91c5373e9f2d"
      },
      "outputs": [
        {
          "name": "stdout",
          "output_type": "stream",
          "text": [
            "this is constructor of class A\n",
            "this is constructor of class B\n"
          ]
        }
      ],
      "source": [
        " class A:\n",
        "  def __init__(self):\n",
        "    print(\"this is constructor of class A\")\n",
        "\n",
        "class B(A):\n",
        "  def __init__(self):\n",
        "    super().__init__()\n",
        "    print(\"this is constructor of class B\")\n",
        "\n",
        "\n",
        "b=B()"
      ]
    },
    {
      "cell_type": "code",
      "execution_count": null,
      "metadata": {
        "colab": {
          "base_uri": "https://localhost:8080/"
        },
        "id": "GvJFofA6DmBm",
        "outputId": "e3873a06-5341-4b2f-d232-4701c3598c25"
      },
      "outputs": [
        {
          "name": "stdout",
          "output_type": "stream",
          "text": [
            "rafik shah <class 'int'>\n"
          ]
        },
        {
          "data": {
            "text/plain": [
              "int"
            ]
          },
          "execution_count": 31,
          "metadata": {},
          "output_type": "execute_result"
        }
      ],
      "source": [
        "class A:\n",
        "  def __init__(self):\n",
        "    self.name=\"rafik\"\n",
        "    self.sname=\"shah\"\n",
        "    self.age=23\n",
        "\n",
        "  def __str__(self):\n",
        "    print(self.name,self.sname,type(self.age))\n",
        "\n",
        "a=A()\n",
        "a.__str__()\n",
        "type(a.age)"
      ]
    },
    {
      "cell_type": "code",
      "execution_count": null,
      "metadata": {
        "colab": {
          "base_uri": "https://localhost:8080/"
        },
        "id": "jsrlVcPUEMsh",
        "outputId": "bc08efc0-737e-44f6-c62c-becb607f8b15"
      },
      "outputs": [
        {
          "name": "stdout",
          "output_type": "stream",
          "text": [
            "name of the student aryan\n"
          ]
        }
      ],
      "source": [
        "class Demo:\n",
        "  def __init__(self):\n",
        "    self.__name=\"\"   #public\n",
        "    self.__age=23        #protected\n",
        "    self.__salary=12345676543   #private\n",
        "\n",
        "  def set_method(self,name):  #setter\n",
        "    self.__name=name\n",
        "\n",
        "  def get_method(self): #getter\n",
        "    print(\"name of the student\",self.__name)\n",
        "\n",
        "d=Demo()\n",
        "d.set_method(\"aryan\")\n",
        "d.get_method()\n",
        "\n",
        "\n",
        "\n",
        "\n",
        "# print(d.name)\n",
        "# print(d._age) #still accessible but avoid\n",
        "# print(d._Demo__salary)"
      ]
    },
    {
      "cell_type": "code",
      "execution_count": null,
      "metadata": {
        "colab": {
          "base_uri": "https://localhost:8080/",
          "height": 215
        },
        "id": "BRlK5jW9FnWM",
        "outputId": "b02ef55e-c1ab-4f17-b3ca-3200f6730428"
      },
      "outputs": [
        {
          "ename": "TypeError",
          "evalue": "Can't instantiate abstract class multiplication with abstract method calculate",
          "output_type": "error",
          "traceback": [
            "\u001b[0;31m---------------------------------------------------------------------------\u001b[0m",
            "\u001b[0;31mTypeError\u001b[0m                                 Traceback (most recent call last)",
            "\u001b[0;32m/tmp/ipython-input-61-2707664298.py\u001b[0m in \u001b[0;36m<cell line: 0>\u001b[0;34m()\u001b[0m\n\u001b[1;32m     26\u001b[0m \u001b[0ma\u001b[0m\u001b[0;34m=\u001b[0m\u001b[0maddition\u001b[0m\u001b[0;34m(\u001b[0m\u001b[0;34m)\u001b[0m\u001b[0;34m\u001b[0m\u001b[0;34m\u001b[0m\u001b[0m\n\u001b[1;32m     27\u001b[0m \u001b[0ms\u001b[0m\u001b[0;34m=\u001b[0m\u001b[0msubstraction\u001b[0m\u001b[0;34m(\u001b[0m\u001b[0;34m)\u001b[0m\u001b[0;34m\u001b[0m\u001b[0;34m\u001b[0m\u001b[0m\n\u001b[0;32m---> 28\u001b[0;31m \u001b[0mm\u001b[0m\u001b[0;34m=\u001b[0m\u001b[0mmultiplication\u001b[0m\u001b[0;34m(\u001b[0m\u001b[0;34m)\u001b[0m\u001b[0;34m\u001b[0m\u001b[0;34m\u001b[0m\u001b[0m\n\u001b[0m\u001b[1;32m     29\u001b[0m \u001b[0;34m\u001b[0m\u001b[0m\n\u001b[1;32m     30\u001b[0m \u001b[0ma\u001b[0m\u001b[0;34m.\u001b[0m\u001b[0mcalculate\u001b[0m\u001b[0;34m(\u001b[0m\u001b[0;36m12\u001b[0m\u001b[0;34m,\u001b[0m\u001b[0;36m12\u001b[0m\u001b[0;34m)\u001b[0m\u001b[0;34m\u001b[0m\u001b[0;34m\u001b[0m\u001b[0m\n",
            "\u001b[0;31mTypeError\u001b[0m: Can't instantiate abstract class multiplication with abstract method calculate"
          ]
        }
      ],
      "source": [
        "from abc import ABC,abstractmethod\n",
        "\n",
        "class operation(ABC):  #abstract base class\n",
        "\n",
        "    @abstractmethod\n",
        "    def calculate(self):\n",
        "      pass\n",
        "\n",
        "class addition(operation):\n",
        "  def calculate(self,n1,n2):\n",
        "    print(f\"addition {n1+n2}\")\n",
        "\n",
        "\n",
        "\n",
        "class substraction(operation):\n",
        "  def calculate(self,n1,n2):\n",
        "    print(f\"substraction {n1-n2}\")\n",
        "\n",
        "\n",
        "\n",
        "class multiplication (operation):\n",
        "  def mul(self,n1,n2):\n",
        "    print(f\"substraction {n1-n2}\")\n",
        "\n",
        "\n",
        "a=addition()\n",
        "s=substraction()\n",
        "m=multiplication()\n",
        "\n",
        "a.calculate(12,12)\n",
        "s.calculate(26,13)\n",
        "m.mul(2,3)\n"
      ]
    },
    {
      "cell_type": "markdown",
      "metadata": {
        "id": "yfczkTrTOosI"
      },
      "source": []
    },
    {
      "cell_type": "code",
      "execution_count": null,
      "metadata": {
        "id": "ma0wwmAbLRpH"
      },
      "outputs": [],
      "source": []
    },
    {
      "cell_type": "markdown",
      "metadata": {
        "id": "CBaRPP4XOu-U"
      },
      "source": [
        "#banking system project"
      ]
    },
    {
      "cell_type": "markdown",
      "metadata": {
        "id": "jj-jJnFUOyqY"
      },
      "source": [
        "\n",
        "---\n",
        "\n",
        "# 📄 **Banking System Project – Class & Method Structure**\n",
        "\n",
        "## 🔹 **Class: `BankAccount`**\n",
        "\n",
        "* `__init__(self, account_number, account_holder, balance=0)`\n",
        "* `deposit(self, amount)`\n",
        "* `withdraw(self, amount)`\n",
        "* `display_balance(self)`\n",
        "\n",
        "---\n",
        "\n",
        "## 🔹 **Class: `SavingsAccount`** *(Inherits from `BankAccount`)*\n",
        "\n",
        "* `__init__(self, account_number, account_holder, balance=0)`\n",
        "* `withdraw(self, amount)` *(Overrides base class method)*\n",
        "\n",
        "---\n",
        "\n",
        "## 🔹 **Class: `CurrentAccount`** *(Inherits from `BankAccount`)*\n",
        "\n",
        "* `__init__(self, account_number, account_holder, balance=0)`\n",
        "* `withdraw(self, amount)` *(Overrides base class method)*\n",
        "\n",
        "---\n",
        "\n",
        "\n"
      ]
    },
    {
      "cell_type": "code",
      "execution_count": null,
      "metadata": {
        "colab": {
          "base_uri": "https://localhost:8080/"
        },
        "id": "stvKU1-HTIyi",
        "outputId": "62876da3-01c0-4d54-92ff-fd0231d41073"
      },
      "outputs": [
        {
          "name": "stdout",
          "output_type": "stream",
          "text": [
            "insufficient balance\n",
            "balance: 2000\n"
          ]
        }
      ],
      "source": [
        "class BankAccount:\n",
        "  def __init__(self,balance=0):\n",
        "    # self.account_number=account_number\n",
        "    # self.account_holder=account_holder\n",
        "    self.balance=balance\n",
        "  def deposit(self, amount):\n",
        "    if amount> 0:\n",
        "      self.balance=self.balance+amount\n",
        "\n",
        "  def withdraw(self, amount):\n",
        "    if self.balance>0:\n",
        "      self.balance=self.balance-amount\n",
        "    else:\n",
        "      print(\"insufficient balance\")\n",
        "\n",
        "  def display(self):\n",
        "    print(\"balance:\",self.balance)\n",
        "\n",
        "\n",
        "\n",
        "class SavingsAccount(BankAccount):\n",
        "  def __init__(self,balance):\n",
        "    super().__init__(balance)\n",
        "\n",
        "  def withdraw(self,amount):\n",
        "    if self.balance>amount:\n",
        "      self.balance-=amount\n",
        "    else:\n",
        "      print(\"insufficient balance\")\n",
        "\n",
        "\n",
        "b=BankAccount()\n",
        "# b.deposit(2000)\n",
        "# b.display()\n",
        "# b.withdraw(500)\n",
        "# b.display()\n",
        "\n",
        "s=SavingsAccount(2000)\n",
        "s.withdraw(2500)\n",
        "s.display()\n",
        "\n",
        "\n",
        "\n",
        "\n",
        "\n"
      ]
    },
    {
      "cell_type": "markdown",
      "metadata": {
        "id": "YqkNPZF5oYfs"
      },
      "source": [
        "#time complexity"
      ]
    },
    {
      "cell_type": "code",
      "execution_count": null,
      "metadata": {
        "colab": {
          "base_uri": "https://localhost:8080/"
        },
        "id": "HLJ7U4LBUrOG",
        "outputId": "b4673dea-c720-4be8-c328-b0563792c8d8"
      },
      "outputs": [
        {
          "name": "stdout",
          "output_type": "stream",
          "text": [
            "hello world\n",
            "hello all\n",
            "hello all\n",
            "hello all\n",
            "hello all\n"
          ]
        }
      ],
      "source": [
        "\n",
        "print(\"hello world\")   #O(5)\n",
        "print(\"hello all\")\n",
        "print(\"hello all\")\n",
        "print(\"hello all\")\n",
        "print(\"hello all\")"
      ]
    },
    {
      "cell_type": "code",
      "execution_count": null,
      "metadata": {
        "colab": {
          "base_uri": "https://localhost:8080/"
        },
        "id": "MbRCCk1PpQFS",
        "outputId": "d022d956-a62d-41da-e74d-ffe024c9bc9a"
      },
      "outputs": [
        {
          "name": "stdout",
          "output_type": "stream",
          "text": [
            "true\n"
          ]
        }
      ],
      "source": [
        "if 2>1:\n",
        "  print(\"true\")\n",
        "else:\n",
        "  print(\"false\")"
      ]
    },
    {
      "cell_type": "code",
      "execution_count": null,
      "metadata": {
        "id": "cB_hyuaBoivn"
      },
      "outputs": [],
      "source": [
        "O(1): constant\n",
        "O(n) : linear\n",
        "O(n)^2:quadratic\n",
        "nlogn : logarithmic"
      ]
    },
    {
      "cell_type": "code",
      "execution_count": null,
      "metadata": {
        "colab": {
          "base_uri": "https://localhost:8080/"
        },
        "id": "wmJsD7CEphzW",
        "outputId": "942616d1-664b-4260-f195-a02be77ca5dd"
      },
      "outputs": [
        {
          "name": "stdout",
          "output_type": "stream",
          "text": [
            "hello all\n",
            "hello all\n",
            "hello all\n",
            "hello all\n",
            "hello all\n",
            "hello all\n",
            "hello all\n",
            "hello all\n",
            "hello all\n",
            "hello all\n",
            "hello all\n",
            "hello all\n",
            "hello all\n",
            "hello all\n",
            "hello all\n",
            "hello all\n",
            "hello all\n",
            "hello all\n",
            "hello all\n",
            "hello all\n",
            "hello all\n",
            "hello all\n",
            "hello all\n",
            "hello all\n",
            "hello all\n",
            "hello all\n",
            "hello all\n",
            "hello all\n",
            "hello all\n",
            "hello all\n",
            "hello all\n",
            "hello all\n",
            "hello all\n",
            "hello all\n",
            "hello all\n",
            "hello all\n",
            "hello all\n",
            "hello all\n",
            "hello all\n",
            "hello all\n",
            "hello all\n",
            "hello all\n",
            "hello all\n",
            "hello all\n",
            "hello all\n",
            "hello all\n",
            "hello all\n",
            "hello all\n",
            "hello all\n",
            "hello all\n",
            "hello all\n",
            "hello all\n",
            "hello all\n",
            "hello all\n",
            "hello all\n",
            "hello all\n",
            "hello all\n",
            "hello all\n",
            "hello all\n",
            "hello all\n",
            "hello all\n",
            "hello all\n",
            "hello all\n",
            "hello all\n",
            "hello all\n",
            "hello all\n",
            "hello all\n",
            "hello all\n",
            "hello all\n",
            "hello all\n",
            "hello all\n",
            "hello all\n",
            "hello all\n",
            "hello all\n",
            "hello all\n",
            "hello all\n",
            "hello all\n",
            "hello all\n",
            "hello all\n",
            "hello all\n",
            "hello all\n",
            "hello all\n",
            "hello all\n",
            "hello all\n",
            "hello all\n",
            "hello all\n",
            "hello all\n",
            "hello all\n",
            "hello all\n",
            "hello all\n",
            "hello all\n",
            "hello all\n",
            "hello all\n",
            "hello all\n",
            "hello all\n",
            "hello all\n",
            "hello all\n",
            "hello all\n",
            "hello all\n",
            "hello all\n",
            "leave all\n",
            "leave all\n",
            "leave all\n",
            "leave all\n",
            "leave all\n",
            "leave all\n",
            "leave all\n",
            "leave all\n",
            "leave all\n",
            "leave all\n",
            "leave all\n",
            "leave all\n",
            "leave all\n",
            "leave all\n",
            "leave all\n",
            "leave all\n",
            "leave all\n",
            "leave all\n",
            "leave all\n",
            "leave all\n",
            "leave all\n",
            "leave all\n",
            "leave all\n",
            "leave all\n",
            "leave all\n",
            "leave all\n",
            "leave all\n",
            "leave all\n",
            "leave all\n",
            "leave all\n",
            "leave all\n",
            "leave all\n",
            "leave all\n",
            "leave all\n",
            "leave all\n",
            "leave all\n",
            "leave all\n",
            "leave all\n",
            "leave all\n",
            "leave all\n",
            "leave all\n",
            "leave all\n",
            "leave all\n",
            "leave all\n",
            "leave all\n",
            "leave all\n",
            "leave all\n",
            "leave all\n",
            "leave all\n",
            "leave all\n",
            "leave all\n",
            "leave all\n",
            "leave all\n",
            "leave all\n",
            "leave all\n",
            "leave all\n",
            "leave all\n",
            "leave all\n",
            "leave all\n",
            "leave all\n",
            "leave all\n",
            "leave all\n",
            "leave all\n",
            "leave all\n",
            "leave all\n",
            "leave all\n",
            "leave all\n",
            "leave all\n",
            "leave all\n",
            "leave all\n",
            "leave all\n",
            "leave all\n",
            "leave all\n",
            "leave all\n",
            "leave all\n",
            "leave all\n",
            "leave all\n",
            "leave all\n",
            "leave all\n",
            "leave all\n",
            "leave all\n",
            "leave all\n",
            "leave all\n",
            "leave all\n",
            "leave all\n",
            "leave all\n",
            "leave all\n",
            "leave all\n",
            "leave all\n",
            "leave all\n",
            "leave all\n",
            "leave all\n",
            "leave all\n",
            "leave all\n",
            "leave all\n",
            "leave all\n",
            "leave all\n",
            "leave all\n",
            "leave all\n",
            "leave all\n"
          ]
        }
      ],
      "source": [
        "n=100\n",
        "for i in range(n):   #O(n)\n",
        "  print(\"hello all\")\n",
        "\n",
        "for j in range(n):  #O(n)\n",
        "  print(\"leave all\")\n",
        "\n",
        "                       #O(n)+O(n)=O(2n)  #drop constant ----> O(n)"
      ]
    },
    {
      "cell_type": "code",
      "execution_count": null,
      "metadata": {
        "colab": {
          "base_uri": "https://localhost:8080/"
        },
        "id": "sNvroAAzqRhQ",
        "outputId": "de09d591-9e30-4586-a02c-1fff85c25cfc"
      },
      "outputs": [
        {
          "name": "stdout",
          "output_type": "stream",
          "text": [
            "pratham\n",
            "pratham\n",
            "pratham\n",
            "pratham\n",
            "pratham\n",
            "pratham\n",
            "pratham\n",
            "pratham\n",
            "pratham\n",
            "pratham\n",
            "aaman\n",
            "aaman\n",
            "aaman\n",
            "aaman\n",
            "aaman\n"
          ]
        }
      ],
      "source": [
        "n=10\n",
        "m=5\n",
        "for i in range(n):   #O(n)\n",
        "  print(\"pratham\")\n",
        "\n",
        "for j in range(m):  #O(m)\n",
        "  print(\"aaman\")\n",
        "\n",
        "#O(n)+O(m)=O(n+m)"
      ]
    },
    {
      "cell_type": "code",
      "execution_count": null,
      "metadata": {
        "id": "6oFzTQBppnCr"
      },
      "outputs": [],
      "source": [
        "# 1\n",
        "# 1 2\n",
        "# 1 2 3\n",
        "# 1 2 3 4\n",
        "# 1 2 3 4 5\n",
        "n=5\n",
        "for i in range(n):   #5\n",
        "  for j in range(m):\n",
        "    print(j)\n",
        "\n",
        "# o(n)*O(n)=O(n^2)   : 5n*3n\n",
        "                   =n^2\n",
        "(n)*O(m)=O(n*m)\n"
      ]
    },
    {
      "cell_type": "code",
      "execution_count": null,
      "metadata": {
        "id": "xy9mU3cOuOOo"
      },
      "outputs": [],
      "source": []
    },
    {
      "cell_type": "code",
      "execution_count": null,
      "metadata": {
        "colab": {
          "base_uri": "https://localhost:8080/"
        },
        "id": "MDsUI1ziuO0_",
        "outputId": "6b08590e-5d86-412b-a693-c9e3fc61bf16"
      },
      "outputs": [
        {
          "name": "stdout",
          "output_type": "stream",
          "text": [
            "1 \n",
            "1 2 \n",
            "1 2 3 \n",
            "1 2 3 4 \n",
            "1 2 3 4 5 \n"
          ]
        }
      ],
      "source": [
        "for i in range(1,6):\n",
        "  for j in range(1,i+1):\n",
        "    print(j,end=\" \")\n",
        "  print()\n",
        "\n",
        "\n",
        "\n",
        "# 1\n",
        "# 1 2\n",
        "# 1 2 3\n",
        "# 1 2 3 4\n",
        "# 1 2 3 4 5"
      ]
    },
    {
      "cell_type": "code",
      "execution_count": null,
      "metadata": {
        "colab": {
          "base_uri": "https://localhost:8080/"
        },
        "id": "D54ZsbFnunGn",
        "outputId": "c581e402-4ac3-471b-d9d5-151dbdade7ca"
      },
      "outputs": [
        {
          "name": "stdout",
          "output_type": "stream",
          "text": [
            "1 2 3 4 5 \n",
            "1 2 3 4 \n",
            "1 2 3 \n",
            "1 2 \n",
            "1 \n"
          ]
        }
      ],
      "source": [
        "# 1 2 3 4 5\n",
        "# 1 2 3 4\n",
        "# 1 2 3\n",
        "# 1 2\n",
        "# 1\n",
        "for i in range(6,1,-1):\n",
        "  for j in range(1,i):\n",
        "    print(j,end=\" \")\n",
        "  print()\n"
      ]
    },
    {
      "cell_type": "code",
      "execution_count": null,
      "metadata": {
        "colab": {
          "base_uri": "https://localhost:8080/"
        },
        "id": "AfGcAcjRx3Hl",
        "outputId": "ffda876b-f71a-4f31-ea1a-45c3946a9add"
      },
      "outputs": [
        {
          "name": "stdout",
          "output_type": "stream",
          "text": [
            "6\n",
            "5\n",
            "4\n",
            "3\n",
            "2\n"
          ]
        }
      ],
      "source": [
        "for i in range(6,1,-1):\n",
        "  print(i)"
      ]
    },
    {
      "cell_type": "code",
      "execution_count": null,
      "metadata": {
        "colab": {
          "base_uri": "https://localhost:8080/"
        },
        "id": "20j0MFcbyEnM",
        "outputId": "a7f24162-7c00-41b3-97a9-01001e74f536"
      },
      "outputs": [
        {
          "name": "stdout",
          "output_type": "stream",
          "text": [
            "5 4 3 2 1 \n",
            "5 4 3 2 \n",
            "5 4 3 \n",
            "5 4 \n",
            "5 \n",
            "\n"
          ]
        }
      ],
      "source": [
        "# 5 4 3 2 1\n",
        "# 5 4 3 2\n",
        "# 5 4 3\n",
        "# 5 4\n",
        "# 5\n",
        "for i in range(0,6):\n",
        "  for j in  range(5,i,-1):\n",
        "    print(j,end=\" \")\n",
        "  print()"
      ]
    },
    {
      "cell_type": "code",
      "execution_count": null,
      "metadata": {
        "colab": {
          "base_uri": "https://localhost:8080/",
          "height": 36
        },
        "id": "2ueTX80Yz4PK",
        "outputId": "555c4073-ed78-4cad-8109-c0271c12c2b6"
      },
      "outputs": [
        {
          "data": {
            "application/vnd.google.colaboratory.intrinsic+json": {
              "type": "string"
            },
            "text/plain": [
              "'godgodgodgodgod'"
            ]
          },
          "execution_count": 21,
          "metadata": {},
          "output_type": "execute_result"
        }
      ],
      "source": [
        "# *\n",
        "# * *\n",
        "# * * *\n",
        "# * * * *\n",
        "# * * * * *\n",
        "\n",
        "\"god\"*5"
      ]
    },
    {
      "cell_type": "code",
      "execution_count": null,
      "metadata": {
        "colab": {
          "base_uri": "https://localhost:8080/"
        },
        "id": "6KSZbi900yUN",
        "outputId": "e4908248-0600-479b-9fb2-355df363ed72"
      },
      "outputs": [
        {
          "name": "stdout",
          "output_type": "stream",
          "text": [
            "* \n",
            "* * \n",
            "* * * \n",
            "* * * * \n",
            "* * * * * \n"
          ]
        }
      ],
      "source": [
        "for i in range(1,6):\n",
        "  print(i*\"* \")"
      ]
    },
    {
      "cell_type": "code",
      "execution_count": null,
      "metadata": {
        "colab": {
          "base_uri": "https://localhost:8080/"
        },
        "id": "y0sKlfzA06oj",
        "outputId": "b001efd6-8538-4d46-c407-8f2e7e9859a4"
      },
      "outputs": [
        {
          "name": "stdout",
          "output_type": "stream",
          "text": [
            "1 \n",
            "1 0 \n",
            "1 0 1 \n",
            "1 0 1 0 \n",
            "1 0 1 0 1 \n"
          ]
        }
      ],
      "source": [
        "# 1\n",
        "# 1 0\n",
        "# 1 0 1\n",
        "# 1 0 1 0\n",
        "# 1 0 1 0 1\n",
        "for i in range(1,6):\n",
        "  for j in range(1,i+1):\n",
        "    print(j%2,end=\" \")\n",
        "  print()"
      ]
    },
    {
      "cell_type": "code",
      "execution_count": null,
      "metadata": {
        "colab": {
          "base_uri": "https://localhost:8080/"
        },
        "id": "1z1FCHe6GFX0",
        "outputId": "0e712743-594b-48c2-b547-3a0ce4f51654"
      },
      "outputs": [
        {
          "name": "stdout",
          "output_type": "stream",
          "text": [
            "1 \n",
            "0 0 \n",
            "1 1 1 \n",
            "0 0 0 0 \n",
            "1 1 1 1 1 \n"
          ]
        }
      ],
      "source": [
        "# 1\n",
        "# 0 0\n",
        "# 1 1 1\n",
        "# 0 0 0 0\n",
        "# 1 1 1 1 1\n",
        "for i in range(1,6):\n",
        "  for j in range(1,i+1):\n",
        "    print(i%2,end=\" \")\n",
        "  print()"
      ]
    },
    {
      "cell_type": "markdown",
      "metadata": {
        "id": "bi3geQEcHtzW"
      },
      "source": [
        "#searching algorithm"
      ]
    },
    {
      "cell_type": "code",
      "execution_count": null,
      "metadata": {
        "id": "MWQwZB40HS2B"
      },
      "outputs": [],
      "source": [
        "#linear seach\n",
        "#binary search"
      ]
    },
    {
      "cell_type": "code",
      "execution_count": null,
      "metadata": {
        "colab": {
          "base_uri": "https://localhost:8080/"
        },
        "id": "FL-W2kHnH5pv",
        "outputId": "194a0d10-bc5b-405b-f7c3-623451279685"
      },
      "outputs": [
        {
          "name": "stdout",
          "output_type": "stream",
          "text": [
            "enter any key to find9\n",
            "not found\n",
            "not found\n",
            "not found\n",
            "not found\n",
            "element found at index 4\n",
            "not found\n",
            "not found\n"
          ]
        }
      ],
      "source": [
        "def linear_search():\n",
        "  arr=[1,4,5,7,9,10,50]\n",
        "  key=int(input(\"enter any key to find\"))\n",
        "  for i in range(len(arr)):\n",
        "    if arr[i]==key:\n",
        "      print(f\"element found at index {i}\")\n",
        "    else:\n",
        "      print(\"not found\")\n",
        "linear_search()"
      ]
    },
    {
      "cell_type": "code",
      "execution_count": null,
      "metadata": {
        "colab": {
          "base_uri": "https://localhost:8080/"
        },
        "id": "uSCpBhJKH9i1",
        "outputId": "a98ac8b3-d86f-4f8a-d412-3f57b3a15b7f"
      },
      "outputs": [
        {
          "name": "stdout",
          "output_type": "stream",
          "text": [
            "enter any key to find0\n",
            "not found\n"
          ]
        }
      ],
      "source": [
        "def linear_search():\n",
        "  arr=[1,4,5,7,9,10,50]\n",
        "  key=int(input(\"enter any key to find\"))\n",
        "  for i in range(len(arr)):\n",
        "    if arr[i]==key:\n",
        "      return i\n",
        "      break\n",
        "  return -1\n",
        "r=linear_search()\n",
        "if r==-1:\n",
        "  print(\"not found\")\n",
        "else:\n",
        "  print(f\"element found at index {r}\")"
      ]
    },
    {
      "cell_type": "code",
      "execution_count": null,
      "metadata": {
        "colab": {
          "base_uri": "https://localhost:8080/"
        },
        "id": "MSYdBNS1J9wk",
        "outputId": "940b4733-cdf2-43e2-b01b-7ef9c67f7bb0"
      },
      "outputs": [
        {
          "name": "stdout",
          "output_type": "stream",
          "text": [
            "3\n",
            "[1, 2, 3, 6, 8, 9, 10]\n"
          ]
        }
      ],
      "source": [
        "arr=[1, 2, 3, 6, 8, 9, 10]\n",
        "# arr=sorted(arr)\n",
        "low=0\n",
        "high=len(arr)-1\n",
        "mid=(low+high)//2\n",
        "print(mid)\n",
        "print(arr)"
      ]
    },
    {
      "cell_type": "code",
      "execution_count": null,
      "metadata": {
        "colab": {
          "base_uri": "https://localhost:8080/"
        },
        "id": "9ygUA9TELSTU",
        "outputId": "71d197dc-3631-45b1-ef09-57a0ba5ca3f8"
      },
      "outputs": [
        {
          "name": "stdout",
          "output_type": "stream",
          "text": [
            "enter any key2\n",
            "1\n"
          ]
        }
      ],
      "source": [
        "def binarySearch(arr,key):\n",
        "  low=0\n",
        "  high=len(arr)-1\n",
        "\n",
        "  while low<=high:\n",
        "    mid=(low+high)//2\n",
        "    if arr[mid]==key:\n",
        "      return mid\n",
        "    elif key < arr[mid]:\n",
        "      high=mid-1\n",
        "    else:\n",
        "      low=mid+1\n",
        "  return -1\n",
        "arr=[1,2,3,4,5,6,7,8]\n",
        "\n",
        "key=int(input(\"enter any key\"))\n",
        "r=binarySearch(arr,key)\n",
        "print(r)"
      ]
    },
    {
      "cell_type": "code",
      "execution_count": null,
      "metadata": {
        "colab": {
          "base_uri": "https://localhost:8080/"
        },
        "id": "rHAyzAKqPHGy",
        "outputId": "c0394396-2ccc-437d-dc15-248c551451c9"
      },
      "outputs": [
        {
          "name": "stdout",
          "output_type": "stream",
          "text": [
            "4\n"
          ]
        }
      ],
      "source": [
        "def binarySearch(arr,key,low,high):\n",
        "  if low>high:\n",
        "    return -1\n",
        "\n",
        "  mid=(low+high)//2\n",
        "  if arr[mid]==key:\n",
        "    return mid\n",
        "  elif key<arr[mid]:\n",
        "    return binarySearch(arr,key,low,mid-1)\n",
        "  else:\n",
        "    return binarySearch(arr,key,mid+1,high)\n",
        "\n",
        "\n",
        "arr=[1,2,3,4,5,6,7,8]\n",
        "low=0\n",
        "high=len(arr)-1\n",
        "r=binarySearch(arr,5,low,high)\n",
        "print(r)"
      ]
    },
    {
      "cell_type": "code",
      "execution_count": null,
      "metadata": {
        "colab": {
          "base_uri": "https://localhost:8080/",
          "height": 106
        },
        "id": "VCd8fR27T8bl",
        "outputId": "6eec6aea-f948-4b5e-bc0f-6fd43c2805e6"
      },
      "outputs": [
        {
          "ename": "SyntaxError",
          "evalue": "invalid syntax (ipython-input-7-4017767066.py, line 1)",
          "output_type": "error",
          "traceback": [
            "\u001b[0;36m  File \u001b[0;32m\"/tmp/ipython-input-7-4017767066.py\"\u001b[0;36m, line \u001b[0;32m1\u001b[0m\n\u001b[0;31m    age=\u001b[0m\n\u001b[0m        ^\u001b[0m\n\u001b[0;31mSyntaxError\u001b[0m\u001b[0;31m:\u001b[0m invalid syntax\n"
          ]
        }
      ],
      "source": [
        "age=\n",
        "print(age)"
      ]
    },
    {
      "cell_type": "code",
      "execution_count": null,
      "metadata": {
        "colab": {
          "base_uri": "https://localhost:8080/",
          "height": 106
        },
        "id": "6SmIiqBdbxgy",
        "outputId": "159f24cc-f4ce-4291-a5a7-a8125174d28d"
      },
      "outputs": [
        {
          "ename": "IndentationError",
          "evalue": "expected an indented block after 'if' statement on line 1 (ipython-input-10-2021782371.py, line 2)",
          "output_type": "error",
          "traceback": [
            "\u001b[0;36m  File \u001b[0;32m\"/tmp/ipython-input-10-2021782371.py\"\u001b[0;36m, line \u001b[0;32m2\u001b[0m\n\u001b[0;31m    print(True)\u001b[0m\n\u001b[0m    ^\u001b[0m\n\u001b[0;31mIndentationError\u001b[0m\u001b[0;31m:\u001b[0m expected an indented block after 'if' statement on line 1\n"
          ]
        }
      ],
      "source": [
        "if 5==5:\n",
        "print(True)"
      ]
    },
    {
      "cell_type": "code",
      "execution_count": null,
      "metadata": {
        "colab": {
          "base_uri": "https://localhost:8080/",
          "height": 176
        },
        "id": "E3NGFmxLb7dZ",
        "outputId": "f89d561d-b7e4-421e-dba6-4916d972e4a5"
      },
      "outputs": [
        {
          "ename": "ZeroDivisionError",
          "evalue": "division by zero",
          "output_type": "error",
          "traceback": [
            "\u001b[0;31m---------------------------------------------------------------------------\u001b[0m",
            "\u001b[0;31mZeroDivisionError\u001b[0m                         Traceback (most recent call last)",
            "\u001b[0;32m/tmp/ipython-input-11-3771479761.py\u001b[0m in \u001b[0;36m<cell line: 0>\u001b[0;34m()\u001b[0m\n\u001b[1;32m      1\u001b[0m \u001b[0ma\u001b[0m\u001b[0;34m=\u001b[0m\u001b[0;36m10\u001b[0m\u001b[0;34m\u001b[0m\u001b[0;34m\u001b[0m\u001b[0m\n\u001b[1;32m      2\u001b[0m \u001b[0mb\u001b[0m\u001b[0;34m=\u001b[0m\u001b[0;36m0\u001b[0m\u001b[0;34m\u001b[0m\u001b[0;34m\u001b[0m\u001b[0m\n\u001b[0;32m----> 3\u001b[0;31m \u001b[0ma\u001b[0m\u001b[0;34m/\u001b[0m\u001b[0mb\u001b[0m\u001b[0;34m\u001b[0m\u001b[0;34m\u001b[0m\u001b[0m\n\u001b[0m",
            "\u001b[0;31mZeroDivisionError\u001b[0m: division by zero"
          ]
        }
      ],
      "source": [
        "a=10\n",
        "b=0\n",
        "a/b"
      ]
    },
    {
      "cell_type": "code",
      "execution_count": null,
      "metadata": {
        "colab": {
          "base_uri": "https://localhost:8080/",
          "height": 141
        },
        "id": "yZKC9cNFcJnW",
        "outputId": "de326f2e-408c-4820-c0df-a9e38bc20767"
      },
      "outputs": [
        {
          "ename": "NameError",
          "evalue": "name 'k' is not defined",
          "output_type": "error",
          "traceback": [
            "\u001b[0;31m---------------------------------------------------------------------------\u001b[0m",
            "\u001b[0;31mNameError\u001b[0m                                 Traceback (most recent call last)",
            "\u001b[0;32m/tmp/ipython-input-12-1791903262.py\u001b[0m in \u001b[0;36m<cell line: 0>\u001b[0;34m()\u001b[0m\n\u001b[0;32m----> 1\u001b[0;31m \u001b[0mprint\u001b[0m\u001b[0;34m(\u001b[0m\u001b[0mk\u001b[0m\u001b[0;34m)\u001b[0m\u001b[0;34m\u001b[0m\u001b[0;34m\u001b[0m\u001b[0m\n\u001b[0m",
            "\u001b[0;31mNameError\u001b[0m: name 'k' is not defined"
          ]
        }
      ],
      "source": [
        "print(k)"
      ]
    },
    {
      "cell_type": "code",
      "execution_count": null,
      "metadata": {
        "id": "VcrYLdFMcP1F"
      },
      "outputs": [],
      "source": [
        "try:\n",
        "  #risky code\n",
        "except:\n",
        "  #msg afer error"
      ]
    },
    {
      "cell_type": "code",
      "execution_count": null,
      "metadata": {
        "colab": {
          "base_uri": "https://localhost:8080/",
          "height": 106
        },
        "id": "59fZFaEociGU",
        "outputId": "e90e70f8-a973-480a-f500-d7147673bb85"
      },
      "outputs": [
        {
          "ename": "SyntaxError",
          "evalue": "expected ':' (ipython-input-28-2114831545.py, line 6)",
          "output_type": "error",
          "traceback": [
            "\u001b[0;36m  File \u001b[0;32m\"/tmp/ipython-input-28-2114831545.py\"\u001b[0;36m, line \u001b[0;32m6\u001b[0m\n\u001b[0;31m    if c==0\u001b[0m\n\u001b[0m           ^\u001b[0m\n\u001b[0;31mSyntaxError\u001b[0m\u001b[0;31m:\u001b[0m expected ':'\n"
          ]
        }
      ],
      "source": [
        "try :\n",
        "  a=int(input(\"enter the number1\"))\n",
        "  b=int(input(\"enter the value of b\"))\n",
        "  c=a/b\n",
        "  print(\"division\",c)\n",
        "  if c==0\n",
        "      print(True)\n",
        "except NameError :\n",
        "  print(\"bhai sahi variable ko define kr\")\n",
        "except ZeroDivisionError:\n",
        "  print(\"zero division error\")\n",
        "except SyntaxError:\n",
        "  print(\"syntax error\")"
      ]
    },
    {
      "cell_type": "code",
      "execution_count": null,
      "metadata": {
        "colab": {
          "base_uri": "https://localhost:8080/"
        },
        "id": "mSSA4NaVcx10",
        "outputId": "99eac12d-2108-42d4-8d8f-0feef10afcdb"
      },
      "outputs": [
        {
          "name": "stdout",
          "output_type": "stream",
          "text": [
            "Caught a SyntaxError: Check your code syntax.\n",
            "Caught an IndentationError: Check code indentation.\n",
            "Caught a NameError: The variable is not defined.\n",
            "Caught a TypeError: Mismatched data types in operation.\n",
            "Caught an IndexError: List index is out of range.\n",
            "Caught a KeyError: The dictionary key does not exist.\n",
            "Caught a ValueError: Invalid literal for integer conversion.\n",
            "Caught an AttributeError: Invalid attribute for the object.\n",
            "Caught a ZeroDivisionError: Cannot divide by zero.\n",
            "Caught a FileNotFoundError: File does not exist.\n"
          ]
        }
      ],
      "source": [
        "# Sample code demonstrating exception handling for various error types.\n",
        "\n",
        "def handle_errors():\n",
        "    try:\n",
        "        # 1. Syntax Error (Caught at runtime in specific cases)\n",
        "        exec(\"if True print('Hello')\")  # Deliberate syntax error\n",
        "\n",
        "    except SyntaxError:\n",
        "        print(\"Caught a SyntaxError: Check your code syntax.\")\n",
        "\n",
        "    try:\n",
        "        # 2. Indentation Error (Handled only if it appears in a dynamically executed code)\n",
        "        exec(\"def my_func():\\nprint('Hello')\")  # Improper indentation\n",
        "\n",
        "    except IndentationError:\n",
        "        print(\"Caught an IndentationError: Check code indentation.\")\n",
        "\n",
        "    try:\n",
        "        # 3. Name Error\n",
        "        print(value)  # 'value' is not defined\n",
        "\n",
        "    except NameError:\n",
        "        print(\"Caught a NameError: The variable is not defined.\")\n",
        "\n",
        "    try:\n",
        "        # 4. Type Error\n",
        "        result = \"hello\" + 5  # Cannot add string and integer\n",
        "\n",
        "    except TypeError:\n",
        "        print(\"Caught a TypeError: Mismatched data types in operation.\")\n",
        "\n",
        "    try:\n",
        "        # 5. Index Error\n",
        "        numbers = [1, 2, 3]\n",
        "        print(numbers[5])  # Index 5 is out of range\n",
        "\n",
        "    except IndexError:\n",
        "        print(\"Caught an IndexError: List index is out of range.\")\n",
        "\n",
        "    try:\n",
        "        # 6. Key Error\n",
        "        my_dict = {\"name\": \"Alice\"}\n",
        "        print(my_dict[\"age\"])  # 'age' key does not exist\n",
        "\n",
        "    except KeyError:\n",
        "        print(\"Caught a KeyError: The dictionary key does not exist.\")\n",
        "\n",
        "    try:\n",
        "        # 7. Value Error\n",
        "        number = int(\"hello\")  # Cannot convert non-numeric string to integer\n",
        "\n",
        "    except ValueError:\n",
        "        print(\"Caught a ValueError: Invalid literal for integer conversion.\")\n",
        "\n",
        "    try:\n",
        "        # 8. Attribute Error\n",
        "        my_list = [1, 2, 3]\n",
        "        my_list.push(4)  # 'push' is not a method for list\n",
        "\n",
        "    except AttributeError:\n",
        "        print(\"Caught an AttributeError: Invalid attribute for the object.\")\n",
        "\n",
        "    try:\n",
        "        # 9. ZeroDivision Error\n",
        "        result = 10 / 0  # Division by zero\n",
        "\n",
        "    except ZeroDivisionError:\n",
        "        print(\"Caught a ZeroDivisionError: Cannot divide by zero.\")\n",
        "\n",
        "    try:\n",
        "        # 10. FileNotFound Error\n",
        "        with open(\"nonexistent_file.txt\", \"r\") as file:\n",
        "            content = file.read()\n",
        "\n",
        "    except FileNotFoundError:\n",
        "        print(\"Caught a FileNotFoundError: File does not exist.\")\n",
        "\n",
        "# Execute the function to see error handling in action.\n",
        "handle_errors()\n"
      ]
    },
    {
      "cell_type": "code",
      "execution_count": null,
      "metadata": {
        "colab": {
          "base_uri": "https://localhost:8080/"
        },
        "id": "cqgQsQS1gm0o",
        "outputId": "e967f788-384c-4a4a-8380-890e7a596e0c"
      },
      "outputs": [
        {
          "name": "stdout",
          "output_type": "stream",
          "text": [
            "can't divide by zero\n",
            "ye hamesha run hoga\n"
          ]
        }
      ],
      "source": [
        "try:\n",
        "  a=10\n",
        "  b=0\n",
        "  c=a/b\n",
        "except ZeroDivisionError:\n",
        "  print(\"can't divide by zero\")\n",
        "except NameError:\n",
        "  print(\"name error\")\n",
        "else:\n",
        "  print(\"division\",c)  #no errror found\n",
        "finally:\n",
        "  print(\"ye hamesha run hoga\")"
      ]
    },
    {
      "cell_type": "code",
      "execution_count": null,
      "metadata": {
        "id": "SVZvBJdOhI3F"
      },
      "outputs": [],
      "source": []
    },
    {
      "cell_type": "markdown",
      "metadata": {
        "id": "OY4AcYkom5yw"
      },
      "source": [
        "#stack"
      ]
    },
    {
      "cell_type": "code",
      "execution_count": null,
      "metadata": {
        "colab": {
          "base_uri": "https://localhost:8080/"
        },
        "id": "CuWyyN8fm9J2",
        "outputId": "b82826cf-3a62-461a-94e5-840fbad0cfd4"
      },
      "outputs": [
        {
          "name": "stdout",
          "output_type": "stream",
          "text": [
            "[10, 20, 30]\n"
          ]
        },
        {
          "data": {
            "text/plain": [
              "30"
            ]
          },
          "execution_count": 44,
          "metadata": {},
          "output_type": "execute_result"
        }
      ],
      "source": [
        "stack=[]  #empty\n",
        "stack.append(10)\n",
        "stack.append(20)\n",
        "stack.append(30)\n",
        "stack.append(40)  #push\n",
        "\n",
        "stack.pop()       #pop\n",
        "print(stack)\n",
        "stack[-1] #top"
      ]
    },
    {
      "cell_type": "code",
      "execution_count": null,
      "metadata": {
        "colab": {
          "background_save": true,
          "base_uri": "https://localhost:8080/"
        },
        "id": "ZaA3SpRjo18X",
        "outputId": "85478021-384d-4d97-ac4a-8a16f51da63a"
      },
      "outputs": [
        {
          "name": "stdout",
          "output_type": "stream",
          "text": [
            "None\n"
          ]
        }
      ],
      "source": [
        "\n",
        "class Stackoperation:\n",
        "  def __init__(self,stack,size):\n",
        "    self.stack=stack\n",
        "    self.size=size\n",
        "\n",
        "  def isfull(self):\n",
        "    if len(self.stack)==self.size:\n",
        "      return True\n",
        "\n",
        "  def isempty(self):\n",
        "    if len(self.stack)<0:\n",
        "      return True\n",
        "\n",
        "  def push(self,value):\n",
        "    if self.isfull():\n",
        "      print(\"stack overflow\")\n",
        "    else:\n",
        "      self.stack.append(value)\n",
        "\n",
        "  def pop(self):\n",
        "    if self.isempty():\n",
        "      print(\"stack is empty\")\n",
        "    else:\n",
        "      self.stack.pop()\n",
        "\n",
        "  def peek(self):\n",
        "    print(\"top element\",self.stack[-1])\n",
        "\n",
        "  def display(self):\n",
        "    print(\"from top to bottom\",self.stack[::-1])\n",
        "\n",
        "\n",
        "S=Stackoperation([],4)\n",
        "\n",
        "while True:\n",
        "  ch=int(input(\"enter\\n1.push\\n2.pop\\n3.peek\\n4.isfull\\n5.isempty\\n6.display\"))\n",
        "  match(ch):\n",
        "    case 1:\n",
        "      S.push(int(input(\"enter any number\")))\n",
        "    case 2:\n",
        "      S.pop()\n",
        "    case 3:\n",
        "      S.peek()\n",
        "    case 4:\n",
        "      print(S.isfull())\n",
        "    case 5:\n",
        "      S.isempty()\n",
        "    case 6:\n",
        "      S.display()\n",
        "    case _:\n",
        "      print(\"invalid choice\")\n",
        "      break\n",
        "\n",
        "\n"
      ]
    },
    {
      "cell_type": "code",
      "execution_count": null,
      "metadata": {
        "id": "4_lwHsu2t3UZ"
      },
      "outputs": [],
      "source": []
    },
    {
      "cell_type": "code",
      "source": [],
      "metadata": {
        "id": "Jb2o0UNaYShJ"
      },
      "execution_count": null,
      "outputs": []
    },
    {
      "cell_type": "markdown",
      "source": [
        "#String"
      ],
      "metadata": {
        "id": "5q1wS3IKYvSm"
      }
    },
    {
      "cell_type": "code",
      "source": [
        "s=\"hello world\"  #sequence data type,indexing\n",
        "print(s)"
      ],
      "metadata": {
        "colab": {
          "base_uri": "https://localhost:8080/"
        },
        "id": "_Gfqsw9LYvnq",
        "outputId": "a376cdd5-bace-496d-f5f8-078f98a7d1bd"
      },
      "execution_count": null,
      "outputs": [
        {
          "output_type": "stream",
          "name": "stdout",
          "text": [
            "hello world\n"
          ]
        }
      ]
    },
    {
      "cell_type": "code",
      "source": [
        "#slicing\n",
        "s[:]"
      ],
      "metadata": {
        "colab": {
          "base_uri": "https://localhost:8080/",
          "height": 36
        },
        "id": "c3Mghs8JY8gI",
        "outputId": "5958ba06-97d2-42b8-a135-281ea7dd64e0"
      },
      "execution_count": null,
      "outputs": [
        {
          "output_type": "execute_result",
          "data": {
            "text/plain": [
              "'hello world'"
            ],
            "application/vnd.google.colaboratory.intrinsic+json": {
              "type": "string"
            }
          },
          "metadata": {},
          "execution_count": 2
        }
      ]
    },
    {
      "cell_type": "code",
      "source": [
        "s[1:]"
      ],
      "metadata": {
        "colab": {
          "base_uri": "https://localhost:8080/",
          "height": 36
        },
        "id": "mz0IubknZC0d",
        "outputId": "c2a6e3b7-d622-48e0-8a27-894202aeeddd"
      },
      "execution_count": null,
      "outputs": [
        {
          "output_type": "execute_result",
          "data": {
            "text/plain": [
              "'ello world'"
            ],
            "application/vnd.google.colaboratory.intrinsic+json": {
              "type": "string"
            }
          },
          "metadata": {},
          "execution_count": 3
        }
      ]
    },
    {
      "cell_type": "code",
      "source": [
        "s[:-1]"
      ],
      "metadata": {
        "colab": {
          "base_uri": "https://localhost:8080/",
          "height": 36
        },
        "id": "1VQ4bUF3ZIvD",
        "outputId": "65d69528-2635-41f2-ba3b-ec1b77a9e957"
      },
      "execution_count": null,
      "outputs": [
        {
          "output_type": "execute_result",
          "data": {
            "text/plain": [
              "'hello worl'"
            ],
            "application/vnd.google.colaboratory.intrinsic+json": {
              "type": "string"
            }
          },
          "metadata": {},
          "execution_count": 4
        }
      ]
    },
    {
      "cell_type": "code",
      "source": [
        "s[-2]"
      ],
      "metadata": {
        "colab": {
          "base_uri": "https://localhost:8080/",
          "height": 36
        },
        "id": "cGTBZ7NpZLfG",
        "outputId": "4d66a656-ffb5-452a-d422-0d402ef89b35"
      },
      "execution_count": null,
      "outputs": [
        {
          "output_type": "execute_result",
          "data": {
            "text/plain": [
              "'l'"
            ],
            "application/vnd.google.colaboratory.intrinsic+json": {
              "type": "string"
            }
          },
          "metadata": {},
          "execution_count": 5
        }
      ]
    },
    {
      "cell_type": "code",
      "source": [
        "s[::2]"
      ],
      "metadata": {
        "colab": {
          "base_uri": "https://localhost:8080/",
          "height": 36
        },
        "id": "dd2x3cGtZOqG",
        "outputId": "a3670eea-3f6c-417b-a5a1-89a1374a4f2c"
      },
      "execution_count": null,
      "outputs": [
        {
          "output_type": "execute_result",
          "data": {
            "text/plain": [
              "'hlowrd'"
            ],
            "application/vnd.google.colaboratory.intrinsic+json": {
              "type": "string"
            }
          },
          "metadata": {},
          "execution_count": 6
        }
      ]
    },
    {
      "cell_type": "code",
      "source": [
        "s=\"Delhi IS capital of india\"\n",
        "print(s.lower())\n",
        "print(s.upper())\n",
        "print(s.capitalize())\n",
        "print(s.title())\n"
      ],
      "metadata": {
        "colab": {
          "base_uri": "https://localhost:8080/"
        },
        "id": "TKIoNUV_ZT8f",
        "outputId": "7efe9a38-c8b2-4411-9766-129689ec2df9"
      },
      "execution_count": null,
      "outputs": [
        {
          "output_type": "stream",
          "name": "stdout",
          "text": [
            "delhi is capital of india\n",
            "DELHI IS CAPITAL OF INDIA\n",
            "Delhi is capital of india\n",
            "Delhi Is Capital Of India\n"
          ]
        }
      ]
    },
    {
      "cell_type": "code",
      "source": [
        "s=int(input(\"enter the s\"))\n",
        "type(s)"
      ],
      "metadata": {
        "colab": {
          "base_uri": "https://localhost:8080/"
        },
        "id": "kuKdLiUEZmj9",
        "outputId": "7c9e5eb6-0a1a-4322-a45f-bab72bd233a3"
      },
      "execution_count": null,
      "outputs": [
        {
          "name": "stdout",
          "output_type": "stream",
          "text": [
            "enter the s12233\n"
          ]
        },
        {
          "output_type": "execute_result",
          "data": {
            "text/plain": [
              "int"
            ]
          },
          "metadata": {},
          "execution_count": 13
        }
      ]
    },
    {
      "cell_type": "code",
      "source": [
        "s=\"raj\"\n",
        "print(int(s))"
      ],
      "metadata": {
        "id": "Cnhm6leWaL36"
      },
      "execution_count": null,
      "outputs": []
    },
    {
      "cell_type": "code",
      "source": [
        "n=1234\n",
        "print(type(str(n)))"
      ],
      "metadata": {
        "colab": {
          "base_uri": "https://localhost:8080/"
        },
        "id": "4-qHLeIvaf-O",
        "outputId": "a1966967-1070-43d5-b061-2c06d31f4f38"
      },
      "execution_count": null,
      "outputs": [
        {
          "output_type": "stream",
          "name": "stdout",
          "text": [
            "<class 'str'>\n"
          ]
        }
      ]
    },
    {
      "cell_type": "code",
      "source": [
        "s=\"delhi\"\n",
        "print(s.islower())\n",
        "print(s.isupper())"
      ],
      "metadata": {
        "colab": {
          "base_uri": "https://localhost:8080/"
        },
        "id": "afPj_kfyakor",
        "outputId": "860d8796-c3dd-4c7c-e1d3-e828eda8349f"
      },
      "execution_count": null,
      "outputs": [
        {
          "output_type": "stream",
          "name": "stdout",
          "text": [
            "True\n",
            "False\n"
          ]
        }
      ]
    },
    {
      "cell_type": "code",
      "source": [
        "s=\"delhi is capital of india\"\n",
        "print(\"-\".join(s))"
      ],
      "metadata": {
        "colab": {
          "base_uri": "https://localhost:8080/"
        },
        "id": "sbauNTc3au1Y",
        "outputId": "ccd66930-6766-43ff-f760-6b55ee70976c"
      },
      "execution_count": null,
      "outputs": [
        {
          "output_type": "stream",
          "name": "stdout",
          "text": [
            "d-e-l-h-i- -i-s- -c-a-p-i-t-a-l- -o-f- -i-n-d-i-a\n"
          ]
        }
      ]
    },
    {
      "cell_type": "code",
      "source": [
        "s=\"delhi is capital of india\"\n",
        "print(s.split())\n"
      ],
      "metadata": {
        "colab": {
          "base_uri": "https://localhost:8080/"
        },
        "id": "Vf5uNUcubKOo",
        "outputId": "18dc6c5f-b554-4357-d5ad-461e7f2513c6"
      },
      "execution_count": null,
      "outputs": [
        {
          "output_type": "stream",
          "name": "stdout",
          "text": [
            "['delhi', 'is', 'capital', 'of', 'india']\n"
          ]
        }
      ]
    },
    {
      "cell_type": "code",
      "source": [
        "s=\"           delhi is capital of india \"\n",
        "print(s.strip())"
      ],
      "metadata": {
        "colab": {
          "base_uri": "https://localhost:8080/"
        },
        "id": "9T51PaBkbrei",
        "outputId": "e1234a13-ed85-480f-bbd8-c3b401e76e08"
      },
      "execution_count": null,
      "outputs": [
        {
          "output_type": "stream",
          "name": "stdout",
          "text": [
            "delhi is capital of india\n"
          ]
        }
      ]
    },
    {
      "cell_type": "code",
      "source": [
        "s=\"delhi is capital of india\"\n",
        "for i in range(len(s)):\n",
        "  print(i,s[i])"
      ],
      "metadata": {
        "colab": {
          "base_uri": "https://localhost:8080/"
        },
        "id": "4xfvSt6qcE6I",
        "outputId": "010afcc9-2871-414e-e449-e5211e6c83af"
      },
      "execution_count": null,
      "outputs": [
        {
          "output_type": "stream",
          "name": "stdout",
          "text": [
            "0 d\n",
            "1 e\n",
            "2 l\n",
            "3 h\n",
            "4 i\n",
            "5  \n",
            "6 i\n",
            "7 s\n",
            "8  \n",
            "9 c\n",
            "10 a\n",
            "11 p\n",
            "12 i\n",
            "13 t\n",
            "14 a\n",
            "15 l\n",
            "16  \n",
            "17 o\n",
            "18 f\n",
            "19  \n",
            "20 i\n",
            "21 n\n",
            "22 d\n",
            "23 i\n",
            "24 a\n"
          ]
        }
      ]
    },
    {
      "cell_type": "code",
      "source": [
        "s=\"delhi is capital of india\"\n",
        "s.count(\"i\")"
      ],
      "metadata": {
        "colab": {
          "base_uri": "https://localhost:8080/"
        },
        "id": "sSGKZ2Cgccse",
        "outputId": "45b2b6d4-ee89-4075-e4e8-696580d02572"
      },
      "execution_count": null,
      "outputs": [
        {
          "output_type": "execute_result",
          "data": {
            "text/plain": [
              "5"
            ]
          },
          "metadata": {},
          "execution_count": 31
        }
      ]
    },
    {
      "cell_type": "code",
      "source": [
        "len(s)"
      ],
      "metadata": {
        "colab": {
          "base_uri": "https://localhost:8080/"
        },
        "id": "swZGwL93clbD",
        "outputId": "51bfc152-324b-468a-946e-bc0799cb53ea"
      },
      "execution_count": null,
      "outputs": [
        {
          "output_type": "execute_result",
          "data": {
            "text/plain": [
              "25"
            ]
          },
          "metadata": {},
          "execution_count": 32
        }
      ]
    },
    {
      "cell_type": "code",
      "source": [
        "s.find(\"c\")"
      ],
      "metadata": {
        "colab": {
          "base_uri": "https://localhost:8080/"
        },
        "id": "kRFiVcUXcqSB",
        "outputId": "1d697c10-f100-4e66-ec7b-f5dfac38ef62"
      },
      "execution_count": null,
      "outputs": [
        {
          "output_type": "execute_result",
          "data": {
            "text/plain": [
              "9"
            ]
          },
          "metadata": {},
          "execution_count": 33
        }
      ]
    },
    {
      "cell_type": "code",
      "source": [
        "s[::-1]"
      ],
      "metadata": {
        "colab": {
          "base_uri": "https://localhost:8080/",
          "height": 36
        },
        "id": "m0k4fQT5ct-5",
        "outputId": "c6e53ff6-a816-498c-ba11-804f0c251ece"
      },
      "execution_count": null,
      "outputs": [
        {
          "output_type": "execute_result",
          "data": {
            "text/plain": [
              "'aidni fo latipac si ihled'"
            ],
            "application/vnd.google.colaboratory.intrinsic+json": {
              "type": "string"
            }
          },
          "metadata": {},
          "execution_count": 34
        }
      ]
    },
    {
      "cell_type": "code",
      "source": [
        "s=\"delhi is capital of india\"\n",
        "t=\"\"\n",
        "for c in range(len(s)-1,-1,-1):\n",
        "  t+=s[c]\n",
        "\n",
        "print(t)"
      ],
      "metadata": {
        "colab": {
          "base_uri": "https://localhost:8080/"
        },
        "id": "WLxxZQAddDXd",
        "outputId": "41621320-e427-4966-8c30-4b488ef86175"
      },
      "execution_count": null,
      "outputs": [
        {
          "output_type": "stream",
          "name": "stdout",
          "text": [
            "aidni fo latipac si ihled\n"
          ]
        }
      ]
    },
    {
      "cell_type": "code",
      "source": [
        "s=\"123\"\n",
        "print(s.isalnum())"
      ],
      "metadata": {
        "colab": {
          "base_uri": "https://localhost:8080/"
        },
        "id": "kxpP66LgeBCN",
        "outputId": "f3aae942-c49c-42ac-c091-039812b8bca9"
      },
      "execution_count": null,
      "outputs": [
        {
          "output_type": "stream",
          "name": "stdout",
          "text": [
            "True\n"
          ]
        }
      ]
    },
    {
      "cell_type": "code",
      "source": [],
      "metadata": {
        "id": "DuDiD1auo6RI"
      },
      "execution_count": null,
      "outputs": []
    },
    {
      "cell_type": "code",
      "source": [
        "def bubblesort(arr):\n",
        "  for i in range(len(arr)):\n",
        "    for j in range(0,len(arr)-1):\n",
        "      if arr[j]>arr[j+1]:\n",
        "        arr[j],arr[j+1]=arr[j+1],arr[j]\n",
        "arr=[13,14,11,2,6,78,40]\n",
        "bubblesort(arr)\n",
        "print(\"array:\",arr)"
      ],
      "metadata": {
        "colab": {
          "base_uri": "https://localhost:8080/"
        },
        "id": "2eAswwPReatm",
        "outputId": "13754fef-5815-4204-f421-bd9e91b46c53"
      },
      "execution_count": null,
      "outputs": [
        {
          "output_type": "stream",
          "name": "stdout",
          "text": [
            "array: [2, 6, 11, 13, 14, 40, 78]\n"
          ]
        }
      ]
    },
    {
      "cell_type": "code",
      "source": [
        "def merge_sort(arr):\n",
        "    if len(arr) <= 1:\n",
        "        return arr  # Base case\n",
        "\n",
        "    mid = len(arr) // 2\n",
        "    left = merge_sort(arr[:mid])   # Sort left half\n",
        "    right = merge_sort(arr[mid:])  # Sort right half\n",
        "\n",
        "    return merge(left, right)\n",
        "\n",
        "def merge(left, right):\n",
        "    result = []\n",
        "    i = j = 0\n",
        "\n",
        "    # Merge both halves\n",
        "    while i < len(left) and j < len(right):\n",
        "        if left[i] < right[j]:\n",
        "            result.append(left[i])\n",
        "            i += 1\n",
        "        else:\n",
        "            result.append(right[j])\n",
        "            j += 1\n",
        "\n",
        "    # Add remaining elements\n",
        "    result += left[i:]\n",
        "    result += right[j:]\n",
        "    return result\n",
        "\n",
        "# Example usage\n",
        "arr = [34, 12, 76, 23, 45, 10, 67, 89]\n",
        "sorted_arr = merge_sort(arr)\n",
        "print(\"Sorted Array:\", sorted_arr)"
      ],
      "metadata": {
        "id": "UtUGHhfdpCUZ"
      },
      "execution_count": null,
      "outputs": []
    },
    {
      "cell_type": "code",
      "source": [
        "def insertion_sort(arr):\n",
        "    for i in range(1, len(arr)):\n",
        "        key = arr[i]\n",
        "        j = i - 1\n",
        "\n",
        "        while j >= 0 and key < arr[j]:\n",
        "            arr[j + 1] = arr[j]\n",
        "            j -= 1\n",
        "\n",
        "        arr[j + 1] = key\n",
        "\n",
        "arr=[13,1,23,11,8,90]\n",
        "insertion_sort(arr)\n",
        "print(\"Sorted array:\", arr)"
      ],
      "metadata": {
        "colab": {
          "base_uri": "https://localhost:8080/"
        },
        "id": "1Lwh72VyxYru",
        "outputId": "2342730d-9695-49c2-8c2b-f677f2d8ea87"
      },
      "execution_count": null,
      "outputs": [
        {
          "output_type": "stream",
          "name": "stdout",
          "text": [
            "Sorted array: [1, 8, 11, 13, 23, 90]\n"
          ]
        }
      ]
    },
    {
      "cell_type": "code",
      "source": [
        " arr=[1,2,3]\n",
        " arr[1]=10\n",
        " print(arr)"
      ],
      "metadata": {
        "colab": {
          "base_uri": "https://localhost:8080/"
        },
        "id": "U7qL79YmxdEx",
        "outputId": "81f45b51-2bf1-47c9-dbda-117311e75fc7"
      },
      "execution_count": null,
      "outputs": [
        {
          "output_type": "stream",
          "name": "stdout",
          "text": [
            "[1, 10, 3]\n"
          ]
        }
      ]
    },
    {
      "cell_type": "code",
      "source": [
        "#prefix sum:\n",
        "arr=[1,3,5,9]\n",
        "for i in range(1,len(arr)):\n",
        "  arr[i]=arr[i] +arr[i-1]\n",
        "\n",
        "print(arr)"
      ],
      "metadata": {
        "colab": {
          "base_uri": "https://localhost:8080/"
        },
        "id": "n5Ayn4Gj8fJg",
        "outputId": "2a5590ea-5f3d-4680-c6c0-55031f6c5500"
      },
      "execution_count": null,
      "outputs": [
        {
          "output_type": "stream",
          "name": "stdout",
          "text": [
            "[1, 4, 9, 18]\n"
          ]
        }
      ]
    },
    {
      "cell_type": "code",
      "source": [
        "#lamda function\n",
        "\n",
        "add=lambda a,b: a+b\n",
        "add(2,3)"
      ],
      "metadata": {
        "id": "N1ZROb0g897t",
        "colab": {
          "base_uri": "https://localhost:8080/"
        },
        "outputId": "883e22ce-4197-45e3-9435-9d19107dad52"
      },
      "execution_count": null,
      "outputs": [
        {
          "output_type": "execute_result",
          "data": {
            "text/plain": [
              "5"
            ]
          },
          "metadata": {},
          "execution_count": 1
        }
      ]
    },
    {
      "cell_type": "code",
      "source": [
        "square=lambda x : x**2\n",
        "square(2)"
      ],
      "metadata": {
        "colab": {
          "base_uri": "https://localhost:8080/"
        },
        "id": "K5AIHJfFssCQ",
        "outputId": "2fa0842c-4a9d-40ac-8f1d-eba256347c51"
      },
      "execution_count": null,
      "outputs": [
        {
          "output_type": "execute_result",
          "data": {
            "text/plain": [
              "4"
            ]
          },
          "metadata": {},
          "execution_count": 2
        }
      ]
    },
    {
      "cell_type": "code",
      "source": [
        "# list comprehension:\n",
        "lst=[i for i in range(4)]\n",
        "print(lst)"
      ],
      "metadata": {
        "colab": {
          "base_uri": "https://localhost:8080/"
        },
        "id": "d2FZsBiys2ZD",
        "outputId": "70ac520d-b59c-4c76-aaf9-b81e50041895"
      },
      "execution_count": null,
      "outputs": [
        {
          "output_type": "stream",
          "name": "stdout",
          "text": [
            "[0, 1, 2, 3]\n"
          ]
        }
      ]
    },
    {
      "cell_type": "code",
      "source": [
        "# list comprehension:\n",
        "lst=[i**2 for i in range(11)]\n",
        "print(lst)"
      ],
      "metadata": {
        "colab": {
          "base_uri": "https://localhost:8080/"
        },
        "id": "UAuyFcQJtLfG",
        "outputId": "7a1fc130-3711-4c4c-c31d-c56f3a391f66"
      },
      "execution_count": null,
      "outputs": [
        {
          "output_type": "stream",
          "name": "stdout",
          "text": [
            "[0, 1, 4, 9, 16, 25, 36, 49, 64, 81, 100]\n"
          ]
        }
      ]
    },
    {
      "cell_type": "code",
      "source": [
        "lst=[i for i in range(1,11,2)]\n",
        "print(lst)"
      ],
      "metadata": {
        "colab": {
          "base_uri": "https://localhost:8080/"
        },
        "id": "ZIP-0qTntZiw",
        "outputId": "8f21b909-a35b-4272-d78e-236100292ec1"
      },
      "execution_count": null,
      "outputs": [
        {
          "output_type": "stream",
          "name": "stdout",
          "text": [
            "[1, 3, 5, 7, 9]\n"
          ]
        }
      ]
    },
    {
      "cell_type": "code",
      "source": [
        "# list comprehension:\n",
        "lst=[i for i in range(10) if i%2==0]\n",
        "print(lst)"
      ],
      "metadata": {
        "colab": {
          "base_uri": "https://localhost:8080/"
        },
        "id": "omibCQsYtnFr",
        "outputId": "6256cea0-f31e-48a6-a4b8-e25d462935fd"
      },
      "execution_count": null,
      "outputs": [
        {
          "output_type": "stream",
          "name": "stdout",
          "text": [
            "[0, 2, 4, 6, 8]\n"
          ]
        }
      ]
    },
    {
      "cell_type": "code",
      "source": [
        "lst=[\"even\" if i%2==0 else \"odd\" for i in range(10)]\n",
        "print(lst)"
      ],
      "metadata": {
        "colab": {
          "base_uri": "https://localhost:8080/"
        },
        "id": "uMkBW7fYtwok",
        "outputId": "a26e4454-471d-40ac-ccac-d87f99f325ac"
      },
      "execution_count": null,
      "outputs": [
        {
          "output_type": "stream",
          "name": "stdout",
          "text": [
            "['even', 'odd', 'even', 'odd', 'even', 'odd', 'even', 'odd', 'even', 'odd']\n"
          ]
        }
      ]
    },
    {
      "cell_type": "code",
      "source": [
        "def findeven(arr):\n",
        "  return\n",
        "\n",
        "arr=[1,2,3,4,5]\n",
        "findeven(arr)"
      ],
      "metadata": {
        "id": "eOvMVEHBunQ0"
      },
      "execution_count": null,
      "outputs": []
    },
    {
      "cell_type": "code",
      "source": [
        "def greedy_coin_change(coins, amount):\n",
        "    coins.sort(reverse=True)\n",
        "    result = []\n",
        "    for coin in coins:\n",
        "        while amount >= coin:\n",
        "            amount -= coin\n",
        "            result.append(coin)\n",
        "    return result\n",
        "\n",
        "coins = [1, 5, 10, 25]\n",
        "amount = 63\n",
        "solution = greedy_coin_change(coins, amount)\n",
        "print(\"Coins used:\", solution)\n",
        "print(\"Total coins:\",len(solution))"
      ],
      "metadata": {
        "id": "tDXylrCwzHR_",
        "outputId": "f0ea4532-d0a7-4380-ed18-105974d10d4a",
        "colab": {
          "base_uri": "https://localhost:8080/"
        }
      },
      "execution_count": null,
      "outputs": [
        {
          "output_type": "stream",
          "name": "stdout",
          "text": [
            "Coins used: [25, 25, 10, 1, 1, 1]\n",
            "Total coins: 6\n"
          ]
        }
      ]
    },
    {
      "cell_type": "code",
      "source": [
        "from collections import deque\n",
        "\n",
        "def bfs(graph, start):\n",
        "    visited = set()\n",
        "    queue = deque([start])\n",
        "\n",
        "    while queue:\n",
        "        node = queue.popleft()\n",
        "        if node not in visited:\n",
        "            print(node, end=\" \")\n",
        "            visited.add(node)\n",
        "            for neighbor in graph[node]:\n",
        "                if neighbor not in visited:\n",
        "                    queue.append(neighbor)\n",
        "\n",
        "graph = {\n",
        "    'A': ['B', 'C'],\n",
        "    'B': ['D'],\n",
        "    'C': ['E'],\n",
        "    'D': [],\n",
        "    'E': []\n",
        "}\n",
        "\n",
        "print(\"BFS Traversal:\")\n",
        "bfs(graph, 'A')\n"
      ],
      "metadata": {
        "id": "gnkfkU-czILU",
        "colab": {
          "base_uri": "https://localhost:8080/"
        },
        "outputId": "60727ad0-e7ab-419b-bc34-31a4dd2ef0be"
      },
      "execution_count": null,
      "outputs": [
        {
          "output_type": "stream",
          "name": "stdout",
          "text": [
            "BFS Traversal:\n",
            "A B C D E "
          ]
        }
      ]
    },
    {
      "cell_type": "code",
      "source": [],
      "metadata": {
        "id": "onKXtI2ixmMO"
      },
      "execution_count": null,
      "outputs": []
    },
    {
      "cell_type": "code",
      "source": [
        "def dfs(graph, node, visited=None):\n",
        "    if visited is None:\n",
        "        visited = set()\n",
        "\n",
        "    if node not in visited:\n",
        "        print(node, end=\" \")\n",
        "        visited.add(node)\n",
        "\n",
        "        for neighbor in graph[node]:\n",
        "            dfs(graph, neighbor, visited)\n",
        "\n",
        "graph = {\n",
        "    'A': ['B', 'C'],\n",
        "    'B': ['D'],\n",
        "    'C': ['E'],\n",
        "    'D': [],\n",
        "    'E': []\n",
        "}\n",
        "\n",
        "print(\"DFS Traversal:\")\n",
        "dfs(graph, 'A')\n"
      ],
      "metadata": {
        "colab": {
          "base_uri": "https://localhost:8080/"
        },
        "id": "LHyE1-vIyGVY",
        "outputId": "7df27fcd-81d6-45b9-f073-afde1cd8a10f"
      },
      "execution_count": null,
      "outputs": [
        {
          "output_type": "stream",
          "name": "stdout",
          "text": [
            "DFS Traversal:\n",
            "A B D C E "
          ]
        }
      ]
    },
    {
      "cell_type": "code",
      "source": [
        "def dfs_iterative(graph, start):\n",
        "    visited = set()\n",
        "    stack = [start]\n",
        "\n",
        "    while stack:\n",
        "        node = stack.pop()\n",
        "        if node not in visited:\n",
        "            print(node, end=\" \")\n",
        "            visited.add(node)\n",
        "\n",
        "            # Push neighbors in reverse order for left-to-right DFS\n",
        "            for neighbor in reversed(graph[node]):\n",
        "                if neighbor not in visited:\n",
        "                    stack.append(neighbor)\n",
        "\n",
        "graph = {\n",
        "    'A': ['B', 'C'],\n",
        "    'B': ['D'],\n",
        "    'C': ['E'],\n",
        "    'D': [],\n",
        "    'E': []\n",
        "}\n",
        "\n",
        "print(\"DFS Traversal (Iterative):\")\n",
        "dfs_iterative(graph, 'A')\n"
      ],
      "metadata": {
        "colab": {
          "base_uri": "https://localhost:8080/"
        },
        "id": "H5m9I5W7yHbN",
        "outputId": "08fdaee3-e2d8-462d-8ee1-ee2a20e7bf9f"
      },
      "execution_count": null,
      "outputs": [
        {
          "output_type": "stream",
          "name": "stdout",
          "text": [
            "DFS Traversal (Iterative):\n",
            "A B D C E "
          ]
        }
      ]
    },
    {
      "cell_type": "code",
      "source": [],
      "metadata": {
        "id": "yv9k8Wfr1oIW"
      },
      "execution_count": null,
      "outputs": []
    }
  ],
  "metadata": {
    "colab": {
      "provenance": [],
      "include_colab_link": true
    },
    "kernelspec": {
      "display_name": "Python 3",
      "name": "python3"
    },
    "language_info": {
      "name": "python"
    }
  },
  "nbformat": 4,
  "nbformat_minor": 0
}